{
  "nbformat": 4,
  "nbformat_minor": 0,
  "metadata": {
    "colab": {
      "provenance": [],
      "collapsed_sections": [
        "PhCL6HcVws5F",
        "qusH4lPyw45g",
        "rLdIfv22ISBK",
        "tPZRc1e-eyyO",
        "Ituk9wA4Idib",
        "gf13HrPPJeWT",
        "jBW4BUhWTsnm",
        "ghwEJY2e7INB",
        "QgbzJKk7Tsnr",
        "rKgJpSA9vOOL",
        "23tnRUJJxWTR",
        "57b31de5",
        "c2fd66f5",
        "df9e28ba",
        "f1696941",
        "5U56oSNsR-F2"
      ],
      "toc_visible": true
    },
    "kernelspec": {
      "name": "python3",
      "display_name": "Python 3"
    },
    "language_info": {
      "name": "python"
    }
  },
  "cells": [
    {
      "cell_type": "markdown",
      "source": [
        "# **Music Recommendation System**"
      ],
      "metadata": {
        "id": "LX3j4xoNvM3A"
      }
    },
    {
      "cell_type": "markdown",
      "source": [
        "## by **Seungeun Lee**"
      ],
      "metadata": {
        "id": "aZrzc3RFyYxm"
      }
    },
    {
      "cell_type": "markdown",
      "source": [
        "## **Problem Definition**\n",
        "\n",
        "**The context:** Why is this problem important to solve?<br>\n",
        "- Improve users' efficiency\n",
        "- Help listeners to discover artists based on their preference\n",
        "- Give artists opportunities to find listeners even if they are not top ranked <br> \n",
        "\n",
        "**The objectives:** What is the intended goal?<br>\n",
        "- Build a system that recommends best songs to customers <br> \n",
        "  - Explore the data\n",
        "  - Compare recommendation systems built by different algorithms\n",
        "  - Choose the best system that recommends the best song customers would like <br> \n",
        "\n",
        "**The key questions:** What are the key questions that need to be answered?<br>\n",
        "- How many interactions are observed? \n",
        "- Which recommendation system performs the best? \n",
        "- Which songs are recommended for a certain user? \n",
        "- Which users are recommended to listen to a certain song? <br> \n",
        "\n",
        "**The problem formulation:** What are we trying to solve using data science? <br> \n",
        "- We are trying to provide data-based evidence on designing a system <br> \n",
        "- Data can be used to study users' preference and improve user expereince <br> \n",
        "- The performance of the recommendation system can be tested using the data \n",
        "<br> <br>"
      ],
      "metadata": {
        "id": "B2np7pj2zFDU"
      }
    },
    {
      "cell_type": "markdown",
      "source": [
        "## **Data Dictionary**\n",
        "\n",
        "The core data is the Taste Profile Subset released by the Echo Nest as part of the Million Song Dataset. There are two files in this dataset. The first file contains the details about the song id, titles, release, artist name, and the year of release. The second file contains the user id, song id, and the play count of users.\n",
        "\n",
        "song_data\n",
        "\n",
        "song_id - A unique id given to every song\n",
        "\n",
        "title - Title of the song\n",
        "\n",
        "Release - Name of the released album\n",
        "\n",
        "Artist_name - Name of the artist \n",
        "\n",
        "year - Year of release\n",
        "\n",
        "count_data\n",
        "\n",
        "user _id - A unique id given to the user\n",
        "\n",
        "song_id - A unique id given to the song\n",
        "\n",
        "play_count - Number of times the song was played \n",
        "<br> <br>\n",
        "\n",
        "## **Data Source**\n",
        "http://millionsongdataset.com/"
      ],
      "metadata": {
        "id": "FUdEG1x3vyct"
      }
    },
    {
      "cell_type": "markdown",
      "source": [
        "### **Importing Libraries and the Dataset**"
      ],
      "metadata": {
        "id": "-xTm81mMvZtq"
      }
    },
    {
      "cell_type": "code",
      "source": [
        "# Mounting the drive\n",
        "from google.colab import drive\n",
        "drive.mount('/content/drive')"
      ],
      "metadata": {
        "id": "qF4kXT0yv3ZE",
        "colab": {
          "base_uri": "https://localhost:8080/"
        },
        "outputId": "1333d909-9574-416c-ac04-83c3724823cd"
      },
      "execution_count": 2,
      "outputs": [
        {
          "output_type": "stream",
          "name": "stdout",
          "text": [
            "Mounted at /content/drive\n"
          ]
        }
      ]
    },
    {
      "cell_type": "code",
      "source": [
        "# Used to ignore the warning given as output of the code\n",
        "import warnings\n",
        "warnings.filterwarnings('ignore')\n",
        "\n",
        "# Basic libraries of python for numeric and dataframe computations\n",
        "import numpy as np\n",
        "import pandas as pd\n",
        "\n",
        "# Basic library for data visualization\n",
        "import matplotlib.pyplot as plt\n",
        "\n",
        "# Slightly advanced library for data visualization\n",
        "import seaborn as sns\n",
        "\n",
        "# To compute the cosine similarity between two vectors\n",
        "from sklearn.metrics.pairwise import cosine_similarity\n",
        "\n",
        "# A dictionary output that does not raise a key error\n",
        "from collections import defaultdict\n",
        "\n",
        "# A performance metrics in sklearn\n",
        "from sklearn.metrics import mean_squared_error"
      ],
      "metadata": {
        "id": "fDvQ776hv4un"
      },
      "execution_count": 3,
      "outputs": []
    },
    {
      "cell_type": "markdown",
      "source": [
        "### **Load the dataset**"
      ],
      "metadata": {
        "id": "ckE2td9UwBqz"
      }
    },
    {
      "cell_type": "code",
      "source": [
        "# Importing the datasets ## Change directory!\n",
        "count_df = pd.read_csv('/content/drive/MyDrive/Data_science/count_data.csv')\n",
        "song_df = pd.read_csv('/content/drive/MyDrive/Data_science/song_data.csv')"
      ],
      "metadata": {
        "id": "ihzCrsVJv78y"
      },
      "execution_count": 4,
      "outputs": []
    },
    {
      "cell_type": "markdown",
      "source": [
        "### **Understanding the data by viewing a few observations**"
      ],
      "metadata": {
        "id": "RO09msbMwDFV"
      }
    },
    {
      "cell_type": "code",
      "source": [
        "# See top 10 records of count_df data\n",
        "count_df.head(10)"
      ],
      "metadata": {
        "id": "5cr_5dSZwGMn",
        "colab": {
          "base_uri": "https://localhost:8080/",
          "height": 363
        },
        "outputId": "e047e5b3-4f53-46e2-9300-9d1f91b35df3"
      },
      "execution_count": 5,
      "outputs": [
        {
          "output_type": "execute_result",
          "data": {
            "text/plain": [
              "   Unnamed: 0                                   user_id             song_id  \\\n",
              "0           0  b80344d063b5ccb3212f76538f3d9e43d87dca9e  SOAKIMP12A8C130995   \n",
              "1           1  b80344d063b5ccb3212f76538f3d9e43d87dca9e  SOBBMDR12A8C13253B   \n",
              "2           2  b80344d063b5ccb3212f76538f3d9e43d87dca9e  SOBXHDL12A81C204C0   \n",
              "3           3  b80344d063b5ccb3212f76538f3d9e43d87dca9e  SOBYHAJ12A6701BF1D   \n",
              "4           4  b80344d063b5ccb3212f76538f3d9e43d87dca9e  SODACBL12A8C13C273   \n",
              "5           5  b80344d063b5ccb3212f76538f3d9e43d87dca9e  SODDNQT12A6D4F5F7E   \n",
              "6           6  b80344d063b5ccb3212f76538f3d9e43d87dca9e  SODXRTY12AB0180F3B   \n",
              "7           7  b80344d063b5ccb3212f76538f3d9e43d87dca9e  SOFGUAY12AB017B0A8   \n",
              "8           8  b80344d063b5ccb3212f76538f3d9e43d87dca9e  SOFRQTD12A81C233C0   \n",
              "9           9  b80344d063b5ccb3212f76538f3d9e43d87dca9e  SOHQWYZ12A6D4FA701   \n",
              "\n",
              "   play_count  \n",
              "0           1  \n",
              "1           2  \n",
              "2           1  \n",
              "3           1  \n",
              "4           1  \n",
              "5           5  \n",
              "6           1  \n",
              "7           1  \n",
              "8           1  \n",
              "9           1  "
            ],
            "text/html": [
              "\n",
              "  <div id=\"df-86a9d1d9-f1f1-4f46-8584-2fb6838dbf5a\">\n",
              "    <div class=\"colab-df-container\">\n",
              "      <div>\n",
              "<style scoped>\n",
              "    .dataframe tbody tr th:only-of-type {\n",
              "        vertical-align: middle;\n",
              "    }\n",
              "\n",
              "    .dataframe tbody tr th {\n",
              "        vertical-align: top;\n",
              "    }\n",
              "\n",
              "    .dataframe thead th {\n",
              "        text-align: right;\n",
              "    }\n",
              "</style>\n",
              "<table border=\"1\" class=\"dataframe\">\n",
              "  <thead>\n",
              "    <tr style=\"text-align: right;\">\n",
              "      <th></th>\n",
              "      <th>Unnamed: 0</th>\n",
              "      <th>user_id</th>\n",
              "      <th>song_id</th>\n",
              "      <th>play_count</th>\n",
              "    </tr>\n",
              "  </thead>\n",
              "  <tbody>\n",
              "    <tr>\n",
              "      <th>0</th>\n",
              "      <td>0</td>\n",
              "      <td>b80344d063b5ccb3212f76538f3d9e43d87dca9e</td>\n",
              "      <td>SOAKIMP12A8C130995</td>\n",
              "      <td>1</td>\n",
              "    </tr>\n",
              "    <tr>\n",
              "      <th>1</th>\n",
              "      <td>1</td>\n",
              "      <td>b80344d063b5ccb3212f76538f3d9e43d87dca9e</td>\n",
              "      <td>SOBBMDR12A8C13253B</td>\n",
              "      <td>2</td>\n",
              "    </tr>\n",
              "    <tr>\n",
              "      <th>2</th>\n",
              "      <td>2</td>\n",
              "      <td>b80344d063b5ccb3212f76538f3d9e43d87dca9e</td>\n",
              "      <td>SOBXHDL12A81C204C0</td>\n",
              "      <td>1</td>\n",
              "    </tr>\n",
              "    <tr>\n",
              "      <th>3</th>\n",
              "      <td>3</td>\n",
              "      <td>b80344d063b5ccb3212f76538f3d9e43d87dca9e</td>\n",
              "      <td>SOBYHAJ12A6701BF1D</td>\n",
              "      <td>1</td>\n",
              "    </tr>\n",
              "    <tr>\n",
              "      <th>4</th>\n",
              "      <td>4</td>\n",
              "      <td>b80344d063b5ccb3212f76538f3d9e43d87dca9e</td>\n",
              "      <td>SODACBL12A8C13C273</td>\n",
              "      <td>1</td>\n",
              "    </tr>\n",
              "    <tr>\n",
              "      <th>5</th>\n",
              "      <td>5</td>\n",
              "      <td>b80344d063b5ccb3212f76538f3d9e43d87dca9e</td>\n",
              "      <td>SODDNQT12A6D4F5F7E</td>\n",
              "      <td>5</td>\n",
              "    </tr>\n",
              "    <tr>\n",
              "      <th>6</th>\n",
              "      <td>6</td>\n",
              "      <td>b80344d063b5ccb3212f76538f3d9e43d87dca9e</td>\n",
              "      <td>SODXRTY12AB0180F3B</td>\n",
              "      <td>1</td>\n",
              "    </tr>\n",
              "    <tr>\n",
              "      <th>7</th>\n",
              "      <td>7</td>\n",
              "      <td>b80344d063b5ccb3212f76538f3d9e43d87dca9e</td>\n",
              "      <td>SOFGUAY12AB017B0A8</td>\n",
              "      <td>1</td>\n",
              "    </tr>\n",
              "    <tr>\n",
              "      <th>8</th>\n",
              "      <td>8</td>\n",
              "      <td>b80344d063b5ccb3212f76538f3d9e43d87dca9e</td>\n",
              "      <td>SOFRQTD12A81C233C0</td>\n",
              "      <td>1</td>\n",
              "    </tr>\n",
              "    <tr>\n",
              "      <th>9</th>\n",
              "      <td>9</td>\n",
              "      <td>b80344d063b5ccb3212f76538f3d9e43d87dca9e</td>\n",
              "      <td>SOHQWYZ12A6D4FA701</td>\n",
              "      <td>1</td>\n",
              "    </tr>\n",
              "  </tbody>\n",
              "</table>\n",
              "</div>\n",
              "      <button class=\"colab-df-convert\" onclick=\"convertToInteractive('df-86a9d1d9-f1f1-4f46-8584-2fb6838dbf5a')\"\n",
              "              title=\"Convert this dataframe to an interactive table.\"\n",
              "              style=\"display:none;\">\n",
              "        \n",
              "  <svg xmlns=\"http://www.w3.org/2000/svg\" height=\"24px\"viewBox=\"0 0 24 24\"\n",
              "       width=\"24px\">\n",
              "    <path d=\"M0 0h24v24H0V0z\" fill=\"none\"/>\n",
              "    <path d=\"M18.56 5.44l.94 2.06.94-2.06 2.06-.94-2.06-.94-.94-2.06-.94 2.06-2.06.94zm-11 1L8.5 8.5l.94-2.06 2.06-.94-2.06-.94L8.5 2.5l-.94 2.06-2.06.94zm10 10l.94 2.06.94-2.06 2.06-.94-2.06-.94-.94-2.06-.94 2.06-2.06.94z\"/><path d=\"M17.41 7.96l-1.37-1.37c-.4-.4-.92-.59-1.43-.59-.52 0-1.04.2-1.43.59L10.3 9.45l-7.72 7.72c-.78.78-.78 2.05 0 2.83L4 21.41c.39.39.9.59 1.41.59.51 0 1.02-.2 1.41-.59l7.78-7.78 2.81-2.81c.8-.78.8-2.07 0-2.86zM5.41 20L4 18.59l7.72-7.72 1.47 1.35L5.41 20z\"/>\n",
              "  </svg>\n",
              "      </button>\n",
              "      \n",
              "  <style>\n",
              "    .colab-df-container {\n",
              "      display:flex;\n",
              "      flex-wrap:wrap;\n",
              "      gap: 12px;\n",
              "    }\n",
              "\n",
              "    .colab-df-convert {\n",
              "      background-color: #E8F0FE;\n",
              "      border: none;\n",
              "      border-radius: 50%;\n",
              "      cursor: pointer;\n",
              "      display: none;\n",
              "      fill: #1967D2;\n",
              "      height: 32px;\n",
              "      padding: 0 0 0 0;\n",
              "      width: 32px;\n",
              "    }\n",
              "\n",
              "    .colab-df-convert:hover {\n",
              "      background-color: #E2EBFA;\n",
              "      box-shadow: 0px 1px 2px rgba(60, 64, 67, 0.3), 0px 1px 3px 1px rgba(60, 64, 67, 0.15);\n",
              "      fill: #174EA6;\n",
              "    }\n",
              "\n",
              "    [theme=dark] .colab-df-convert {\n",
              "      background-color: #3B4455;\n",
              "      fill: #D2E3FC;\n",
              "    }\n",
              "\n",
              "    [theme=dark] .colab-df-convert:hover {\n",
              "      background-color: #434B5C;\n",
              "      box-shadow: 0px 1px 3px 1px rgba(0, 0, 0, 0.15);\n",
              "      filter: drop-shadow(0px 1px 2px rgba(0, 0, 0, 0.3));\n",
              "      fill: #FFFFFF;\n",
              "    }\n",
              "  </style>\n",
              "\n",
              "      <script>\n",
              "        const buttonEl =\n",
              "          document.querySelector('#df-86a9d1d9-f1f1-4f46-8584-2fb6838dbf5a button.colab-df-convert');\n",
              "        buttonEl.style.display =\n",
              "          google.colab.kernel.accessAllowed ? 'block' : 'none';\n",
              "\n",
              "        async function convertToInteractive(key) {\n",
              "          const element = document.querySelector('#df-86a9d1d9-f1f1-4f46-8584-2fb6838dbf5a');\n",
              "          const dataTable =\n",
              "            await google.colab.kernel.invokeFunction('convertToInteractive',\n",
              "                                                     [key], {});\n",
              "          if (!dataTable) return;\n",
              "\n",
              "          const docLinkHtml = 'Like what you see? Visit the ' +\n",
              "            '<a target=\"_blank\" href=https://colab.research.google.com/notebooks/data_table.ipynb>data table notebook</a>'\n",
              "            + ' to learn more about interactive tables.';\n",
              "          element.innerHTML = '';\n",
              "          dataTable['output_type'] = 'display_data';\n",
              "          await google.colab.output.renderOutput(dataTable, element);\n",
              "          const docLink = document.createElement('div');\n",
              "          docLink.innerHTML = docLinkHtml;\n",
              "          element.appendChild(docLink);\n",
              "        }\n",
              "      </script>\n",
              "    </div>\n",
              "  </div>\n",
              "  "
            ]
          },
          "metadata": {},
          "execution_count": 5
        }
      ]
    },
    {
      "cell_type": "code",
      "source": [
        "# See top 10 records of song_df data\n",
        "song_df.head(10)"
      ],
      "metadata": {
        "id": "ipnwOl3OwH2d",
        "colab": {
          "base_uri": "https://localhost:8080/",
          "height": 459
        },
        "outputId": "5f6e00d7-2212-4881-ae9e-06531e1cada1"
      },
      "execution_count": 6,
      "outputs": [
        {
          "output_type": "execute_result",
          "data": {
            "text/plain": [
              "              song_id                                              title  \\\n",
              "0  SOQMMHC12AB0180CB8                                       Silent Night   \n",
              "1  SOVFVAK12A8C1350D9                                        Tanssi vaan   \n",
              "2  SOGTUKN12AB017F4F1                                  No One Could Ever   \n",
              "3  SOBNYVR12A8C13558C                                      Si Vos Querés   \n",
              "4  SOHSBXH12A8C13B0DF                                   Tangle Of Aspens   \n",
              "5  SOZVAPQ12A8C13B63C  Symphony No. 1 G minor \"Sinfonie Serieuse\"/All...   \n",
              "6  SOQVRHI12A6D4FB2D7                                   We Have Got Love   \n",
              "7  SOEYRFT12AB018936C                                  2 Da Beat Ch'yall   \n",
              "8  SOPMIYT12A6D4F851E                                            Goodbye   \n",
              "9  SOJCFMH12A8C13B0C2                         Mama_ mama can't you see ?   \n",
              "\n",
              "                                release  \\\n",
              "0                 Monster Ballads X-Mas   \n",
              "1                           Karkuteillä   \n",
              "2                                Butter   \n",
              "3                               De Culo   \n",
              "4  Rene Ablaze Presents Winter Sessions   \n",
              "5      Berwald: Symphonies Nos. 1/2/3/4   \n",
              "6             Strictly The Best Vol. 34   \n",
              "7                               Da Bomb   \n",
              "8                             Danny Boy   \n",
              "9  March to cadence with the US marines   \n",
              "\n",
              "                                      artist_name  year  \n",
              "0                                Faster Pussy cat  2003  \n",
              "1                                Karkkiautomaatti  1995  \n",
              "2                                  Hudson Mohawke  2006  \n",
              "3                                     Yerba Brava  2003  \n",
              "4                                      Der Mystic     0  \n",
              "5                                David Montgomery     0  \n",
              "6                              Sasha / Turbulence     0  \n",
              "7                                      Kris Kross  1993  \n",
              "8                                    Joseph Locke     0  \n",
              "9  The Sun Harbor's Chorus-Documentary Recordings     0  "
            ],
            "text/html": [
              "\n",
              "  <div id=\"df-ba1b989a-3b41-4fcc-aad4-65c114971822\">\n",
              "    <div class=\"colab-df-container\">\n",
              "      <div>\n",
              "<style scoped>\n",
              "    .dataframe tbody tr th:only-of-type {\n",
              "        vertical-align: middle;\n",
              "    }\n",
              "\n",
              "    .dataframe tbody tr th {\n",
              "        vertical-align: top;\n",
              "    }\n",
              "\n",
              "    .dataframe thead th {\n",
              "        text-align: right;\n",
              "    }\n",
              "</style>\n",
              "<table border=\"1\" class=\"dataframe\">\n",
              "  <thead>\n",
              "    <tr style=\"text-align: right;\">\n",
              "      <th></th>\n",
              "      <th>song_id</th>\n",
              "      <th>title</th>\n",
              "      <th>release</th>\n",
              "      <th>artist_name</th>\n",
              "      <th>year</th>\n",
              "    </tr>\n",
              "  </thead>\n",
              "  <tbody>\n",
              "    <tr>\n",
              "      <th>0</th>\n",
              "      <td>SOQMMHC12AB0180CB8</td>\n",
              "      <td>Silent Night</td>\n",
              "      <td>Monster Ballads X-Mas</td>\n",
              "      <td>Faster Pussy cat</td>\n",
              "      <td>2003</td>\n",
              "    </tr>\n",
              "    <tr>\n",
              "      <th>1</th>\n",
              "      <td>SOVFVAK12A8C1350D9</td>\n",
              "      <td>Tanssi vaan</td>\n",
              "      <td>Karkuteillä</td>\n",
              "      <td>Karkkiautomaatti</td>\n",
              "      <td>1995</td>\n",
              "    </tr>\n",
              "    <tr>\n",
              "      <th>2</th>\n",
              "      <td>SOGTUKN12AB017F4F1</td>\n",
              "      <td>No One Could Ever</td>\n",
              "      <td>Butter</td>\n",
              "      <td>Hudson Mohawke</td>\n",
              "      <td>2006</td>\n",
              "    </tr>\n",
              "    <tr>\n",
              "      <th>3</th>\n",
              "      <td>SOBNYVR12A8C13558C</td>\n",
              "      <td>Si Vos Querés</td>\n",
              "      <td>De Culo</td>\n",
              "      <td>Yerba Brava</td>\n",
              "      <td>2003</td>\n",
              "    </tr>\n",
              "    <tr>\n",
              "      <th>4</th>\n",
              "      <td>SOHSBXH12A8C13B0DF</td>\n",
              "      <td>Tangle Of Aspens</td>\n",
              "      <td>Rene Ablaze Presents Winter Sessions</td>\n",
              "      <td>Der Mystic</td>\n",
              "      <td>0</td>\n",
              "    </tr>\n",
              "    <tr>\n",
              "      <th>5</th>\n",
              "      <td>SOZVAPQ12A8C13B63C</td>\n",
              "      <td>Symphony No. 1 G minor \"Sinfonie Serieuse\"/All...</td>\n",
              "      <td>Berwald: Symphonies Nos. 1/2/3/4</td>\n",
              "      <td>David Montgomery</td>\n",
              "      <td>0</td>\n",
              "    </tr>\n",
              "    <tr>\n",
              "      <th>6</th>\n",
              "      <td>SOQVRHI12A6D4FB2D7</td>\n",
              "      <td>We Have Got Love</td>\n",
              "      <td>Strictly The Best Vol. 34</td>\n",
              "      <td>Sasha / Turbulence</td>\n",
              "      <td>0</td>\n",
              "    </tr>\n",
              "    <tr>\n",
              "      <th>7</th>\n",
              "      <td>SOEYRFT12AB018936C</td>\n",
              "      <td>2 Da Beat Ch'yall</td>\n",
              "      <td>Da Bomb</td>\n",
              "      <td>Kris Kross</td>\n",
              "      <td>1993</td>\n",
              "    </tr>\n",
              "    <tr>\n",
              "      <th>8</th>\n",
              "      <td>SOPMIYT12A6D4F851E</td>\n",
              "      <td>Goodbye</td>\n",
              "      <td>Danny Boy</td>\n",
              "      <td>Joseph Locke</td>\n",
              "      <td>0</td>\n",
              "    </tr>\n",
              "    <tr>\n",
              "      <th>9</th>\n",
              "      <td>SOJCFMH12A8C13B0C2</td>\n",
              "      <td>Mama_ mama can't you see ?</td>\n",
              "      <td>March to cadence with the US marines</td>\n",
              "      <td>The Sun Harbor's Chorus-Documentary Recordings</td>\n",
              "      <td>0</td>\n",
              "    </tr>\n",
              "  </tbody>\n",
              "</table>\n",
              "</div>\n",
              "      <button class=\"colab-df-convert\" onclick=\"convertToInteractive('df-ba1b989a-3b41-4fcc-aad4-65c114971822')\"\n",
              "              title=\"Convert this dataframe to an interactive table.\"\n",
              "              style=\"display:none;\">\n",
              "        \n",
              "  <svg xmlns=\"http://www.w3.org/2000/svg\" height=\"24px\"viewBox=\"0 0 24 24\"\n",
              "       width=\"24px\">\n",
              "    <path d=\"M0 0h24v24H0V0z\" fill=\"none\"/>\n",
              "    <path d=\"M18.56 5.44l.94 2.06.94-2.06 2.06-.94-2.06-.94-.94-2.06-.94 2.06-2.06.94zm-11 1L8.5 8.5l.94-2.06 2.06-.94-2.06-.94L8.5 2.5l-.94 2.06-2.06.94zm10 10l.94 2.06.94-2.06 2.06-.94-2.06-.94-.94-2.06-.94 2.06-2.06.94z\"/><path d=\"M17.41 7.96l-1.37-1.37c-.4-.4-.92-.59-1.43-.59-.52 0-1.04.2-1.43.59L10.3 9.45l-7.72 7.72c-.78.78-.78 2.05 0 2.83L4 21.41c.39.39.9.59 1.41.59.51 0 1.02-.2 1.41-.59l7.78-7.78 2.81-2.81c.8-.78.8-2.07 0-2.86zM5.41 20L4 18.59l7.72-7.72 1.47 1.35L5.41 20z\"/>\n",
              "  </svg>\n",
              "      </button>\n",
              "      \n",
              "  <style>\n",
              "    .colab-df-container {\n",
              "      display:flex;\n",
              "      flex-wrap:wrap;\n",
              "      gap: 12px;\n",
              "    }\n",
              "\n",
              "    .colab-df-convert {\n",
              "      background-color: #E8F0FE;\n",
              "      border: none;\n",
              "      border-radius: 50%;\n",
              "      cursor: pointer;\n",
              "      display: none;\n",
              "      fill: #1967D2;\n",
              "      height: 32px;\n",
              "      padding: 0 0 0 0;\n",
              "      width: 32px;\n",
              "    }\n",
              "\n",
              "    .colab-df-convert:hover {\n",
              "      background-color: #E2EBFA;\n",
              "      box-shadow: 0px 1px 2px rgba(60, 64, 67, 0.3), 0px 1px 3px 1px rgba(60, 64, 67, 0.15);\n",
              "      fill: #174EA6;\n",
              "    }\n",
              "\n",
              "    [theme=dark] .colab-df-convert {\n",
              "      background-color: #3B4455;\n",
              "      fill: #D2E3FC;\n",
              "    }\n",
              "\n",
              "    [theme=dark] .colab-df-convert:hover {\n",
              "      background-color: #434B5C;\n",
              "      box-shadow: 0px 1px 3px 1px rgba(0, 0, 0, 0.15);\n",
              "      filter: drop-shadow(0px 1px 2px rgba(0, 0, 0, 0.3));\n",
              "      fill: #FFFFFF;\n",
              "    }\n",
              "  </style>\n",
              "\n",
              "      <script>\n",
              "        const buttonEl =\n",
              "          document.querySelector('#df-ba1b989a-3b41-4fcc-aad4-65c114971822 button.colab-df-convert');\n",
              "        buttonEl.style.display =\n",
              "          google.colab.kernel.accessAllowed ? 'block' : 'none';\n",
              "\n",
              "        async function convertToInteractive(key) {\n",
              "          const element = document.querySelector('#df-ba1b989a-3b41-4fcc-aad4-65c114971822');\n",
              "          const dataTable =\n",
              "            await google.colab.kernel.invokeFunction('convertToInteractive',\n",
              "                                                     [key], {});\n",
              "          if (!dataTable) return;\n",
              "\n",
              "          const docLinkHtml = 'Like what you see? Visit the ' +\n",
              "            '<a target=\"_blank\" href=https://colab.research.google.com/notebooks/data_table.ipynb>data table notebook</a>'\n",
              "            + ' to learn more about interactive tables.';\n",
              "          element.innerHTML = '';\n",
              "          dataTable['output_type'] = 'display_data';\n",
              "          await google.colab.output.renderOutput(dataTable, element);\n",
              "          const docLink = document.createElement('div');\n",
              "          docLink.innerHTML = docLinkHtml;\n",
              "          element.appendChild(docLink);\n",
              "        }\n",
              "      </script>\n",
              "    </div>\n",
              "  </div>\n",
              "  "
            ]
          },
          "metadata": {},
          "execution_count": 6
        }
      ]
    },
    {
      "cell_type": "markdown",
      "source": [
        "### **Let us check the data types and and missing values of each column**"
      ],
      "metadata": {
        "id": "vbg8enGawJ8w"
      }
    },
    {
      "cell_type": "code",
      "source": [
        "# See the info of the count_df data\n",
        "count_df.info()"
      ],
      "metadata": {
        "id": "exlmDceXwKi7",
        "colab": {
          "base_uri": "https://localhost:8080/"
        },
        "outputId": "d7853080-6ced-4cfb-c0aa-2d8ed974edf3"
      },
      "execution_count": 7,
      "outputs": [
        {
          "output_type": "stream",
          "name": "stdout",
          "text": [
            "<class 'pandas.core.frame.DataFrame'>\n",
            "RangeIndex: 2000000 entries, 0 to 1999999\n",
            "Data columns (total 4 columns):\n",
            " #   Column      Dtype \n",
            "---  ------      ----- \n",
            " 0   Unnamed: 0  int64 \n",
            " 1   user_id     object\n",
            " 2   song_id     object\n",
            " 3   play_count  int64 \n",
            "dtypes: int64(2), object(2)\n",
            "memory usage: 61.0+ MB\n"
          ]
        }
      ]
    },
    {
      "cell_type": "code",
      "source": [
        "# See the info of the song_df data\n",
        "song_df.info()"
      ],
      "metadata": {
        "id": "bp1E9UhJwQFD",
        "colab": {
          "base_uri": "https://localhost:8080/"
        },
        "outputId": "3b08a71d-301e-4d75-9aae-97094be8dc4f"
      },
      "execution_count": 8,
      "outputs": [
        {
          "output_type": "stream",
          "name": "stdout",
          "text": [
            "<class 'pandas.core.frame.DataFrame'>\n",
            "RangeIndex: 1000000 entries, 0 to 999999\n",
            "Data columns (total 5 columns):\n",
            " #   Column       Non-Null Count    Dtype \n",
            "---  ------       --------------    ----- \n",
            " 0   song_id      1000000 non-null  object\n",
            " 1   title        999985 non-null   object\n",
            " 2   release      999995 non-null   object\n",
            " 3   artist_name  1000000 non-null  object\n",
            " 4   year         1000000 non-null  int64 \n",
            "dtypes: int64(1), object(4)\n",
            "memory usage: 38.1+ MB\n"
          ]
        }
      ]
    },
    {
      "cell_type": "markdown",
      "source": [
        "#### **Observations and Insights:** **\"count_df\"** contatins 4 variables, including \"user_id\", \"song_id\", and \"play_count\". **\"song_df\"** has 5 variables including \"song_id\", \"title\", \"release\", \"artist_name\", and \"year\". The variables are objects except for \"Unnamed: 0\", \"play_count\", and \"year\" which are integers. Since both datasets have **\"song_id\"**, we can merge the datasets using this variable. "
      ],
      "metadata": {
        "id": "c0jcDgkNwRg4"
      }
    },
    {
      "cell_type": "code",
      "source": [
        "# Left merge the count_df and song_df data on \"song_id\". Drop duplicates from song_df data simultaneously\n",
        "merged_df = pd.merge(count_df, song_df, on = 'song_id')\n",
        "# Drop the column 'Unnamed: 0'\n",
        "final_df = merged_df.drop(columns = ['Unnamed: 0'])\n",
        "final_df.head()"
      ],
      "metadata": {
        "id": "yrxrey87wURA",
        "colab": {
          "base_uri": "https://localhost:8080/",
          "height": 206
        },
        "outputId": "712c8671-2d2b-4247-a632-1031ba1405b0"
      },
      "execution_count": 9,
      "outputs": [
        {
          "output_type": "execute_result",
          "data": {
            "text/plain": [
              "                                    user_id             song_id  play_count  \\\n",
              "0  b80344d063b5ccb3212f76538f3d9e43d87dca9e  SOAKIMP12A8C130995           1   \n",
              "1  7c86176941718984fed11b7c0674ff04c029b480  SOAKIMP12A8C130995           1   \n",
              "2  76235885b32c4e8c82760c340dc54f9b608d7d7e  SOAKIMP12A8C130995           3   \n",
              "3  250c0fa2a77bc6695046e7c47882ecd85c42d748  SOAKIMP12A8C130995           1   \n",
              "4  3f73f44560e822344b0fb7c6b463869743eb9860  SOAKIMP12A8C130995           6   \n",
              "\n",
              "      title             release   artist_name  year  \n",
              "0  The Cove  Thicker Than Water  Jack Johnson     0  \n",
              "1  The Cove  Thicker Than Water  Jack Johnson     0  \n",
              "2  The Cove  Thicker Than Water  Jack Johnson     0  \n",
              "3  The Cove  Thicker Than Water  Jack Johnson     0  \n",
              "4  The Cove  Thicker Than Water  Jack Johnson     0  "
            ],
            "text/html": [
              "\n",
              "  <div id=\"df-e6d7bd05-27e0-4260-a476-5f00145614b0\">\n",
              "    <div class=\"colab-df-container\">\n",
              "      <div>\n",
              "<style scoped>\n",
              "    .dataframe tbody tr th:only-of-type {\n",
              "        vertical-align: middle;\n",
              "    }\n",
              "\n",
              "    .dataframe tbody tr th {\n",
              "        vertical-align: top;\n",
              "    }\n",
              "\n",
              "    .dataframe thead th {\n",
              "        text-align: right;\n",
              "    }\n",
              "</style>\n",
              "<table border=\"1\" class=\"dataframe\">\n",
              "  <thead>\n",
              "    <tr style=\"text-align: right;\">\n",
              "      <th></th>\n",
              "      <th>user_id</th>\n",
              "      <th>song_id</th>\n",
              "      <th>play_count</th>\n",
              "      <th>title</th>\n",
              "      <th>release</th>\n",
              "      <th>artist_name</th>\n",
              "      <th>year</th>\n",
              "    </tr>\n",
              "  </thead>\n",
              "  <tbody>\n",
              "    <tr>\n",
              "      <th>0</th>\n",
              "      <td>b80344d063b5ccb3212f76538f3d9e43d87dca9e</td>\n",
              "      <td>SOAKIMP12A8C130995</td>\n",
              "      <td>1</td>\n",
              "      <td>The Cove</td>\n",
              "      <td>Thicker Than Water</td>\n",
              "      <td>Jack Johnson</td>\n",
              "      <td>0</td>\n",
              "    </tr>\n",
              "    <tr>\n",
              "      <th>1</th>\n",
              "      <td>7c86176941718984fed11b7c0674ff04c029b480</td>\n",
              "      <td>SOAKIMP12A8C130995</td>\n",
              "      <td>1</td>\n",
              "      <td>The Cove</td>\n",
              "      <td>Thicker Than Water</td>\n",
              "      <td>Jack Johnson</td>\n",
              "      <td>0</td>\n",
              "    </tr>\n",
              "    <tr>\n",
              "      <th>2</th>\n",
              "      <td>76235885b32c4e8c82760c340dc54f9b608d7d7e</td>\n",
              "      <td>SOAKIMP12A8C130995</td>\n",
              "      <td>3</td>\n",
              "      <td>The Cove</td>\n",
              "      <td>Thicker Than Water</td>\n",
              "      <td>Jack Johnson</td>\n",
              "      <td>0</td>\n",
              "    </tr>\n",
              "    <tr>\n",
              "      <th>3</th>\n",
              "      <td>250c0fa2a77bc6695046e7c47882ecd85c42d748</td>\n",
              "      <td>SOAKIMP12A8C130995</td>\n",
              "      <td>1</td>\n",
              "      <td>The Cove</td>\n",
              "      <td>Thicker Than Water</td>\n",
              "      <td>Jack Johnson</td>\n",
              "      <td>0</td>\n",
              "    </tr>\n",
              "    <tr>\n",
              "      <th>4</th>\n",
              "      <td>3f73f44560e822344b0fb7c6b463869743eb9860</td>\n",
              "      <td>SOAKIMP12A8C130995</td>\n",
              "      <td>6</td>\n",
              "      <td>The Cove</td>\n",
              "      <td>Thicker Than Water</td>\n",
              "      <td>Jack Johnson</td>\n",
              "      <td>0</td>\n",
              "    </tr>\n",
              "  </tbody>\n",
              "</table>\n",
              "</div>\n",
              "      <button class=\"colab-df-convert\" onclick=\"convertToInteractive('df-e6d7bd05-27e0-4260-a476-5f00145614b0')\"\n",
              "              title=\"Convert this dataframe to an interactive table.\"\n",
              "              style=\"display:none;\">\n",
              "        \n",
              "  <svg xmlns=\"http://www.w3.org/2000/svg\" height=\"24px\"viewBox=\"0 0 24 24\"\n",
              "       width=\"24px\">\n",
              "    <path d=\"M0 0h24v24H0V0z\" fill=\"none\"/>\n",
              "    <path d=\"M18.56 5.44l.94 2.06.94-2.06 2.06-.94-2.06-.94-.94-2.06-.94 2.06-2.06.94zm-11 1L8.5 8.5l.94-2.06 2.06-.94-2.06-.94L8.5 2.5l-.94 2.06-2.06.94zm10 10l.94 2.06.94-2.06 2.06-.94-2.06-.94-.94-2.06-.94 2.06-2.06.94z\"/><path d=\"M17.41 7.96l-1.37-1.37c-.4-.4-.92-.59-1.43-.59-.52 0-1.04.2-1.43.59L10.3 9.45l-7.72 7.72c-.78.78-.78 2.05 0 2.83L4 21.41c.39.39.9.59 1.41.59.51 0 1.02-.2 1.41-.59l7.78-7.78 2.81-2.81c.8-.78.8-2.07 0-2.86zM5.41 20L4 18.59l7.72-7.72 1.47 1.35L5.41 20z\"/>\n",
              "  </svg>\n",
              "      </button>\n",
              "      \n",
              "  <style>\n",
              "    .colab-df-container {\n",
              "      display:flex;\n",
              "      flex-wrap:wrap;\n",
              "      gap: 12px;\n",
              "    }\n",
              "\n",
              "    .colab-df-convert {\n",
              "      background-color: #E8F0FE;\n",
              "      border: none;\n",
              "      border-radius: 50%;\n",
              "      cursor: pointer;\n",
              "      display: none;\n",
              "      fill: #1967D2;\n",
              "      height: 32px;\n",
              "      padding: 0 0 0 0;\n",
              "      width: 32px;\n",
              "    }\n",
              "\n",
              "    .colab-df-convert:hover {\n",
              "      background-color: #E2EBFA;\n",
              "      box-shadow: 0px 1px 2px rgba(60, 64, 67, 0.3), 0px 1px 3px 1px rgba(60, 64, 67, 0.15);\n",
              "      fill: #174EA6;\n",
              "    }\n",
              "\n",
              "    [theme=dark] .colab-df-convert {\n",
              "      background-color: #3B4455;\n",
              "      fill: #D2E3FC;\n",
              "    }\n",
              "\n",
              "    [theme=dark] .colab-df-convert:hover {\n",
              "      background-color: #434B5C;\n",
              "      box-shadow: 0px 1px 3px 1px rgba(0, 0, 0, 0.15);\n",
              "      filter: drop-shadow(0px 1px 2px rgba(0, 0, 0, 0.3));\n",
              "      fill: #FFFFFF;\n",
              "    }\n",
              "  </style>\n",
              "\n",
              "      <script>\n",
              "        const buttonEl =\n",
              "          document.querySelector('#df-e6d7bd05-27e0-4260-a476-5f00145614b0 button.colab-df-convert');\n",
              "        buttonEl.style.display =\n",
              "          google.colab.kernel.accessAllowed ? 'block' : 'none';\n",
              "\n",
              "        async function convertToInteractive(key) {\n",
              "          const element = document.querySelector('#df-e6d7bd05-27e0-4260-a476-5f00145614b0');\n",
              "          const dataTable =\n",
              "            await google.colab.kernel.invokeFunction('convertToInteractive',\n",
              "                                                     [key], {});\n",
              "          if (!dataTable) return;\n",
              "\n",
              "          const docLinkHtml = 'Like what you see? Visit the ' +\n",
              "            '<a target=\"_blank\" href=https://colab.research.google.com/notebooks/data_table.ipynb>data table notebook</a>'\n",
              "            + ' to learn more about interactive tables.';\n",
              "          element.innerHTML = '';\n",
              "          dataTable['output_type'] = 'display_data';\n",
              "          await google.colab.output.renderOutput(dataTable, element);\n",
              "          const docLink = document.createElement('div');\n",
              "          docLink.innerHTML = docLinkHtml;\n",
              "          element.appendChild(docLink);\n",
              "        }\n",
              "      </script>\n",
              "    </div>\n",
              "  </div>\n",
              "  "
            ]
          },
          "metadata": {},
          "execution_count": 9
        }
      ]
    },
    {
      "cell_type": "code",
      "source": [
        "# Apply label encoding for \"user_id\" and \"song_id\"\n",
        "final_df[\"user_id\"] = final_df[\"user_id\"].astype('category')\n",
        "final_df[\"user_id\"] = final_df[\"user_id\"].cat.codes \n",
        "\n",
        "final_df[\"song_id\"] = final_df[\"song_id\"].astype('category')\n",
        "final_df[\"song_id\"] = final_df[\"song_id\"].cat.codes \n",
        "\n",
        "final_df.head()"
      ],
      "metadata": {
        "id": "RXPpqf1swWUd",
        "colab": {
          "base_uri": "https://localhost:8080/",
          "height": 206
        },
        "outputId": "456ea7f8-f729-44dd-9de6-269e7c056a90"
      },
      "execution_count": 10,
      "outputs": [
        {
          "output_type": "execute_result",
          "data": {
            "text/plain": [
              "   user_id  song_id  play_count     title             release   artist_name  \\\n",
              "0    54961      153           1  The Cove  Thicker Than Water  Jack Johnson   \n",
              "1    37056      153           1  The Cove  Thicker Than Water  Jack Johnson   \n",
              "2    35091      153           3  The Cove  Thicker Than Water  Jack Johnson   \n",
              "3    10905      153           1  The Cove  Thicker Than Water  Jack Johnson   \n",
              "4    18917      153           6  The Cove  Thicker Than Water  Jack Johnson   \n",
              "\n",
              "   year  \n",
              "0     0  \n",
              "1     0  \n",
              "2     0  \n",
              "3     0  \n",
              "4     0  "
            ],
            "text/html": [
              "\n",
              "  <div id=\"df-6f338c65-a220-450f-b33e-dc314d21fea9\">\n",
              "    <div class=\"colab-df-container\">\n",
              "      <div>\n",
              "<style scoped>\n",
              "    .dataframe tbody tr th:only-of-type {\n",
              "        vertical-align: middle;\n",
              "    }\n",
              "\n",
              "    .dataframe tbody tr th {\n",
              "        vertical-align: top;\n",
              "    }\n",
              "\n",
              "    .dataframe thead th {\n",
              "        text-align: right;\n",
              "    }\n",
              "</style>\n",
              "<table border=\"1\" class=\"dataframe\">\n",
              "  <thead>\n",
              "    <tr style=\"text-align: right;\">\n",
              "      <th></th>\n",
              "      <th>user_id</th>\n",
              "      <th>song_id</th>\n",
              "      <th>play_count</th>\n",
              "      <th>title</th>\n",
              "      <th>release</th>\n",
              "      <th>artist_name</th>\n",
              "      <th>year</th>\n",
              "    </tr>\n",
              "  </thead>\n",
              "  <tbody>\n",
              "    <tr>\n",
              "      <th>0</th>\n",
              "      <td>54961</td>\n",
              "      <td>153</td>\n",
              "      <td>1</td>\n",
              "      <td>The Cove</td>\n",
              "      <td>Thicker Than Water</td>\n",
              "      <td>Jack Johnson</td>\n",
              "      <td>0</td>\n",
              "    </tr>\n",
              "    <tr>\n",
              "      <th>1</th>\n",
              "      <td>37056</td>\n",
              "      <td>153</td>\n",
              "      <td>1</td>\n",
              "      <td>The Cove</td>\n",
              "      <td>Thicker Than Water</td>\n",
              "      <td>Jack Johnson</td>\n",
              "      <td>0</td>\n",
              "    </tr>\n",
              "    <tr>\n",
              "      <th>2</th>\n",
              "      <td>35091</td>\n",
              "      <td>153</td>\n",
              "      <td>3</td>\n",
              "      <td>The Cove</td>\n",
              "      <td>Thicker Than Water</td>\n",
              "      <td>Jack Johnson</td>\n",
              "      <td>0</td>\n",
              "    </tr>\n",
              "    <tr>\n",
              "      <th>3</th>\n",
              "      <td>10905</td>\n",
              "      <td>153</td>\n",
              "      <td>1</td>\n",
              "      <td>The Cove</td>\n",
              "      <td>Thicker Than Water</td>\n",
              "      <td>Jack Johnson</td>\n",
              "      <td>0</td>\n",
              "    </tr>\n",
              "    <tr>\n",
              "      <th>4</th>\n",
              "      <td>18917</td>\n",
              "      <td>153</td>\n",
              "      <td>6</td>\n",
              "      <td>The Cove</td>\n",
              "      <td>Thicker Than Water</td>\n",
              "      <td>Jack Johnson</td>\n",
              "      <td>0</td>\n",
              "    </tr>\n",
              "  </tbody>\n",
              "</table>\n",
              "</div>\n",
              "      <button class=\"colab-df-convert\" onclick=\"convertToInteractive('df-6f338c65-a220-450f-b33e-dc314d21fea9')\"\n",
              "              title=\"Convert this dataframe to an interactive table.\"\n",
              "              style=\"display:none;\">\n",
              "        \n",
              "  <svg xmlns=\"http://www.w3.org/2000/svg\" height=\"24px\"viewBox=\"0 0 24 24\"\n",
              "       width=\"24px\">\n",
              "    <path d=\"M0 0h24v24H0V0z\" fill=\"none\"/>\n",
              "    <path d=\"M18.56 5.44l.94 2.06.94-2.06 2.06-.94-2.06-.94-.94-2.06-.94 2.06-2.06.94zm-11 1L8.5 8.5l.94-2.06 2.06-.94-2.06-.94L8.5 2.5l-.94 2.06-2.06.94zm10 10l.94 2.06.94-2.06 2.06-.94-2.06-.94-.94-2.06-.94 2.06-2.06.94z\"/><path d=\"M17.41 7.96l-1.37-1.37c-.4-.4-.92-.59-1.43-.59-.52 0-1.04.2-1.43.59L10.3 9.45l-7.72 7.72c-.78.78-.78 2.05 0 2.83L4 21.41c.39.39.9.59 1.41.59.51 0 1.02-.2 1.41-.59l7.78-7.78 2.81-2.81c.8-.78.8-2.07 0-2.86zM5.41 20L4 18.59l7.72-7.72 1.47 1.35L5.41 20z\"/>\n",
              "  </svg>\n",
              "      </button>\n",
              "      \n",
              "  <style>\n",
              "    .colab-df-container {\n",
              "      display:flex;\n",
              "      flex-wrap:wrap;\n",
              "      gap: 12px;\n",
              "    }\n",
              "\n",
              "    .colab-df-convert {\n",
              "      background-color: #E8F0FE;\n",
              "      border: none;\n",
              "      border-radius: 50%;\n",
              "      cursor: pointer;\n",
              "      display: none;\n",
              "      fill: #1967D2;\n",
              "      height: 32px;\n",
              "      padding: 0 0 0 0;\n",
              "      width: 32px;\n",
              "    }\n",
              "\n",
              "    .colab-df-convert:hover {\n",
              "      background-color: #E2EBFA;\n",
              "      box-shadow: 0px 1px 2px rgba(60, 64, 67, 0.3), 0px 1px 3px 1px rgba(60, 64, 67, 0.15);\n",
              "      fill: #174EA6;\n",
              "    }\n",
              "\n",
              "    [theme=dark] .colab-df-convert {\n",
              "      background-color: #3B4455;\n",
              "      fill: #D2E3FC;\n",
              "    }\n",
              "\n",
              "    [theme=dark] .colab-df-convert:hover {\n",
              "      background-color: #434B5C;\n",
              "      box-shadow: 0px 1px 3px 1px rgba(0, 0, 0, 0.15);\n",
              "      filter: drop-shadow(0px 1px 2px rgba(0, 0, 0, 0.3));\n",
              "      fill: #FFFFFF;\n",
              "    }\n",
              "  </style>\n",
              "\n",
              "      <script>\n",
              "        const buttonEl =\n",
              "          document.querySelector('#df-6f338c65-a220-450f-b33e-dc314d21fea9 button.colab-df-convert');\n",
              "        buttonEl.style.display =\n",
              "          google.colab.kernel.accessAllowed ? 'block' : 'none';\n",
              "\n",
              "        async function convertToInteractive(key) {\n",
              "          const element = document.querySelector('#df-6f338c65-a220-450f-b33e-dc314d21fea9');\n",
              "          const dataTable =\n",
              "            await google.colab.kernel.invokeFunction('convertToInteractive',\n",
              "                                                     [key], {});\n",
              "          if (!dataTable) return;\n",
              "\n",
              "          const docLinkHtml = 'Like what you see? Visit the ' +\n",
              "            '<a target=\"_blank\" href=https://colab.research.google.com/notebooks/data_table.ipynb>data table notebook</a>'\n",
              "            + ' to learn more about interactive tables.';\n",
              "          element.innerHTML = '';\n",
              "          dataTable['output_type'] = 'display_data';\n",
              "          await google.colab.output.renderOutput(dataTable, element);\n",
              "          const docLink = document.createElement('div');\n",
              "          docLink.innerHTML = docLinkHtml;\n",
              "          element.appendChild(docLink);\n",
              "        }\n",
              "      </script>\n",
              "    </div>\n",
              "  </div>\n",
              "  "
            ]
          },
          "metadata": {},
          "execution_count": 10
        }
      ]
    },
    {
      "cell_type": "code",
      "source": [
        "# Get the column containing the users\n",
        "users = final_df.user_id\n",
        "\n",
        "# Create a dictionary from users to their number of songs\n",
        "ratings_count = dict()\n",
        "\n",
        "for user in users:\n",
        "    # If we already have the user, just add 1 to their rating count\n",
        "    if user in ratings_count:\n",
        "        ratings_count[user] += 1\n",
        "    \n",
        "    # Otherwise, set their rating count to 1\n",
        "    else:\n",
        "        ratings_count[user] = 1   "
      ],
      "metadata": {
        "id": "zVvV3jJmwZEn"
      },
      "execution_count": 11,
      "outputs": []
    },
    {
      "cell_type": "code",
      "source": [
        "# We want our users to have listened at least 90 songs\n",
        "RATINGS_CUTOFF = 90\n",
        "\n",
        "# Create a list of users who need to be removed\n",
        "remove_users = []\n",
        "\n",
        "for user, num_ratings in ratings_count.items():\n",
        "    \n",
        "    if num_ratings < RATINGS_CUTOFF:\n",
        "        remove_users.append(user)\n",
        "\n",
        "final_df = final_df.loc[ ~ final_df.user_id.isin(remove_users)]"
      ],
      "metadata": {
        "id": "erlV9-KGwamn"
      },
      "execution_count": 12,
      "outputs": []
    },
    {
      "cell_type": "code",
      "source": [
        "# Get the column containing the songs\n",
        "songs = final_df.song_id\n",
        "\n",
        "# Create a dictionary from songs to their number of users\n",
        "ratings_count = dict()\n",
        "\n",
        "for song in songs:\n",
        "    # If we already have the song, just add 1 to their rating count\n",
        "    if song in ratings_count:\n",
        "        ratings_count[song] += 1\n",
        "    \n",
        "    # Otherwise, set their rating count to 1\n",
        "    else:\n",
        "        ratings_count[song] = 1    "
      ],
      "metadata": {
        "id": "5F6q9v52wb9y"
      },
      "execution_count": 13,
      "outputs": []
    },
    {
      "cell_type": "code",
      "source": [
        "# We want our song to be listened by atleast 120 users to be considred\n",
        "RATINGS_CUTOFF = 120\n",
        "\n",
        "remove_songs = []\n",
        "\n",
        "for song, num_ratings in ratings_count.items():\n",
        "    if num_ratings < RATINGS_CUTOFF:\n",
        "        remove_songs.append(song)\n",
        "\n",
        "df_final= final_df.loc[ ~ final_df.song_id.isin(remove_songs)]"
      ],
      "metadata": {
        "id": "qnisVc0ywdox"
      },
      "execution_count": 14,
      "outputs": []
    },
    {
      "cell_type": "code",
      "source": [
        "df_final[\"play_count\"].value_counts()"
      ],
      "metadata": {
        "id": "FFVnDK-DwfVw",
        "colab": {
          "base_uri": "https://localhost:8080/"
        },
        "outputId": "27f414af-adf3-49d6-ea7e-d95c32c45476"
      },
      "execution_count": 15,
      "outputs": [
        {
          "output_type": "execute_result",
          "data": {
            "text/plain": [
              "1      95800\n",
              "2      30953\n",
              "3      13863\n",
              "4       7591\n",
              "5       6170\n",
              "       ...  \n",
              "405        1\n",
              "175        1\n",
              "114        1\n",
              "271        1\n",
              "135        1\n",
              "Name: play_count, Length: 130, dtype: int64"
            ]
          },
          "metadata": {},
          "execution_count": 15
        }
      ]
    },
    {
      "cell_type": "code",
      "source": [
        "# Keep records with play_count more than(>) 1\n",
        "df_final = df_final.drop(df_final.index[df_final['play_count'] < 2])\n",
        "df_final.sort_values(by = 'play_count', ascending = False)\n"
      ],
      "metadata": {
        "id": "RtgoHlbkwhCx",
        "colab": {
          "base_uri": "https://localhost:8080/",
          "height": 424
        },
        "outputId": "a64f8e68-d5ba-4700-abb5-a5285e09b7f6"
      },
      "execution_count": 16,
      "outputs": [
        {
          "output_type": "execute_result",
          "data": {
            "text/plain": [
              "         user_id  song_id  play_count                          title  \\\n",
              "298372      2685     4545         405               I'll Be Your Man   \n",
              "70004      31692      614         271                 You're The One   \n",
              "149706     32364       97         215  Harder Better Faster Stronger   \n",
              "914513      2403     5399         206  Strut (1993 Digital Remaster)   \n",
              "100322     62759     7416         194                        Revelry   \n",
              "...          ...      ...         ...                            ...   \n",
              "434967      9190     5169           2            White Winter Hymnal   \n",
              "435006      5077     5169           2            White Winter Hymnal   \n",
              "435040     68733     5169           2            White Winter Hymnal   \n",
              "435063     17328     5169           2            White Winter Hymnal   \n",
              "2051821    24740     5365           2               Synchronicity II   \n",
              "\n",
              "                                          release     artist_name  year  \n",
              "298372                            The Big Come Up  The Black Keys  2002  \n",
              "70004                          If There Was A Way   Dwight Yoakam  1990  \n",
              "149706                                  Discovery       Daft Punk  2007  \n",
              "914513   The World Of Sheena Easton - The Singles   Sheena Easton     0  \n",
              "100322                          Only By The Night   Kings Of Leon  2008  \n",
              "...                                           ...             ...   ...  \n",
              "434967                        White Winter Hymnal     Fleet Foxes  2008  \n",
              "435006                        White Winter Hymnal     Fleet Foxes  2008  \n",
              "435040                        White Winter Hymnal     Fleet Foxes  2008  \n",
              "435063                        White Winter Hymnal     Fleet Foxes  2008  \n",
              "2051821                                The Police      The Police  1983  \n",
              "\n",
              "[74414 rows x 7 columns]"
            ],
            "text/html": [
              "\n",
              "  <div id=\"df-366bfbea-f7da-4b41-be79-59b8c45fe32c\">\n",
              "    <div class=\"colab-df-container\">\n",
              "      <div>\n",
              "<style scoped>\n",
              "    .dataframe tbody tr th:only-of-type {\n",
              "        vertical-align: middle;\n",
              "    }\n",
              "\n",
              "    .dataframe tbody tr th {\n",
              "        vertical-align: top;\n",
              "    }\n",
              "\n",
              "    .dataframe thead th {\n",
              "        text-align: right;\n",
              "    }\n",
              "</style>\n",
              "<table border=\"1\" class=\"dataframe\">\n",
              "  <thead>\n",
              "    <tr style=\"text-align: right;\">\n",
              "      <th></th>\n",
              "      <th>user_id</th>\n",
              "      <th>song_id</th>\n",
              "      <th>play_count</th>\n",
              "      <th>title</th>\n",
              "      <th>release</th>\n",
              "      <th>artist_name</th>\n",
              "      <th>year</th>\n",
              "    </tr>\n",
              "  </thead>\n",
              "  <tbody>\n",
              "    <tr>\n",
              "      <th>298372</th>\n",
              "      <td>2685</td>\n",
              "      <td>4545</td>\n",
              "      <td>405</td>\n",
              "      <td>I'll Be Your Man</td>\n",
              "      <td>The Big Come Up</td>\n",
              "      <td>The Black Keys</td>\n",
              "      <td>2002</td>\n",
              "    </tr>\n",
              "    <tr>\n",
              "      <th>70004</th>\n",
              "      <td>31692</td>\n",
              "      <td>614</td>\n",
              "      <td>271</td>\n",
              "      <td>You're The One</td>\n",
              "      <td>If There Was A Way</td>\n",
              "      <td>Dwight Yoakam</td>\n",
              "      <td>1990</td>\n",
              "    </tr>\n",
              "    <tr>\n",
              "      <th>149706</th>\n",
              "      <td>32364</td>\n",
              "      <td>97</td>\n",
              "      <td>215</td>\n",
              "      <td>Harder Better Faster Stronger</td>\n",
              "      <td>Discovery</td>\n",
              "      <td>Daft Punk</td>\n",
              "      <td>2007</td>\n",
              "    </tr>\n",
              "    <tr>\n",
              "      <th>914513</th>\n",
              "      <td>2403</td>\n",
              "      <td>5399</td>\n",
              "      <td>206</td>\n",
              "      <td>Strut (1993 Digital Remaster)</td>\n",
              "      <td>The World Of Sheena Easton - The Singles</td>\n",
              "      <td>Sheena Easton</td>\n",
              "      <td>0</td>\n",
              "    </tr>\n",
              "    <tr>\n",
              "      <th>100322</th>\n",
              "      <td>62759</td>\n",
              "      <td>7416</td>\n",
              "      <td>194</td>\n",
              "      <td>Revelry</td>\n",
              "      <td>Only By The Night</td>\n",
              "      <td>Kings Of Leon</td>\n",
              "      <td>2008</td>\n",
              "    </tr>\n",
              "    <tr>\n",
              "      <th>...</th>\n",
              "      <td>...</td>\n",
              "      <td>...</td>\n",
              "      <td>...</td>\n",
              "      <td>...</td>\n",
              "      <td>...</td>\n",
              "      <td>...</td>\n",
              "      <td>...</td>\n",
              "    </tr>\n",
              "    <tr>\n",
              "      <th>434967</th>\n",
              "      <td>9190</td>\n",
              "      <td>5169</td>\n",
              "      <td>2</td>\n",
              "      <td>White Winter Hymnal</td>\n",
              "      <td>White Winter Hymnal</td>\n",
              "      <td>Fleet Foxes</td>\n",
              "      <td>2008</td>\n",
              "    </tr>\n",
              "    <tr>\n",
              "      <th>435006</th>\n",
              "      <td>5077</td>\n",
              "      <td>5169</td>\n",
              "      <td>2</td>\n",
              "      <td>White Winter Hymnal</td>\n",
              "      <td>White Winter Hymnal</td>\n",
              "      <td>Fleet Foxes</td>\n",
              "      <td>2008</td>\n",
              "    </tr>\n",
              "    <tr>\n",
              "      <th>435040</th>\n",
              "      <td>68733</td>\n",
              "      <td>5169</td>\n",
              "      <td>2</td>\n",
              "      <td>White Winter Hymnal</td>\n",
              "      <td>White Winter Hymnal</td>\n",
              "      <td>Fleet Foxes</td>\n",
              "      <td>2008</td>\n",
              "    </tr>\n",
              "    <tr>\n",
              "      <th>435063</th>\n",
              "      <td>17328</td>\n",
              "      <td>5169</td>\n",
              "      <td>2</td>\n",
              "      <td>White Winter Hymnal</td>\n",
              "      <td>White Winter Hymnal</td>\n",
              "      <td>Fleet Foxes</td>\n",
              "      <td>2008</td>\n",
              "    </tr>\n",
              "    <tr>\n",
              "      <th>2051821</th>\n",
              "      <td>24740</td>\n",
              "      <td>5365</td>\n",
              "      <td>2</td>\n",
              "      <td>Synchronicity II</td>\n",
              "      <td>The Police</td>\n",
              "      <td>The Police</td>\n",
              "      <td>1983</td>\n",
              "    </tr>\n",
              "  </tbody>\n",
              "</table>\n",
              "<p>74414 rows × 7 columns</p>\n",
              "</div>\n",
              "      <button class=\"colab-df-convert\" onclick=\"convertToInteractive('df-366bfbea-f7da-4b41-be79-59b8c45fe32c')\"\n",
              "              title=\"Convert this dataframe to an interactive table.\"\n",
              "              style=\"display:none;\">\n",
              "        \n",
              "  <svg xmlns=\"http://www.w3.org/2000/svg\" height=\"24px\"viewBox=\"0 0 24 24\"\n",
              "       width=\"24px\">\n",
              "    <path d=\"M0 0h24v24H0V0z\" fill=\"none\"/>\n",
              "    <path d=\"M18.56 5.44l.94 2.06.94-2.06 2.06-.94-2.06-.94-.94-2.06-.94 2.06-2.06.94zm-11 1L8.5 8.5l.94-2.06 2.06-.94-2.06-.94L8.5 2.5l-.94 2.06-2.06.94zm10 10l.94 2.06.94-2.06 2.06-.94-2.06-.94-.94-2.06-.94 2.06-2.06.94z\"/><path d=\"M17.41 7.96l-1.37-1.37c-.4-.4-.92-.59-1.43-.59-.52 0-1.04.2-1.43.59L10.3 9.45l-7.72 7.72c-.78.78-.78 2.05 0 2.83L4 21.41c.39.39.9.59 1.41.59.51 0 1.02-.2 1.41-.59l7.78-7.78 2.81-2.81c.8-.78.8-2.07 0-2.86zM5.41 20L4 18.59l7.72-7.72 1.47 1.35L5.41 20z\"/>\n",
              "  </svg>\n",
              "      </button>\n",
              "      \n",
              "  <style>\n",
              "    .colab-df-container {\n",
              "      display:flex;\n",
              "      flex-wrap:wrap;\n",
              "      gap: 12px;\n",
              "    }\n",
              "\n",
              "    .colab-df-convert {\n",
              "      background-color: #E8F0FE;\n",
              "      border: none;\n",
              "      border-radius: 50%;\n",
              "      cursor: pointer;\n",
              "      display: none;\n",
              "      fill: #1967D2;\n",
              "      height: 32px;\n",
              "      padding: 0 0 0 0;\n",
              "      width: 32px;\n",
              "    }\n",
              "\n",
              "    .colab-df-convert:hover {\n",
              "      background-color: #E2EBFA;\n",
              "      box-shadow: 0px 1px 2px rgba(60, 64, 67, 0.3), 0px 1px 3px 1px rgba(60, 64, 67, 0.15);\n",
              "      fill: #174EA6;\n",
              "    }\n",
              "\n",
              "    [theme=dark] .colab-df-convert {\n",
              "      background-color: #3B4455;\n",
              "      fill: #D2E3FC;\n",
              "    }\n",
              "\n",
              "    [theme=dark] .colab-df-convert:hover {\n",
              "      background-color: #434B5C;\n",
              "      box-shadow: 0px 1px 3px 1px rgba(0, 0, 0, 0.15);\n",
              "      filter: drop-shadow(0px 1px 2px rgba(0, 0, 0, 0.3));\n",
              "      fill: #FFFFFF;\n",
              "    }\n",
              "  </style>\n",
              "\n",
              "      <script>\n",
              "        const buttonEl =\n",
              "          document.querySelector('#df-366bfbea-f7da-4b41-be79-59b8c45fe32c button.colab-df-convert');\n",
              "        buttonEl.style.display =\n",
              "          google.colab.kernel.accessAllowed ? 'block' : 'none';\n",
              "\n",
              "        async function convertToInteractive(key) {\n",
              "          const element = document.querySelector('#df-366bfbea-f7da-4b41-be79-59b8c45fe32c');\n",
              "          const dataTable =\n",
              "            await google.colab.kernel.invokeFunction('convertToInteractive',\n",
              "                                                     [key], {});\n",
              "          if (!dataTable) return;\n",
              "\n",
              "          const docLinkHtml = 'Like what you see? Visit the ' +\n",
              "            '<a target=\"_blank\" href=https://colab.research.google.com/notebooks/data_table.ipynb>data table notebook</a>'\n",
              "            + ' to learn more about interactive tables.';\n",
              "          element.innerHTML = '';\n",
              "          dataTable['output_type'] = 'display_data';\n",
              "          await google.colab.output.renderOutput(dataTable, element);\n",
              "          const docLink = document.createElement('div');\n",
              "          docLink.innerHTML = docLinkHtml;\n",
              "          element.appendChild(docLink);\n",
              "        }\n",
              "      </script>\n",
              "    </div>\n",
              "  </div>\n",
              "  "
            ]
          },
          "metadata": {},
          "execution_count": 16
        }
      ]
    },
    {
      "cell_type": "code",
      "source": [
        "# Check the shape of the data\n",
        "df_final.shape"
      ],
      "metadata": {
        "id": "KDmYmoRQwnAi",
        "colab": {
          "base_uri": "https://localhost:8080/"
        },
        "outputId": "437a1a8d-6636-4e2a-d733-e690e1a43e61"
      },
      "execution_count": 17,
      "outputs": [
        {
          "output_type": "execute_result",
          "data": {
            "text/plain": [
              "(74414, 7)"
            ]
          },
          "metadata": {},
          "execution_count": 17
        }
      ]
    },
    {
      "cell_type": "markdown",
      "source": [
        "## **Exploratory Data Analysis**"
      ],
      "metadata": {
        "id": "faLW3P8awojr"
      }
    },
    {
      "cell_type": "markdown",
      "source": [
        "### **Let's check the total number of unique users, songs, artists in the data**"
      ],
      "metadata": {
        "id": "PhCL6HcVws5F"
      }
    },
    {
      "cell_type": "markdown",
      "source": [
        "Total number of unique user id"
      ],
      "metadata": {
        "id": "OwJKmvGJwu-U"
      }
    },
    {
      "cell_type": "code",
      "source": [
        "# Display total number of unique user_id\n",
        "df_final['user_id'].nunique()"
      ],
      "metadata": {
        "id": "PuCNePO4wxph",
        "colab": {
          "base_uri": "https://localhost:8080/"
        },
        "outputId": "a83cef1d-db7d-40bb-ea19-7e6293daa3f3"
      },
      "execution_count": 18,
      "outputs": [
        {
          "output_type": "execute_result",
          "data": {
            "text/plain": [
              "3442"
            ]
          },
          "metadata": {},
          "execution_count": 18
        }
      ]
    },
    {
      "cell_type": "markdown",
      "source": [
        "Total number of unique song id"
      ],
      "metadata": {
        "id": "9KgYjqe_wyrV"
      }
    },
    {
      "cell_type": "code",
      "source": [
        "# Display total number of unique song_id\n",
        "df_final['song_id'].nunique()"
      ],
      "metadata": {
        "id": "BZuRV6i3w0x6",
        "colab": {
          "base_uri": "https://localhost:8080/"
        },
        "outputId": "b2240720-e544-4722-8e94-9ce86bc3091b"
      },
      "execution_count": 19,
      "outputs": [
        {
          "output_type": "execute_result",
          "data": {
            "text/plain": [
              "695"
            ]
          },
          "metadata": {},
          "execution_count": 19
        }
      ]
    },
    {
      "cell_type": "markdown",
      "metadata": {
        "id": "eGXPsCjXVpUW"
      },
      "source": [
        "Total number of unique artists"
      ]
    },
    {
      "cell_type": "code",
      "source": [
        "# Display total number of unique artists \n",
        "df_final['artist_name'].nunique()"
      ],
      "metadata": {
        "id": "WhgiXY_Fw15h",
        "colab": {
          "base_uri": "https://localhost:8080/"
        },
        "outputId": "6b4befa2-53da-4839-eb53-2c9e0d1dd6d8"
      },
      "execution_count": 20,
      "outputs": [
        {
          "output_type": "execute_result",
          "data": {
            "text/plain": [
              "258"
            ]
          },
          "metadata": {},
          "execution_count": 20
        }
      ]
    },
    {
      "cell_type": "markdown",
      "source": [
        "#### **Observations and Insights:** I dropped song **that are played only once**. To build a recommendation system that is based on a large database, I kept the other songs. The final data have **3,442 unique users** and **695** unique songs, while including **258 unique artists**. It indicates that **each artist has more than two songs**, on average. \n"
      ],
      "metadata": {
        "id": "qusH4lPyw45g"
      }
    },
    {
      "cell_type": "markdown",
      "metadata": {
        "id": "rLdIfv22ISBK"
      },
      "source": [
        "### **Let's find out about the most interacted songs and interacted users**"
      ]
    },
    {
      "cell_type": "markdown",
      "metadata": {
        "id": "W3DyN_8atsCx"
      },
      "source": [
        "Most interacted songs"
      ]
    },
    {
      "cell_type": "code",
      "source": [
        "df_final['song_id'].value_counts()"
      ],
      "metadata": {
        "id": "wMgmDq-ExAcT",
        "colab": {
          "base_uri": "https://localhost:8080/"
        },
        "outputId": "9b132a5e-c803-4797-d2f2-060b95f5c33c"
      },
      "execution_count": 21,
      "outputs": [
        {
          "output_type": "execute_result",
          "data": {
            "text/plain": [
              "8582    1076\n",
              "352      773\n",
              "2220     699\n",
              "6293     696\n",
              "5531     643\n",
              "        ... \n",
              "7583      28\n",
              "5918      27\n",
              "2342      26\n",
              "8282      24\n",
              "8615      16\n",
              "Name: song_id, Length: 695, dtype: int64"
            ]
          },
          "metadata": {},
          "execution_count": 21
        }
      ]
    },
    {
      "cell_type": "markdown",
      "metadata": {
        "id": "nnoXCc9zIV45"
      },
      "source": [
        "Most interacted users"
      ]
    },
    {
      "cell_type": "code",
      "source": [
        "df_final['user_id'].value_counts()"
      ],
      "metadata": {
        "id": "MieayVZsxN3f",
        "colab": {
          "base_uri": "https://localhost:8080/"
        },
        "outputId": "7fbd1b44-1eaf-4cff-a01a-c961d4d887c7"
      },
      "execution_count": 22,
      "outputs": [
        {
          "output_type": "execute_result",
          "data": {
            "text/plain": [
              "3237     237\n",
              "62759    186\n",
              "31704    179\n",
              "37049    174\n",
              "15733    172\n",
              "        ... \n",
              "4590       1\n",
              "19751      1\n",
              "16660      1\n",
              "48193      1\n",
              "42141      1\n",
              "Name: user_id, Length: 3442, dtype: int64"
            ]
          },
          "metadata": {},
          "execution_count": 22
        }
      ]
    },
    {
      "cell_type": "markdown",
      "metadata": {
        "id": "tPZRc1e-eyyO"
      },
      "source": [
        "#### **Observations and Insights:** The most played song is **8582**, which was **played 1,076 times**. User **3237** is the most active user who played songs 237 times in total. \n"
      ]
    },
    {
      "cell_type": "markdown",
      "metadata": {
        "id": "joFF5zndX1Dk"
      },
      "source": [
        "Songs played in a year"
      ]
    },
    {
      "cell_type": "code",
      "source": [
        "count_songs = df_final.groupby('year').count()['title']\n",
        "\n",
        "count = pd.DataFrame(count_songs)\n",
        "\n",
        "count.drop(count.index[0], inplace = True)\n",
        "\n",
        "count.tail()"
      ],
      "metadata": {
        "id": "6bwTAs5dxQ-x",
        "colab": {
          "base_uri": "https://localhost:8080/",
          "height": 0
        },
        "outputId": "521cde34-577c-4dd3-e2ac-fb156100f6bd"
      },
      "execution_count": 23,
      "outputs": [
        {
          "output_type": "execute_result",
          "data": {
            "text/plain": [
              "      title\n",
              "year       \n",
              "2006   4098\n",
              "2007   7021\n",
              "2008   8527\n",
              "2009   9746\n",
              "2010   2911"
            ],
            "text/html": [
              "\n",
              "  <div id=\"df-5677e602-6831-4901-9b24-8b7845b7145e\">\n",
              "    <div class=\"colab-df-container\">\n",
              "      <div>\n",
              "<style scoped>\n",
              "    .dataframe tbody tr th:only-of-type {\n",
              "        vertical-align: middle;\n",
              "    }\n",
              "\n",
              "    .dataframe tbody tr th {\n",
              "        vertical-align: top;\n",
              "    }\n",
              "\n",
              "    .dataframe thead th {\n",
              "        text-align: right;\n",
              "    }\n",
              "</style>\n",
              "<table border=\"1\" class=\"dataframe\">\n",
              "  <thead>\n",
              "    <tr style=\"text-align: right;\">\n",
              "      <th></th>\n",
              "      <th>title</th>\n",
              "    </tr>\n",
              "    <tr>\n",
              "      <th>year</th>\n",
              "      <th></th>\n",
              "    </tr>\n",
              "  </thead>\n",
              "  <tbody>\n",
              "    <tr>\n",
              "      <th>2006</th>\n",
              "      <td>4098</td>\n",
              "    </tr>\n",
              "    <tr>\n",
              "      <th>2007</th>\n",
              "      <td>7021</td>\n",
              "    </tr>\n",
              "    <tr>\n",
              "      <th>2008</th>\n",
              "      <td>8527</td>\n",
              "    </tr>\n",
              "    <tr>\n",
              "      <th>2009</th>\n",
              "      <td>9746</td>\n",
              "    </tr>\n",
              "    <tr>\n",
              "      <th>2010</th>\n",
              "      <td>2911</td>\n",
              "    </tr>\n",
              "  </tbody>\n",
              "</table>\n",
              "</div>\n",
              "      <button class=\"colab-df-convert\" onclick=\"convertToInteractive('df-5677e602-6831-4901-9b24-8b7845b7145e')\"\n",
              "              title=\"Convert this dataframe to an interactive table.\"\n",
              "              style=\"display:none;\">\n",
              "        \n",
              "  <svg xmlns=\"http://www.w3.org/2000/svg\" height=\"24px\"viewBox=\"0 0 24 24\"\n",
              "       width=\"24px\">\n",
              "    <path d=\"M0 0h24v24H0V0z\" fill=\"none\"/>\n",
              "    <path d=\"M18.56 5.44l.94 2.06.94-2.06 2.06-.94-2.06-.94-.94-2.06-.94 2.06-2.06.94zm-11 1L8.5 8.5l.94-2.06 2.06-.94-2.06-.94L8.5 2.5l-.94 2.06-2.06.94zm10 10l.94 2.06.94-2.06 2.06-.94-2.06-.94-.94-2.06-.94 2.06-2.06.94z\"/><path d=\"M17.41 7.96l-1.37-1.37c-.4-.4-.92-.59-1.43-.59-.52 0-1.04.2-1.43.59L10.3 9.45l-7.72 7.72c-.78.78-.78 2.05 0 2.83L4 21.41c.39.39.9.59 1.41.59.51 0 1.02-.2 1.41-.59l7.78-7.78 2.81-2.81c.8-.78.8-2.07 0-2.86zM5.41 20L4 18.59l7.72-7.72 1.47 1.35L5.41 20z\"/>\n",
              "  </svg>\n",
              "      </button>\n",
              "      \n",
              "  <style>\n",
              "    .colab-df-container {\n",
              "      display:flex;\n",
              "      flex-wrap:wrap;\n",
              "      gap: 12px;\n",
              "    }\n",
              "\n",
              "    .colab-df-convert {\n",
              "      background-color: #E8F0FE;\n",
              "      border: none;\n",
              "      border-radius: 50%;\n",
              "      cursor: pointer;\n",
              "      display: none;\n",
              "      fill: #1967D2;\n",
              "      height: 32px;\n",
              "      padding: 0 0 0 0;\n",
              "      width: 32px;\n",
              "    }\n",
              "\n",
              "    .colab-df-convert:hover {\n",
              "      background-color: #E2EBFA;\n",
              "      box-shadow: 0px 1px 2px rgba(60, 64, 67, 0.3), 0px 1px 3px 1px rgba(60, 64, 67, 0.15);\n",
              "      fill: #174EA6;\n",
              "    }\n",
              "\n",
              "    [theme=dark] .colab-df-convert {\n",
              "      background-color: #3B4455;\n",
              "      fill: #D2E3FC;\n",
              "    }\n",
              "\n",
              "    [theme=dark] .colab-df-convert:hover {\n",
              "      background-color: #434B5C;\n",
              "      box-shadow: 0px 1px 3px 1px rgba(0, 0, 0, 0.15);\n",
              "      filter: drop-shadow(0px 1px 2px rgba(0, 0, 0, 0.3));\n",
              "      fill: #FFFFFF;\n",
              "    }\n",
              "  </style>\n",
              "\n",
              "      <script>\n",
              "        const buttonEl =\n",
              "          document.querySelector('#df-5677e602-6831-4901-9b24-8b7845b7145e button.colab-df-convert');\n",
              "        buttonEl.style.display =\n",
              "          google.colab.kernel.accessAllowed ? 'block' : 'none';\n",
              "\n",
              "        async function convertToInteractive(key) {\n",
              "          const element = document.querySelector('#df-5677e602-6831-4901-9b24-8b7845b7145e');\n",
              "          const dataTable =\n",
              "            await google.colab.kernel.invokeFunction('convertToInteractive',\n",
              "                                                     [key], {});\n",
              "          if (!dataTable) return;\n",
              "\n",
              "          const docLinkHtml = 'Like what you see? Visit the ' +\n",
              "            '<a target=\"_blank\" href=https://colab.research.google.com/notebooks/data_table.ipynb>data table notebook</a>'\n",
              "            + ' to learn more about interactive tables.';\n",
              "          element.innerHTML = '';\n",
              "          dataTable['output_type'] = 'display_data';\n",
              "          await google.colab.output.renderOutput(dataTable, element);\n",
              "          const docLink = document.createElement('div');\n",
              "          docLink.innerHTML = docLinkHtml;\n",
              "          element.appendChild(docLink);\n",
              "        }\n",
              "      </script>\n",
              "    </div>\n",
              "  </div>\n",
              "  "
            ]
          },
          "metadata": {},
          "execution_count": 23
        }
      ]
    },
    {
      "cell_type": "code",
      "source": [
        "# Create the plot\n",
        "\n",
        "# Set the figure size\n",
        "plt.figure(figsize = (30, 10))\n",
        "\n",
        "sns.barplot(x = count.index,\n",
        "            y = 'title',\n",
        "            data = count,\n",
        "            estimator = np.median)\n",
        "\n",
        "# Set the y label of the plot\n",
        "plt.ylabel('Number of titles played', size = 20) \n",
        "plt.xlabel('Year', size = 20)\n",
        "# Show the plot\n",
        "plt.show()"
      ],
      "metadata": {
        "id": "sceZtyfBxYnk",
        "colab": {
          "base_uri": "https://localhost:8080/",
          "height": 0
        },
        "outputId": "f165620a-2a45-405b-d409-c0c2bcf748c9"
      },
      "execution_count": 24,
      "outputs": [
        {
          "output_type": "display_data",
          "data": {
            "text/plain": [
              "<Figure size 2160x720 with 1 Axes>"
            ],
            "image/png": "[encoded data removed]"
          },
          "metadata": {
            "needs_background": "light"
          }
        }
      ]
    },
    {
      "cell_type": "code",
      "source": [
        "# Load the dataset you have saved at the end of milestone 1\n",
        "df_final = pd.read_csv('/content/drive/MyDrive/Data_science/final.csv')\n",
        "df_final.head()"
      ],
      "metadata": {
        "id": "SEzX4RMaxbjo",
        "colab": {
          "base_uri": "https://localhost:8080/",
          "height": 0
        },
        "outputId": "79affa9b-1490-4b7a-9ac6-bec3388bce08"
      },
      "execution_count": 25,
      "outputs": [
        {
          "output_type": "execute_result",
          "data": {
            "text/plain": [
              "   Unnamed: 0  user_id  song_id  play_count     title     release artist_name  \\\n",
              "0         381     3919      736           2  Stronger  Graduation  Kanye West   \n",
              "1         382     3919      736           2  Stronger  Graduation  Kanye West   \n",
              "2         409    51414      736           2  Stronger  Graduation  Kanye West   \n",
              "3         410    51414      736           2  Stronger  Graduation  Kanye West   \n",
              "4         451    72805      736           3  Stronger  Graduation  Kanye West   \n",
              "\n",
              "   year  \n",
              "0  2007  \n",
              "1  2007  \n",
              "2  2007  \n",
              "3  2007  \n",
              "4  2007  "
            ],
            "text/html": [
              "\n",
              "  <div id=\"df-09c31f65-1b12-4635-b4d0-489941c81aba\">\n",
              "    <div class=\"colab-df-container\">\n",
              "      <div>\n",
              "<style scoped>\n",
              "    .dataframe tbody tr th:only-of-type {\n",
              "        vertical-align: middle;\n",
              "    }\n",
              "\n",
              "    .dataframe tbody tr th {\n",
              "        vertical-align: top;\n",
              "    }\n",
              "\n",
              "    .dataframe thead th {\n",
              "        text-align: right;\n",
              "    }\n",
              "</style>\n",
              "<table border=\"1\" class=\"dataframe\">\n",
              "  <thead>\n",
              "    <tr style=\"text-align: right;\">\n",
              "      <th></th>\n",
              "      <th>Unnamed: 0</th>\n",
              "      <th>user_id</th>\n",
              "      <th>song_id</th>\n",
              "      <th>play_count</th>\n",
              "      <th>title</th>\n",
              "      <th>release</th>\n",
              "      <th>artist_name</th>\n",
              "      <th>year</th>\n",
              "    </tr>\n",
              "  </thead>\n",
              "  <tbody>\n",
              "    <tr>\n",
              "      <th>0</th>\n",
              "      <td>381</td>\n",
              "      <td>3919</td>\n",
              "      <td>736</td>\n",
              "      <td>2</td>\n",
              "      <td>Stronger</td>\n",
              "      <td>Graduation</td>\n",
              "      <td>Kanye West</td>\n",
              "      <td>2007</td>\n",
              "    </tr>\n",
              "    <tr>\n",
              "      <th>1</th>\n",
              "      <td>382</td>\n",
              "      <td>3919</td>\n",
              "      <td>736</td>\n",
              "      <td>2</td>\n",
              "      <td>Stronger</td>\n",
              "      <td>Graduation</td>\n",
              "      <td>Kanye West</td>\n",
              "      <td>2007</td>\n",
              "    </tr>\n",
              "    <tr>\n",
              "      <th>2</th>\n",
              "      <td>409</td>\n",
              "      <td>51414</td>\n",
              "      <td>736</td>\n",
              "      <td>2</td>\n",
              "      <td>Stronger</td>\n",
              "      <td>Graduation</td>\n",
              "      <td>Kanye West</td>\n",
              "      <td>2007</td>\n",
              "    </tr>\n",
              "    <tr>\n",
              "      <th>3</th>\n",
              "      <td>410</td>\n",
              "      <td>51414</td>\n",
              "      <td>736</td>\n",
              "      <td>2</td>\n",
              "      <td>Stronger</td>\n",
              "      <td>Graduation</td>\n",
              "      <td>Kanye West</td>\n",
              "      <td>2007</td>\n",
              "    </tr>\n",
              "    <tr>\n",
              "      <th>4</th>\n",
              "      <td>451</td>\n",
              "      <td>72805</td>\n",
              "      <td>736</td>\n",
              "      <td>3</td>\n",
              "      <td>Stronger</td>\n",
              "      <td>Graduation</td>\n",
              "      <td>Kanye West</td>\n",
              "      <td>2007</td>\n",
              "    </tr>\n",
              "  </tbody>\n",
              "</table>\n",
              "</div>\n",
              "      <button class=\"colab-df-convert\" onclick=\"convertToInteractive('df-09c31f65-1b12-4635-b4d0-489941c81aba')\"\n",
              "              title=\"Convert this dataframe to an interactive table.\"\n",
              "              style=\"display:none;\">\n",
              "        \n",
              "  <svg xmlns=\"http://www.w3.org/2000/svg\" height=\"24px\"viewBox=\"0 0 24 24\"\n",
              "       width=\"24px\">\n",
              "    <path d=\"M0 0h24v24H0V0z\" fill=\"none\"/>\n",
              "    <path d=\"M18.56 5.44l.94 2.06.94-2.06 2.06-.94-2.06-.94-.94-2.06-.94 2.06-2.06.94zm-11 1L8.5 8.5l.94-2.06 2.06-.94-2.06-.94L8.5 2.5l-.94 2.06-2.06.94zm10 10l.94 2.06.94-2.06 2.06-.94-2.06-.94-.94-2.06-.94 2.06-2.06.94z\"/><path d=\"M17.41 7.96l-1.37-1.37c-.4-.4-.92-.59-1.43-.59-.52 0-1.04.2-1.43.59L10.3 9.45l-7.72 7.72c-.78.78-.78 2.05 0 2.83L4 21.41c.39.39.9.59 1.41.59.51 0 1.02-.2 1.41-.59l7.78-7.78 2.81-2.81c.8-.78.8-2.07 0-2.86zM5.41 20L4 18.59l7.72-7.72 1.47 1.35L5.41 20z\"/>\n",
              "  </svg>\n",
              "      </button>\n",
              "      \n",
              "  <style>\n",
              "    .colab-df-container {\n",
              "      display:flex;\n",
              "      flex-wrap:wrap;\n",
              "      gap: 12px;\n",
              "    }\n",
              "\n",
              "    .colab-df-convert {\n",
              "      background-color: #E8F0FE;\n",
              "      border: none;\n",
              "      border-radius: 50%;\n",
              "      cursor: pointer;\n",
              "      display: none;\n",
              "      fill: #1967D2;\n",
              "      height: 32px;\n",
              "      padding: 0 0 0 0;\n",
              "      width: 32px;\n",
              "    }\n",
              "\n",
              "    .colab-df-convert:hover {\n",
              "      background-color: #E2EBFA;\n",
              "      box-shadow: 0px 1px 2px rgba(60, 64, 67, 0.3), 0px 1px 3px 1px rgba(60, 64, 67, 0.15);\n",
              "      fill: #174EA6;\n",
              "    }\n",
              "\n",
              "    [theme=dark] .colab-df-convert {\n",
              "      background-color: #3B4455;\n",
              "      fill: #D2E3FC;\n",
              "    }\n",
              "\n",
              "    [theme=dark] .colab-df-convert:hover {\n",
              "      background-color: #434B5C;\n",
              "      box-shadow: 0px 1px 3px 1px rgba(0, 0, 0, 0.15);\n",
              "      filter: drop-shadow(0px 1px 2px rgba(0, 0, 0, 0.3));\n",
              "      fill: #FFFFFF;\n",
              "    }\n",
              "  </style>\n",
              "\n",
              "      <script>\n",
              "        const buttonEl =\n",
              "          document.querySelector('#df-09c31f65-1b12-4635-b4d0-489941c81aba button.colab-df-convert');\n",
              "        buttonEl.style.display =\n",
              "          google.colab.kernel.accessAllowed ? 'block' : 'none';\n",
              "\n",
              "        async function convertToInteractive(key) {\n",
              "          const element = document.querySelector('#df-09c31f65-1b12-4635-b4d0-489941c81aba');\n",
              "          const dataTable =\n",
              "            await google.colab.kernel.invokeFunction('convertToInteractive',\n",
              "                                                     [key], {});\n",
              "          if (!dataTable) return;\n",
              "\n",
              "          const docLinkHtml = 'Like what you see? Visit the ' +\n",
              "            '<a target=\"_blank\" href=https://colab.research.google.com/notebooks/data_table.ipynb>data table notebook</a>'\n",
              "            + ' to learn more about interactive tables.';\n",
              "          element.innerHTML = '';\n",
              "          dataTable['output_type'] = 'display_data';\n",
              "          await google.colab.output.renderOutput(dataTable, element);\n",
              "          const docLink = document.createElement('div');\n",
              "          docLink.innerHTML = docLinkHtml;\n",
              "          element.appendChild(docLink);\n",
              "        }\n",
              "      </script>\n",
              "    </div>\n",
              "  </div>\n",
              "  "
            ]
          },
          "metadata": {},
          "execution_count": 25
        }
      ]
    },
    {
      "cell_type": "code",
      "source": [
        "song_all = df_final.groupby('song_id').count().sort_values('user_id', ascending = False)['title'][0:30] \n",
        "top_songs_count = pd.DataFrame(song_all) \n",
        "top_songs_count.drop(top_songs_count.index[0], inplace = True)  "
      ],
      "metadata": {
        "id": "vigUeof3x7M-"
      },
      "execution_count": 26,
      "outputs": []
    },
    {
      "cell_type": "code",
      "source": [
        "plt.figure(figsize = (30, 10))\n",
        "\n",
        "sns.barplot(x = top_songs_count.index,\n",
        "            y = top_songs_count['title'],\n",
        "            data =  top_songs_count,\n",
        "            order = top_songs_count.sort_values('title', ascending = False).index,\n",
        "            estimator = np.median)\n",
        "\n",
        "plt.ylabel('Total number played', size = 20)\n",
        "plt.xlabel('Song ID', size = 20)\n",
        "\n",
        "plt.title('Top 30 songs', size = 30)\n",
        "\n",
        "plt.show()"
      ],
      "metadata": {
        "id": "sNffQh3Tx9L3",
        "colab": {
          "base_uri": "https://localhost:8080/",
          "height": 0
        },
        "outputId": "cf4efcbb-654a-4f03-b43f-4ac4a705d2b9"
      },
      "execution_count": 27,
      "outputs": [
        {
          "output_type": "display_data",
          "data": {
            "text/plain": [
              "<Figure size 2160x720 with 1 Axes>"
            ],
            "image/png": "[encoded data removed]"
          },
          "metadata": {
            "needs_background": "light"
          }
        }
      ]
    },
    {
      "cell_type": "markdown",
      "source": [
        "**The final dataset includes songs that were played by users more than once but less than 5 times. This excludes the case where one user repeatedly played one song, and the case where a user accidently or randomly played a song.**"
      ],
      "metadata": {
        "id": "tAN8ZbD5XHd0"
      }
    },
    {
      "cell_type": "markdown",
      "metadata": {
        "id": "Ituk9wA4Idib"
      },
      "source": [
        "### **Popularity-Based Recommendation Systems**"
      ]
    },
    {
      "cell_type": "markdown",
      "metadata": {
        "id": "462hsbxaI1ED"
      },
      "source": [
        "Let's take the count and sum of play counts of the songs and build the popularity recommendation systems based on the sum of play counts."
      ]
    },
    {
      "cell_type": "code",
      "source": [
        "# Calculating average play_count\n",
        "average_count = df_final.groupby('song_id').mean()['play_count']       \n",
        "\n",
        "# Calculating the frequency a song is played\n",
        "play_freq = df_final.groupby('song_id').count()['play_count'] "
      ],
      "metadata": {
        "id": "_q_PhI1gx-ll"
      },
      "execution_count": 28,
      "outputs": []
    },
    {
      "cell_type": "code",
      "source": [
        "# Making a dataframe with the average_count and play_freq\n",
        "final_play = pd.DataFrame({'avg_count':average_count, 'play_freq':play_freq})\n",
        "\n",
        "# Let us see the first five records of the final_play dataset\n",
        "final_play.head()"
      ],
      "metadata": {
        "id": "tBg0_4ZnyINv",
        "colab": {
          "base_uri": "https://localhost:8080/",
          "height": 238
        },
        "outputId": "b2a23aff-dcab-442c-f6a9-25540b7f8776"
      },
      "execution_count": 29,
      "outputs": [
        {
          "output_type": "execute_result",
          "data": {
            "text/plain": [
              "         avg_count  play_freq\n",
              "song_id                      \n",
              "21        2.728155        103\n",
              "22        2.805556         36\n",
              "50        2.743590         39\n",
              "52        2.646766        201\n",
              "62        2.914894         47"
            ],
            "text/html": [
              "\n",
              "  <div id=\"df-8775b3a0-8eee-4760-986b-f21e89518c5d\">\n",
              "    <div class=\"colab-df-container\">\n",
              "      <div>\n",
              "<style scoped>\n",
              "    .dataframe tbody tr th:only-of-type {\n",
              "        vertical-align: middle;\n",
              "    }\n",
              "\n",
              "    .dataframe tbody tr th {\n",
              "        vertical-align: top;\n",
              "    }\n",
              "\n",
              "    .dataframe thead th {\n",
              "        text-align: right;\n",
              "    }\n",
              "</style>\n",
              "<table border=\"1\" class=\"dataframe\">\n",
              "  <thead>\n",
              "    <tr style=\"text-align: right;\">\n",
              "      <th></th>\n",
              "      <th>avg_count</th>\n",
              "      <th>play_freq</th>\n",
              "    </tr>\n",
              "    <tr>\n",
              "      <th>song_id</th>\n",
              "      <th></th>\n",
              "      <th></th>\n",
              "    </tr>\n",
              "  </thead>\n",
              "  <tbody>\n",
              "    <tr>\n",
              "      <th>21</th>\n",
              "      <td>2.728155</td>\n",
              "      <td>103</td>\n",
              "    </tr>\n",
              "    <tr>\n",
              "      <th>22</th>\n",
              "      <td>2.805556</td>\n",
              "      <td>36</td>\n",
              "    </tr>\n",
              "    <tr>\n",
              "      <th>50</th>\n",
              "      <td>2.743590</td>\n",
              "      <td>39</td>\n",
              "    </tr>\n",
              "    <tr>\n",
              "      <th>52</th>\n",
              "      <td>2.646766</td>\n",
              "      <td>201</td>\n",
              "    </tr>\n",
              "    <tr>\n",
              "      <th>62</th>\n",
              "      <td>2.914894</td>\n",
              "      <td>47</td>\n",
              "    </tr>\n",
              "  </tbody>\n",
              "</table>\n",
              "</div>\n",
              "      <button class=\"colab-df-convert\" onclick=\"convertToInteractive('df-8775b3a0-8eee-4760-986b-f21e89518c5d')\"\n",
              "              title=\"Convert this dataframe to an interactive table.\"\n",
              "              style=\"display:none;\">\n",
              "        \n",
              "  <svg xmlns=\"http://www.w3.org/2000/svg\" height=\"24px\"viewBox=\"0 0 24 24\"\n",
              "       width=\"24px\">\n",
              "    <path d=\"M0 0h24v24H0V0z\" fill=\"none\"/>\n",
              "    <path d=\"M18.56 5.44l.94 2.06.94-2.06 2.06-.94-2.06-.94-.94-2.06-.94 2.06-2.06.94zm-11 1L8.5 8.5l.94-2.06 2.06-.94-2.06-.94L8.5 2.5l-.94 2.06-2.06.94zm10 10l.94 2.06.94-2.06 2.06-.94-2.06-.94-.94-2.06-.94 2.06-2.06.94z\"/><path d=\"M17.41 7.96l-1.37-1.37c-.4-.4-.92-.59-1.43-.59-.52 0-1.04.2-1.43.59L10.3 9.45l-7.72 7.72c-.78.78-.78 2.05 0 2.83L4 21.41c.39.39.9.59 1.41.59.51 0 1.02-.2 1.41-.59l7.78-7.78 2.81-2.81c.8-.78.8-2.07 0-2.86zM5.41 20L4 18.59l7.72-7.72 1.47 1.35L5.41 20z\"/>\n",
              "  </svg>\n",
              "      </button>\n",
              "      \n",
              "  <style>\n",
              "    .colab-df-container {\n",
              "      display:flex;\n",
              "      flex-wrap:wrap;\n",
              "      gap: 12px;\n",
              "    }\n",
              "\n",
              "    .colab-df-convert {\n",
              "      background-color: #E8F0FE;\n",
              "      border: none;\n",
              "      border-radius: 50%;\n",
              "      cursor: pointer;\n",
              "      display: none;\n",
              "      fill: #1967D2;\n",
              "      height: 32px;\n",
              "      padding: 0 0 0 0;\n",
              "      width: 32px;\n",
              "    }\n",
              "\n",
              "    .colab-df-convert:hover {\n",
              "      background-color: #E2EBFA;\n",
              "      box-shadow: 0px 1px 2px rgba(60, 64, 67, 0.3), 0px 1px 3px 1px rgba(60, 64, 67, 0.15);\n",
              "      fill: #174EA6;\n",
              "    }\n",
              "\n",
              "    [theme=dark] .colab-df-convert {\n",
              "      background-color: #3B4455;\n",
              "      fill: #D2E3FC;\n",
              "    }\n",
              "\n",
              "    [theme=dark] .colab-df-convert:hover {\n",
              "      background-color: #434B5C;\n",
              "      box-shadow: 0px 1px 3px 1px rgba(0, 0, 0, 0.15);\n",
              "      filter: drop-shadow(0px 1px 2px rgba(0, 0, 0, 0.3));\n",
              "      fill: #FFFFFF;\n",
              "    }\n",
              "  </style>\n",
              "\n",
              "      <script>\n",
              "        const buttonEl =\n",
              "          document.querySelector('#df-8775b3a0-8eee-4760-986b-f21e89518c5d button.colab-df-convert');\n",
              "        buttonEl.style.display =\n",
              "          google.colab.kernel.accessAllowed ? 'block' : 'none';\n",
              "\n",
              "        async function convertToInteractive(key) {\n",
              "          const element = document.querySelector('#df-8775b3a0-8eee-4760-986b-f21e89518c5d');\n",
              "          const dataTable =\n",
              "            await google.colab.kernel.invokeFunction('convertToInteractive',\n",
              "                                                     [key], {});\n",
              "          if (!dataTable) return;\n",
              "\n",
              "          const docLinkHtml = 'Like what you see? Visit the ' +\n",
              "            '<a target=\"_blank\" href=https://colab.research.google.com/notebooks/data_table.ipynb>data table notebook</a>'\n",
              "            + ' to learn more about interactive tables.';\n",
              "          element.innerHTML = '';\n",
              "          dataTable['output_type'] = 'display_data';\n",
              "          await google.colab.output.renderOutput(dataTable, element);\n",
              "          const docLink = document.createElement('div');\n",
              "          docLink.innerHTML = docLinkHtml;\n",
              "          element.appendChild(docLink);\n",
              "        }\n",
              "      </script>\n",
              "    </div>\n",
              "  </div>\n",
              "  "
            ]
          },
          "metadata": {},
          "execution_count": 29
        }
      ]
    },
    {
      "cell_type": "code",
      "source": [
        "final_play['play_freq'].value_counts()"
      ],
      "metadata": {
        "id": "5Sb076gxyJYE",
        "colab": {
          "base_uri": "https://localhost:8080/"
        },
        "outputId": "93badddf-6d0c-4ea7-e33b-6cb4220fae0f"
      },
      "execution_count": 30,
      "outputs": [
        {
          "output_type": "execute_result",
          "data": {
            "text/plain": [
              "52     20\n",
              "46     20\n",
              "51     18\n",
              "36     16\n",
              "54     16\n",
              "       ..\n",
              "236     1\n",
              "145     1\n",
              "362     1\n",
              "105     1\n",
              "96      1\n",
              "Name: play_freq, Length: 187, dtype: int64"
            ]
          },
          "metadata": {},
          "execution_count": 30
        }
      ]
    },
    {
      "cell_type": "markdown",
      "metadata": {
        "id": "WnCT-A7RK_5g"
      },
      "source": [
        "Now, let's create a function to find the top n songs for a recommendation based on the average play count of song. We can also add a threshold for a minimum number of playcounts for a song to be considered for recommendation."
      ]
    },
    {
      "cell_type": "code",
      "source": [
        "# Build the function to find top n songs\n",
        "def top_n_songs(data, n, min_interaction = 10): \n",
        "\n",
        "    # Finding song with minumum number of interactions\n",
        "    recommendations = data[data['play_freq'] > min_interaction]\n",
        "\n",
        "    # Sorting values w.r.t. play counts \n",
        "    recommendations = recommendations.sort_values(by='avg_count', ascending = False)\n",
        "\n",
        "    return recommendations.index[:n]"
      ],
      "metadata": {
        "id": "GJ1Ly6EgyKiO"
      },
      "execution_count": 31,
      "outputs": []
    },
    {
      "cell_type": "code",
      "source": [
        "# Recommend top 10 songs using the function defined above \n",
        "list(top_n_songs(final_play, 10, 10))"
      ],
      "metadata": {
        "id": "3CdPlZZQyNyT",
        "colab": {
          "base_uri": "https://localhost:8080/"
        },
        "outputId": "8ba2ab71-1054-4523-9a5b-cc94ae9c29cb"
      },
      "execution_count": 32,
      "outputs": [
        {
          "output_type": "execute_result",
          "data": {
            "text/plain": [
              "[7224, 8324, 6450, 657, 5566, 9942, 8483, 6084, 7866, 7889]"
            ]
          },
          "metadata": {},
          "execution_count": 32
        }
      ]
    },
    {
      "cell_type": "markdown",
      "metadata": {
        "id": "gf13HrPPJeWT"
      },
      "source": [
        "### **User User Similarity-Based Collaborative Filtering**"
      ]
    },
    {
      "cell_type": "markdown",
      "source": [
        "To build the user-user-similarity-based and subsequent models we will use the \"surprise\" library."
      ],
      "metadata": {
        "id": "ROcEpduohdua"
      }
    },
    {
      "cell_type": "code",
      "source": [
        "# Install the surprise package using pip. Uncomment and run the below code to do the same\n",
        "!pip install surprise "
      ],
      "metadata": {
        "id": "pIwwWLRvyPFF",
        "colab": {
          "base_uri": "https://localhost:8080/"
        },
        "outputId": "68be0a23-92cd-460f-859c-73e1427a546a"
      },
      "execution_count": 33,
      "outputs": [
        {
          "output_type": "stream",
          "name": "stdout",
          "text": [
            "Looking in indexes: https://pypi.org/simple, https://us-python.pkg.dev/colab-wheels/public/simple/\n",
            "Collecting surprise\n",
            "  Downloading surprise-0.1-py2.py3-none-any.whl (1.8 kB)\n",
            "Collecting scikit-surprise\n",
            "  Downloading scikit-surprise-1.1.1.tar.gz (11.8 MB)\n",
            "\u001b[K     |████████████████████████████████| 11.8 MB 27.9 MB/s \n",
            "\u001b[?25hRequirement already satisfied: joblib>=0.11 in /usr/local/lib/python3.7/dist-packages (from scikit-surprise->surprise) (1.2.0)\n",
            "Requirement already satisfied: numpy>=1.11.2 in /usr/local/lib/python3.7/dist-packages (from scikit-surprise->surprise) (1.21.6)\n",
            "Requirement already satisfied: scipy>=1.0.0 in /usr/local/lib/python3.7/dist-packages (from scikit-surprise->surprise) (1.7.3)\n",
            "Requirement already satisfied: six>=1.10.0 in /usr/local/lib/python3.7/dist-packages (from scikit-surprise->surprise) (1.15.0)\n",
            "Building wheels for collected packages: scikit-surprise\n",
            "  Building wheel for scikit-surprise (setup.py) ... \u001b[?25l\u001b[?25hdone\n",
            "  Created wheel for scikit-surprise: filename=scikit_surprise-1.1.1-cp37-cp37m-linux_x86_64.whl size=1633983 sha256=92caaa1743cd61fdd37a1c726a37d1b656aea8135af58bf1d036923de9fbeb7f\n",
            "  Stored in directory: /root/.cache/pip/wheels/76/44/74/b498c42be47b2406bd27994e16c5188e337c657025ab400c1c\n",
            "Successfully built scikit-surprise\n",
            "Installing collected packages: scikit-surprise, surprise\n",
            "Successfully installed scikit-surprise-1.1.1 surprise-0.1\n"
          ]
        }
      ]
    },
    {
      "cell_type": "code",
      "source": [
        "# Import necessary libraries\n",
        "\n",
        "# To compute the accuracy of models\n",
        "from surprise import accuracy\n",
        "\n",
        "# This class is used to parse a file containing play_counts, data should be in structure - user; item; play_count\n",
        "from surprise.reader import Reader\n",
        "\n",
        "# Class for loading datasets\n",
        "from surprise.dataset import Dataset\n",
        "\n",
        "# For tuning model hyperparameters\n",
        "from surprise.model_selection import GridSearchCV\n",
        "\n",
        "# For splitting the data in train and test dataset\n",
        "from surprise.model_selection import train_test_split\n",
        "\n",
        "# For implementing similarity-based recommendation system\n",
        "from surprise.prediction_algorithms.knns import KNNBasic\n",
        "\n",
        "# For implementing matrix factorization based recommendation system\n",
        "from surprise.prediction_algorithms.matrix_factorization import SVD\n",
        "\n",
        "# For implementing KFold cross-validation\n",
        "from surprise.model_selection import KFold\n",
        "\n",
        "# For implementing clustering-based recommendation system\n",
        "from surprise import CoClustering"
      ],
      "metadata": {
        "id": "vHkQk6NEyVIX"
      },
      "execution_count": 34,
      "outputs": []
    },
    {
      "cell_type": "markdown",
      "metadata": {
        "id": "jBW4BUhWTsnm"
      },
      "source": [
        "### Some useful functions"
      ]
    },
    {
      "cell_type": "markdown",
      "source": [
        "Below is the function to calculate precision@k and recall@k, RMSE and F1_Score@k to evaluate the model performance."
      ],
      "metadata": {
        "id": "ZhFa_4aHHchr"
      }
    },
    {
      "cell_type": "code",
      "source": [
        "# The function to calulate the RMSE, precision@k, recall@k, and F_1 score\n",
        "def precision_recall_at_k(model, k = 30, threshold = 1.5):\n",
        "    \"\"\"Return precision and recall at k metrics for each user\"\"\"\n",
        "\n",
        "    # First map the predictions to each user.\n",
        "    user_est_true = defaultdict(list)\n",
        "    \n",
        "    # Making predictions on the test data\n",
        "    predictions=model.test(testset)\n",
        "    \n",
        "    for uid, _, true_r, est, _ in predictions:\n",
        "        user_est_true[uid].append((est, true_r))\n",
        "\n",
        "    precisions = dict()\n",
        "    recalls = dict()\n",
        "    for uid, user_ratings in user_est_true.items():\n",
        "\n",
        "        # Sort user ratings by estimated value\n",
        "        user_ratings.sort(key = lambda x : x[0], reverse = True)\n",
        "\n",
        "        # Number of relevant items\n",
        "        n_rel = sum((true_r >= threshold) for (_, true_r) in user_ratings)\n",
        "\n",
        "        # Number of recommended items in top k\n",
        "        n_rec_k = sum((est >= threshold) for (est, _) in user_ratings[ : k])\n",
        "\n",
        "        # Number of relevant and recommended items in top k\n",
        "        n_rel_and_rec_k = sum(((true_r >= threshold) and (est >= threshold))\n",
        "                              for (est, true_r) in user_ratings[ : k])\n",
        "\n",
        "        # Precision@K: Proportion of recommended items that are relevant\n",
        "        # When n_rec_k is 0, Precision is undefined. We here set Precision to 0 when n_rec_k is 0\n",
        "\n",
        "        precisions[uid] = n_rel_and_rec_k / n_rec_k if n_rec_k != 0 else 0\n",
        "\n",
        "        # Recall@K: Proportion of relevant items that are recommended\n",
        "        # When n_rel is 0, Recall is undefined. We here set Recall to 0 when n_rel is 0\n",
        "\n",
        "        recalls[uid] = n_rel_and_rec_k / n_rel if n_rel != 0 else 0\n",
        "    \n",
        "    # Mean of all the predicted precisions are calculated\n",
        "    precision = round((sum(prec for prec in precisions.values()) / len(precisions)), 3)\n",
        "\n",
        "    # Mean of all the predicted recalls are calculated\n",
        "    recall = round((sum(rec for rec in recalls.values()) / len(recalls)), 3)\n",
        "    \n",
        "    accuracy.rmse(predictions)\n",
        "\n",
        "    # Command to print the overall precision\n",
        "    print('Precision: ', precision)\n",
        "\n",
        "    # Command to print the overall recall\n",
        "    print('Recall: ', recall)\n",
        "    \n",
        "    # Formula to compute the F-1 score\n",
        "    print('F_1 score: ', round((2 * precision * recall) / (precision + recall), 3))"
      ],
      "metadata": {
        "id": "ONDpl1rWyaJ1"
      },
      "execution_count": 35,
      "outputs": []
    },
    {
      "cell_type": "code",
      "source": [
        "# Instantiating Reader scale with expected rating scale \n",
        "reader = Reader(rating_scale = (0, 5)) #use rating scale (0, 5)\n",
        "\n",
        "# Loading the dataset\n",
        "data = Dataset.load_from_df(df_final[['user_id', 'song_id', 'play_count']], reader) # Take only \"user_id\",\"song_id\", and \"play_count\"\n",
        "\n",
        "# Splitting the data into train and test dataset\n",
        "trainset, testset = train_test_split(data, test_size=0.4, random_state = 42) # Take test_size = 0.4"
      ],
      "metadata": {
        "id": "FiPq4A9Jye04"
      },
      "execution_count": 36,
      "outputs": []
    },
    {
      "cell_type": "code",
      "source": [
        "# Build the default user-user-similarity model\n",
        "sim_options = {'name': 'cosine',\n",
        "               'user_based': True}\n",
        "\n",
        "# KNN algorithm is used to find desired similar items\n",
        "sim_user_user = KNNBasic(sim_options = sim_options, verbose = False, random_state = 1) # Use random_state = 1 \n",
        "\n",
        "# Train the algorithm on the trainset, and predict play_count for the testset\n",
        "sim_user_user.fit(trainset)\n",
        "\n",
        "# Let us compute precision@k, recall@k, and f_1 score with k = 30\n",
        "precision_recall_at_k(sim_user_user) # Use sim_user_user model"
      ],
      "metadata": {
        "id": "yI-2SAe1yhK_",
        "colab": {
          "base_uri": "https://localhost:8080/"
        },
        "outputId": "7bf3668e-b8d0-4c58-de7a-558f1a4214e6"
      },
      "execution_count": 37,
      "outputs": [
        {
          "output_type": "stream",
          "name": "stdout",
          "text": [
            "RMSE: 1.0364\n",
            "Precision:  1.0\n",
            "Recall:  0.996\n",
            "F_1 score:  0.998\n"
          ]
        }
      ]
    },
    {
      "cell_type": "markdown",
      "source": [
        "**Observations and Insights:**  We are getting a **recall of 0.996**, which means out of all the relevant products 99.6% are recommended. Also, we are getting **a precision of 1**, which means out of all the recommended products **100%** are relevant. **F_1 score of the baseline model is 0.998**, which indicates that **mostly recommended products are relevant and relevant products are well recommended.**"
      ],
      "metadata": {
        "id": "mzcdlWmer6GA"
      }
    },
    {
      "cell_type": "code",
      "execution_count": 38,
      "metadata": {
        "id": "Sxd23bZ9pe_x",
        "colab": {
          "base_uri": "https://localhost:8080/"
        },
        "outputId": "3dccebdd-890b-4c06-8540-675d93d9b3c6"
      },
      "outputs": [
        {
          "output_type": "stream",
          "name": "stdout",
          "text": [
            "user: 6958       item: 1671       r_ui = 2.00   est = 2.81   {'was_impossible': True, 'reason': 'User and/or item is unknown.'}\n"
          ]
        },
        {
          "output_type": "execute_result",
          "data": {
            "text/plain": [
              "Prediction(uid='6958', iid='1671', r_ui=2, est=2.809679622147613, details={'was_impossible': True, 'reason': 'User and/or item is unknown.'})"
            ]
          },
          "metadata": {},
          "execution_count": 38
        }
      ],
      "source": [
        "# Predicting play_count for a sample user with a listened song\n",
        "sim_user_user.predict(\"6958\", \"1671\", r_ui = 2, verbose = True) # Use user id 6958 and song_id 1671"
      ]
    },
    {
      "cell_type": "code",
      "execution_count": 39,
      "metadata": {
        "id": "PbFcBj1PpfEV",
        "colab": {
          "base_uri": "https://localhost:8080/"
        },
        "outputId": "dc89dd75-8d9d-4a73-8912-b95e2f167c88"
      },
      "outputs": [
        {
          "output_type": "stream",
          "name": "stdout",
          "text": [
            "user: 6958       item: 3232       r_ui = None   est = 2.81   {'was_impossible': True, 'reason': 'User and/or item is unknown.'}\n"
          ]
        },
        {
          "output_type": "execute_result",
          "data": {
            "text/plain": [
              "Prediction(uid='6958', iid='3232', r_ui=None, est=2.809679622147613, details={'was_impossible': True, 'reason': 'User and/or item is unknown.'})"
            ]
          },
          "metadata": {},
          "execution_count": 39
        }
      ],
      "source": [
        "# Predicting play_count for a sample user with a song not-listened by the user\n",
        "sim_user_user.predict(\"6958\", \"3232\", verbose = True) # Use user_id 6958 and song_id 3232"
      ]
    },
    {
      "cell_type": "markdown",
      "source": [
        "**Observations and Insights:** The above output shows that **the actual rating for the user \"6958\" and song \"1671\" pair is 2**, and **the predicted rating is 2.81** by this **user-user-similarity-based baseline model**. <br> \n",
        "Also, the **predicted rating for user \"6958\" of song \"3232\"** is around **2.81** based on this **user-user similarity-based baseline model**."
      ],
      "metadata": {
        "id": "P9EVM7DysC47"
      }
    },
    {
      "cell_type": "markdown",
      "source": [
        "Now, let's try to tune the model and see if we can improve the model performance."
      ],
      "metadata": {
        "id": "Lt1QBiylsIOm"
      }
    },
    {
      "cell_type": "code",
      "execution_count": 40,
      "metadata": {
        "id": "T3diJPL7-tVw",
        "colab": {
          "base_uri": "https://localhost:8080/"
        },
        "outputId": "4e7a5e73-2eab-4218-cad6-ee1a4108dec7"
      },
      "outputs": [
        {
          "output_type": "stream",
          "name": "stdout",
          "text": [
            "0.9577398948229444\n",
            "{'k': 30, 'min_k': 9, 'sim_options': {'name': 'pearson_baseline', 'user_based': True, 'min_support': 2}}\n"
          ]
        }
      ],
      "source": [
        "# Setting up parameter grid to tune the hyperparameters\n",
        "param_grid = {'k': [10, 20, 30], 'min_k': [3, 6, 9],\n",
        "              'sim_options': {'name': [\"cosine\", 'pearson', \"pearson_baseline\"],\n",
        "                              'user_based': [True], \"min_support\": [2, 4]}\n",
        "              }\n",
        "\n",
        "# Performing 3-fold cross-validation to tune the hyperparameters\n",
        "gs = GridSearchCV(KNNBasic, param_grid, measures = ['rmse'], cv = 3, n_jobs = -1)\n",
        "\n",
        "# Fitting the data\n",
        "gs.fit(data) # Use entire data for GridSearch\n",
        "\n",
        "# Best RMSE score\n",
        "print(gs.best_score['rmse'])\n",
        "\n",
        "# Combination of parameters that gave the best RMSE score\n",
        "print(gs.best_params['rmse'])"
      ]
    },
    {
      "cell_type": "code",
      "execution_count": 41,
      "metadata": {
        "id": "PujRJA8X_JEJ",
        "colab": {
          "base_uri": "https://localhost:8080/"
        },
        "outputId": "2eb6fa19-b4cf-40ca-f1ee-3e3c07345ee9"
      },
      "outputs": [
        {
          "output_type": "stream",
          "name": "stdout",
          "text": [
            "RMSE: 1.0196\n",
            "Precision:  1.0\n",
            "Recall:  0.996\n",
            "F_1 score:  0.998\n"
          ]
        }
      ],
      "source": [
        "# Train the best model found in above gridsearch\n",
        "sim_options = {'name': 'cosine',\n",
        "               'user_based': True}\n",
        "\n",
        "# Creating an instance of KNNBasic with optimal hyperparameter values\n",
        "sim_user_user_optimized = KNNBasic(sim_options = sim_options, k = 30, min_k = 9, random_state = 1, verbose = False)\n",
        "\n",
        "# Training the algorithm on the trainset\n",
        "sim_user_user_optimized.fit(trainset)\n",
        "\n",
        "# Let us compute precision@k and recall@k also with k =10\n",
        "precision_recall_at_k(sim_user_user_optimized)"
      ]
    },
    {
      "cell_type": "markdown",
      "source": [
        "**Observations and Insights:** We can observe that after tuning hyperparameters, **F_1 score of the tuned model is 0.998**, which is the same as the baseline model. It is hard to say that the model is not improved, as the baseline model already has a very high F_1 score. **The RMSE of the model (1.02) slightly decreased than in the baseline model (1.04), showing some improvement.**"
      ],
      "metadata": {
        "id": "MH5OBZ7Nse6m"
      }
    },
    {
      "cell_type": "code",
      "execution_count": 42,
      "metadata": {
        "id": "FgV63lHiq1TV",
        "colab": {
          "base_uri": "https://localhost:8080/"
        },
        "outputId": "c38e60dd-a471-47e0-d68f-b9e8341861a5"
      },
      "outputs": [
        {
          "output_type": "stream",
          "name": "stdout",
          "text": [
            "user: 6958       item: 1671       r_ui = 2.00   est = 2.81   {'was_impossible': True, 'reason': 'User and/or item is unknown.'}\n"
          ]
        },
        {
          "output_type": "execute_result",
          "data": {
            "text/plain": [
              "Prediction(uid='6958', iid='1671', r_ui=2, est=2.809679622147613, details={'was_impossible': True, 'reason': 'User and/or item is unknown.'})"
            ]
          },
          "metadata": {},
          "execution_count": 42
        }
      ],
      "source": [
        "# Predict the play count for a user who has listened to the song. Take user_id 6958, song_id 1671 and r_ui = 2\n",
        "sim_user_user_optimized.predict(\"6958\",\"1671\",r_ui = 2, verbose = True)"
      ]
    },
    {
      "cell_type": "code",
      "execution_count": 43,
      "metadata": {
        "id": "HXO2Ztjhq1bN",
        "colab": {
          "base_uri": "https://localhost:8080/"
        },
        "outputId": "dd9de0cc-4240-4887-c424-18e7a71f0098"
      },
      "outputs": [
        {
          "output_type": "stream",
          "name": "stdout",
          "text": [
            "user: 6958       item: 3232       r_ui = None   est = 2.81   {'was_impossible': True, 'reason': 'User and/or item is unknown.'}\n"
          ]
        },
        {
          "output_type": "execute_result",
          "data": {
            "text/plain": [
              "Prediction(uid='6958', iid='3232', r_ui=None, est=2.809679622147613, details={'was_impossible': True, 'reason': 'User and/or item is unknown.'})"
            ]
          },
          "metadata": {},
          "execution_count": 43
        }
      ],
      "source": [
        "# Predict the play count for a song that is not listened to by the user (with user_id 6958)\n",
        "sim_user_user_optimized.predict(\"6958\",\"3232\", verbose = True)"
      ]
    },
    {
      "cell_type": "markdown",
      "source": [
        "**Observations and Insights:** The estimated play count for the user with id \"6958\" is **2.81** for song with id \"1671\", while the actual play count is 2. The estimated play count for song \"3232\" is also **2.81**, **which is the same estimation as in the baseline model**."
      ],
      "metadata": {
        "id": "SdpJ--8QWuzz"
      }
    },
    {
      "cell_type": "markdown",
      "source": [
        "**Think About It:** Along with making predictions on listened and unknown songs can we get 5 nearest neighbors (most similar) to a certain song?"
      ],
      "metadata": {
        "id": "SQ9M4pplNbWS"
      }
    },
    {
      "cell_type": "code",
      "execution_count": 44,
      "metadata": {
        "id": "TbFle7cKmBJG",
        "colab": {
          "base_uri": "https://localhost:8080/"
        },
        "outputId": "b9f1b90a-2a50-4e05-95a2-a4d6ede9f1e6"
      },
      "outputs": [
        {
          "output_type": "execute_result",
          "data": {
            "text/plain": [
              "[4, 6, 9, 10, 11]"
            ]
          },
          "metadata": {},
          "execution_count": 44
        }
      ],
      "source": [
        "# Use inner id 0\n",
        "sim_user_user_optimized.get_neighbors(0, 5)"
      ]
    },
    {
      "cell_type": "markdown",
      "metadata": {
        "id": "U3ESobDynVNI"
      },
      "source": [
        "Below we will be implementing a function where the input parameters are:\n",
        "\n",
        "- data: A **song** dataset\n",
        "- user_id: A user-id **against which we want the recommendations**\n",
        "- top_n: The **number of songs we want to recommend**\n",
        "- algo: The algorithm we want to use **for predicting the play_count**\n",
        "- The output of the function is a **set of top_n items** recommended for the given user_id based on the given algorithm"
      ]
    },
    {
      "cell_type": "code",
      "execution_count": 45,
      "metadata": {
        "id": "vW9V1Tk65HlY"
      },
      "outputs": [],
      "source": [
        "def get_recommendations(data, user_id, top_n, algo):\n",
        "    \n",
        "    # Creating an empty list to store the recommended product ids\n",
        "    recommendations = []\n",
        "    \n",
        "    # Creating an user item interactions matrix \n",
        "    user_item_interactions_matrix = data.pivot_table(index = 'user_id', columns = 'song_id', values = 'play_count')\n",
        "    \n",
        "    # Extracting those business ids which the user_id has not visited yet\n",
        "    non_interacted_products = user_item_interactions_matrix.loc[user_id][user_item_interactions_matrix.loc[user_id].isnull()].index.tolist()\n",
        "    \n",
        "    # Looping through each of the business ids which user_id has not interacted yet\n",
        "    for song_id in non_interacted_products:\n",
        "        \n",
        "        # Predicting the ratings for those non visited restaurant ids by this user\n",
        "        est = algo.predict(user_id, song_id).est\n",
        "        \n",
        "        # Appending the predicted ratings\n",
        "        recommendations.append((song_id, est))\n",
        "\n",
        "    # Sorting the predicted ratings in descending order\n",
        "    recommendations.sort(key = lambda x : x[1], reverse = True)\n",
        "\n",
        "    return recommendations[:top_n] # Returing top n highest predicted rating products for this user"
      ]
    },
    {
      "cell_type": "code",
      "source": [
        "df_final.head()"
      ],
      "metadata": {
        "id": "xiQFsUdCoUOx",
        "colab": {
          "base_uri": "https://localhost:8080/",
          "height": 206
        },
        "outputId": "6ebebe44-2bef-49fc-be42-0debbd4a7186"
      },
      "execution_count": 46,
      "outputs": [
        {
          "output_type": "execute_result",
          "data": {
            "text/plain": [
              "   Unnamed: 0  user_id  song_id  play_count     title     release artist_name  \\\n",
              "0         381     3919      736           2  Stronger  Graduation  Kanye West   \n",
              "1         382     3919      736           2  Stronger  Graduation  Kanye West   \n",
              "2         409    51414      736           2  Stronger  Graduation  Kanye West   \n",
              "3         410    51414      736           2  Stronger  Graduation  Kanye West   \n",
              "4         451    72805      736           3  Stronger  Graduation  Kanye West   \n",
              "\n",
              "   year  \n",
              "0  2007  \n",
              "1  2007  \n",
              "2  2007  \n",
              "3  2007  \n",
              "4  2007  "
            ],
            "text/html": [
              "\n",
              "  <div id=\"df-70d47b38-3231-4690-94bc-6444957a4fe1\">\n",
              "    <div class=\"colab-df-container\">\n",
              "      <div>\n",
              "<style scoped>\n",
              "    .dataframe tbody tr th:only-of-type {\n",
              "        vertical-align: middle;\n",
              "    }\n",
              "\n",
              "    .dataframe tbody tr th {\n",
              "        vertical-align: top;\n",
              "    }\n",
              "\n",
              "    .dataframe thead th {\n",
              "        text-align: right;\n",
              "    }\n",
              "</style>\n",
              "<table border=\"1\" class=\"dataframe\">\n",
              "  <thead>\n",
              "    <tr style=\"text-align: right;\">\n",
              "      <th></th>\n",
              "      <th>Unnamed: 0</th>\n",
              "      <th>user_id</th>\n",
              "      <th>song_id</th>\n",
              "      <th>play_count</th>\n",
              "      <th>title</th>\n",
              "      <th>release</th>\n",
              "      <th>artist_name</th>\n",
              "      <th>year</th>\n",
              "    </tr>\n",
              "  </thead>\n",
              "  <tbody>\n",
              "    <tr>\n",
              "      <th>0</th>\n",
              "      <td>381</td>\n",
              "      <td>3919</td>\n",
              "      <td>736</td>\n",
              "      <td>2</td>\n",
              "      <td>Stronger</td>\n",
              "      <td>Graduation</td>\n",
              "      <td>Kanye West</td>\n",
              "      <td>2007</td>\n",
              "    </tr>\n",
              "    <tr>\n",
              "      <th>1</th>\n",
              "      <td>382</td>\n",
              "      <td>3919</td>\n",
              "      <td>736</td>\n",
              "      <td>2</td>\n",
              "      <td>Stronger</td>\n",
              "      <td>Graduation</td>\n",
              "      <td>Kanye West</td>\n",
              "      <td>2007</td>\n",
              "    </tr>\n",
              "    <tr>\n",
              "      <th>2</th>\n",
              "      <td>409</td>\n",
              "      <td>51414</td>\n",
              "      <td>736</td>\n",
              "      <td>2</td>\n",
              "      <td>Stronger</td>\n",
              "      <td>Graduation</td>\n",
              "      <td>Kanye West</td>\n",
              "      <td>2007</td>\n",
              "    </tr>\n",
              "    <tr>\n",
              "      <th>3</th>\n",
              "      <td>410</td>\n",
              "      <td>51414</td>\n",
              "      <td>736</td>\n",
              "      <td>2</td>\n",
              "      <td>Stronger</td>\n",
              "      <td>Graduation</td>\n",
              "      <td>Kanye West</td>\n",
              "      <td>2007</td>\n",
              "    </tr>\n",
              "    <tr>\n",
              "      <th>4</th>\n",
              "      <td>451</td>\n",
              "      <td>72805</td>\n",
              "      <td>736</td>\n",
              "      <td>3</td>\n",
              "      <td>Stronger</td>\n",
              "      <td>Graduation</td>\n",
              "      <td>Kanye West</td>\n",
              "      <td>2007</td>\n",
              "    </tr>\n",
              "  </tbody>\n",
              "</table>\n",
              "</div>\n",
              "      <button class=\"colab-df-convert\" onclick=\"convertToInteractive('df-70d47b38-3231-4690-94bc-6444957a4fe1')\"\n",
              "              title=\"Convert this dataframe to an interactive table.\"\n",
              "              style=\"display:none;\">\n",
              "        \n",
              "  <svg xmlns=\"http://www.w3.org/2000/svg\" height=\"24px\"viewBox=\"0 0 24 24\"\n",
              "       width=\"24px\">\n",
              "    <path d=\"M0 0h24v24H0V0z\" fill=\"none\"/>\n",
              "    <path d=\"M18.56 5.44l.94 2.06.94-2.06 2.06-.94-2.06-.94-.94-2.06-.94 2.06-2.06.94zm-11 1L8.5 8.5l.94-2.06 2.06-.94-2.06-.94L8.5 2.5l-.94 2.06-2.06.94zm10 10l.94 2.06.94-2.06 2.06-.94-2.06-.94-.94-2.06-.94 2.06-2.06.94z\"/><path d=\"M17.41 7.96l-1.37-1.37c-.4-.4-.92-.59-1.43-.59-.52 0-1.04.2-1.43.59L10.3 9.45l-7.72 7.72c-.78.78-.78 2.05 0 2.83L4 21.41c.39.39.9.59 1.41.59.51 0 1.02-.2 1.41-.59l7.78-7.78 2.81-2.81c.8-.78.8-2.07 0-2.86zM5.41 20L4 18.59l7.72-7.72 1.47 1.35L5.41 20z\"/>\n",
              "  </svg>\n",
              "      </button>\n",
              "      \n",
              "  <style>\n",
              "    .colab-df-container {\n",
              "      display:flex;\n",
              "      flex-wrap:wrap;\n",
              "      gap: 12px;\n",
              "    }\n",
              "\n",
              "    .colab-df-convert {\n",
              "      background-color: #E8F0FE;\n",
              "      border: none;\n",
              "      border-radius: 50%;\n",
              "      cursor: pointer;\n",
              "      display: none;\n",
              "      fill: #1967D2;\n",
              "      height: 32px;\n",
              "      padding: 0 0 0 0;\n",
              "      width: 32px;\n",
              "    }\n",
              "\n",
              "    .colab-df-convert:hover {\n",
              "      background-color: #E2EBFA;\n",
              "      box-shadow: 0px 1px 2px rgba(60, 64, 67, 0.3), 0px 1px 3px 1px rgba(60, 64, 67, 0.15);\n",
              "      fill: #174EA6;\n",
              "    }\n",
              "\n",
              "    [theme=dark] .colab-df-convert {\n",
              "      background-color: #3B4455;\n",
              "      fill: #D2E3FC;\n",
              "    }\n",
              "\n",
              "    [theme=dark] .colab-df-convert:hover {\n",
              "      background-color: #434B5C;\n",
              "      box-shadow: 0px 1px 3px 1px rgba(0, 0, 0, 0.15);\n",
              "      filter: drop-shadow(0px 1px 2px rgba(0, 0, 0, 0.3));\n",
              "      fill: #FFFFFF;\n",
              "    }\n",
              "  </style>\n",
              "\n",
              "      <script>\n",
              "        const buttonEl =\n",
              "          document.querySelector('#df-70d47b38-3231-4690-94bc-6444957a4fe1 button.colab-df-convert');\n",
              "        buttonEl.style.display =\n",
              "          google.colab.kernel.accessAllowed ? 'block' : 'none';\n",
              "\n",
              "        async function convertToInteractive(key) {\n",
              "          const element = document.querySelector('#df-70d47b38-3231-4690-94bc-6444957a4fe1');\n",
              "          const dataTable =\n",
              "            await google.colab.kernel.invokeFunction('convertToInteractive',\n",
              "                                                     [key], {});\n",
              "          if (!dataTable) return;\n",
              "\n",
              "          const docLinkHtml = 'Like what you see? Visit the ' +\n",
              "            '<a target=\"_blank\" href=https://colab.research.google.com/notebooks/data_table.ipynb>data table notebook</a>'\n",
              "            + ' to learn more about interactive tables.';\n",
              "          element.innerHTML = '';\n",
              "          dataTable['output_type'] = 'display_data';\n",
              "          await google.colab.output.renderOutput(dataTable, element);\n",
              "          const docLink = document.createElement('div');\n",
              "          docLink.innerHTML = docLinkHtml;\n",
              "          element.appendChild(docLink);\n",
              "        }\n",
              "      </script>\n",
              "    </div>\n",
              "  </div>\n",
              "  "
            ]
          },
          "metadata": {},
          "execution_count": 46
        }
      ]
    },
    {
      "cell_type": "code",
      "execution_count": 47,
      "metadata": {
        "id": "qWbR85mI5Hrk"
      },
      "outputs": [],
      "source": [
        "# Make top 5 recommendations for user_id 6958 with a similarity-based recommendation engine\n",
        "id_user = 6958\n",
        "recommendations = get_recommendations(df_final, id_user , 5, sim_user_user_optimized)"
      ]
    },
    {
      "cell_type": "code",
      "execution_count": 48,
      "metadata": {
        "id": "b5WfIX0Z6_q2",
        "colab": {
          "base_uri": "https://localhost:8080/",
          "height": 206
        },
        "outputId": "0af6b27f-19ce-412d-9fbe-1e3158a99b67"
      },
      "outputs": [
        {
          "output_type": "execute_result",
          "data": {
            "text/plain": [
              "   song_id  predicted_playcounts\n",
              "0     1348              3.206106\n",
              "1     3380              2.900000\n",
              "2     7738              2.888889\n",
              "3       21              2.809680\n",
              "4       22              2.809680"
            ],
            "text/html": [
              "\n",
              "  <div id=\"df-8b7274b1-d398-439a-961f-7627e412ce8c\">\n",
              "    <div class=\"colab-df-container\">\n",
              "      <div>\n",
              "<style scoped>\n",
              "    .dataframe tbody tr th:only-of-type {\n",
              "        vertical-align: middle;\n",
              "    }\n",
              "\n",
              "    .dataframe tbody tr th {\n",
              "        vertical-align: top;\n",
              "    }\n",
              "\n",
              "    .dataframe thead th {\n",
              "        text-align: right;\n",
              "    }\n",
              "</style>\n",
              "<table border=\"1\" class=\"dataframe\">\n",
              "  <thead>\n",
              "    <tr style=\"text-align: right;\">\n",
              "      <th></th>\n",
              "      <th>song_id</th>\n",
              "      <th>predicted_playcounts</th>\n",
              "    </tr>\n",
              "  </thead>\n",
              "  <tbody>\n",
              "    <tr>\n",
              "      <th>0</th>\n",
              "      <td>1348</td>\n",
              "      <td>3.206106</td>\n",
              "    </tr>\n",
              "    <tr>\n",
              "      <th>1</th>\n",
              "      <td>3380</td>\n",
              "      <td>2.900000</td>\n",
              "    </tr>\n",
              "    <tr>\n",
              "      <th>2</th>\n",
              "      <td>7738</td>\n",
              "      <td>2.888889</td>\n",
              "    </tr>\n",
              "    <tr>\n",
              "      <th>3</th>\n",
              "      <td>21</td>\n",
              "      <td>2.809680</td>\n",
              "    </tr>\n",
              "    <tr>\n",
              "      <th>4</th>\n",
              "      <td>22</td>\n",
              "      <td>2.809680</td>\n",
              "    </tr>\n",
              "  </tbody>\n",
              "</table>\n",
              "</div>\n",
              "      <button class=\"colab-df-convert\" onclick=\"convertToInteractive('df-8b7274b1-d398-439a-961f-7627e412ce8c')\"\n",
              "              title=\"Convert this dataframe to an interactive table.\"\n",
              "              style=\"display:none;\">\n",
              "        \n",
              "  <svg xmlns=\"http://www.w3.org/2000/svg\" height=\"24px\"viewBox=\"0 0 24 24\"\n",
              "       width=\"24px\">\n",
              "    <path d=\"M0 0h24v24H0V0z\" fill=\"none\"/>\n",
              "    <path d=\"M18.56 5.44l.94 2.06.94-2.06 2.06-.94-2.06-.94-.94-2.06-.94 2.06-2.06.94zm-11 1L8.5 8.5l.94-2.06 2.06-.94-2.06-.94L8.5 2.5l-.94 2.06-2.06.94zm10 10l.94 2.06.94-2.06 2.06-.94-2.06-.94-.94-2.06-.94 2.06-2.06.94z\"/><path d=\"M17.41 7.96l-1.37-1.37c-.4-.4-.92-.59-1.43-.59-.52 0-1.04.2-1.43.59L10.3 9.45l-7.72 7.72c-.78.78-.78 2.05 0 2.83L4 21.41c.39.39.9.59 1.41.59.51 0 1.02-.2 1.41-.59l7.78-7.78 2.81-2.81c.8-.78.8-2.07 0-2.86zM5.41 20L4 18.59l7.72-7.72 1.47 1.35L5.41 20z\"/>\n",
              "  </svg>\n",
              "      </button>\n",
              "      \n",
              "  <style>\n",
              "    .colab-df-container {\n",
              "      display:flex;\n",
              "      flex-wrap:wrap;\n",
              "      gap: 12px;\n",
              "    }\n",
              "\n",
              "    .colab-df-convert {\n",
              "      background-color: #E8F0FE;\n",
              "      border: none;\n",
              "      border-radius: 50%;\n",
              "      cursor: pointer;\n",
              "      display: none;\n",
              "      fill: #1967D2;\n",
              "      height: 32px;\n",
              "      padding: 0 0 0 0;\n",
              "      width: 32px;\n",
              "    }\n",
              "\n",
              "    .colab-df-convert:hover {\n",
              "      background-color: #E2EBFA;\n",
              "      box-shadow: 0px 1px 2px rgba(60, 64, 67, 0.3), 0px 1px 3px 1px rgba(60, 64, 67, 0.15);\n",
              "      fill: #174EA6;\n",
              "    }\n",
              "\n",
              "    [theme=dark] .colab-df-convert {\n",
              "      background-color: #3B4455;\n",
              "      fill: #D2E3FC;\n",
              "    }\n",
              "\n",
              "    [theme=dark] .colab-df-convert:hover {\n",
              "      background-color: #434B5C;\n",
              "      box-shadow: 0px 1px 3px 1px rgba(0, 0, 0, 0.15);\n",
              "      filter: drop-shadow(0px 1px 2px rgba(0, 0, 0, 0.3));\n",
              "      fill: #FFFFFF;\n",
              "    }\n",
              "  </style>\n",
              "\n",
              "      <script>\n",
              "        const buttonEl =\n",
              "          document.querySelector('#df-8b7274b1-d398-439a-961f-7627e412ce8c button.colab-df-convert');\n",
              "        buttonEl.style.display =\n",
              "          google.colab.kernel.accessAllowed ? 'block' : 'none';\n",
              "\n",
              "        async function convertToInteractive(key) {\n",
              "          const element = document.querySelector('#df-8b7274b1-d398-439a-961f-7627e412ce8c');\n",
              "          const dataTable =\n",
              "            await google.colab.kernel.invokeFunction('convertToInteractive',\n",
              "                                                     [key], {});\n",
              "          if (!dataTable) return;\n",
              "\n",
              "          const docLinkHtml = 'Like what you see? Visit the ' +\n",
              "            '<a target=\"_blank\" href=https://colab.research.google.com/notebooks/data_table.ipynb>data table notebook</a>'\n",
              "            + ' to learn more about interactive tables.';\n",
              "          element.innerHTML = '';\n",
              "          dataTable['output_type'] = 'display_data';\n",
              "          await google.colab.output.renderOutput(dataTable, element);\n",
              "          const docLink = document.createElement('div');\n",
              "          docLink.innerHTML = docLinkHtml;\n",
              "          element.appendChild(docLink);\n",
              "        }\n",
              "      </script>\n",
              "    </div>\n",
              "  </div>\n",
              "  "
            ]
          },
          "metadata": {},
          "execution_count": 48
        }
      ],
      "source": [
        "# Building the dataframe for above recommendations with columns \"song_id\" and \"predicted_ratings\"\n",
        "pd.DataFrame(recommendations, columns = ['song_id', 'predicted_playcounts'])"
      ]
    },
    {
      "cell_type": "markdown",
      "source": [
        "**Observations and Insights:** Based on the model, songs with ids **\"1348\", \"3380\". \"7738\" ,\"21\", and \"22\"** are recommended to the user \"6958\". The predicted play counts for these songs are **all close to 3**."
      ],
      "metadata": {
        "id": "kyhThMOttWjj"
      }
    },
    {
      "cell_type": "markdown",
      "metadata": {
        "id": "ghwEJY2e7INB"
      },
      "source": [
        "### Correcting the play_counts and Ranking the above songs"
      ]
    },
    {
      "cell_type": "code",
      "execution_count": 49,
      "metadata": {
        "id": "39Hs7ZbO9v3O"
      },
      "outputs": [],
      "source": [
        "def ranking_songs(recommendations, final_rating):\n",
        "  # Sort the songs based on play counts\n",
        "  ranked_songs = final_rating.loc[[items[0] for items in recommendations]].sort_values('play_freq', ascending = False)[['play_freq']].reset_index()\n",
        "\n",
        "  # Merge with the recommended songs to get predicted play_count\n",
        "  ranked_songs = ranked_songs.merge(pd.DataFrame(recommendations, columns = ['song_id', 'predicted_ratings']), on = 'song_id', how = 'inner')\n",
        "\n",
        "  # Rank the songs based on corrected play_counts\n",
        "  ranked_songs['corrected_ratings'] = ranked_songs['predicted_ratings'] - 1 / np.sqrt(ranked_songs['play_freq'])\n",
        "\n",
        "  # Sort the songs based on corrected play_counts\n",
        "  ranked_songs = ranked_songs.sort_values('corrected_ratings',ascending = False)\n",
        "  \n",
        "  return ranked_songs"
      ]
    },
    {
      "cell_type": "markdown",
      "source": [
        "**Think About It:** In the above function to correct the predicted play_count a quantity 1/np.sqrt(n) is subtracted. What is the intuition behind it? Is it also possible to add this quantity instead of subtracting?"
      ],
      "metadata": {
        "id": "zQvst41lOoMX"
      }
    },
    {
      "cell_type": "code",
      "execution_count": 50,
      "metadata": {
        "id": "xoiAL_vH8miC",
        "colab": {
          "base_uri": "https://localhost:8080/",
          "height": 206
        },
        "outputId": "1f854da1-2dd0-489c-d5f6-8b71e04d3a12"
      },
      "outputs": [
        {
          "output_type": "execute_result",
          "data": {
            "text/plain": [
              "   song_id  play_freq  predicted_ratings  corrected_ratings\n",
              "0     1348        208           3.206106           3.136769\n",
              "2     3380         52           2.900000           2.761325\n",
              "3     7738         52           2.888889           2.750214\n",
              "1       21        103           2.809680           2.711147\n",
              "4       22         36           2.809680           2.643013"
            ],
            "text/html": [
              "\n",
              "  <div id=\"df-2faceacb-04d3-48f8-82e1-449752bf0936\">\n",
              "    <div class=\"colab-df-container\">\n",
              "      <div>\n",
              "<style scoped>\n",
              "    .dataframe tbody tr th:only-of-type {\n",
              "        vertical-align: middle;\n",
              "    }\n",
              "\n",
              "    .dataframe tbody tr th {\n",
              "        vertical-align: top;\n",
              "    }\n",
              "\n",
              "    .dataframe thead th {\n",
              "        text-align: right;\n",
              "    }\n",
              "</style>\n",
              "<table border=\"1\" class=\"dataframe\">\n",
              "  <thead>\n",
              "    <tr style=\"text-align: right;\">\n",
              "      <th></th>\n",
              "      <th>song_id</th>\n",
              "      <th>play_freq</th>\n",
              "      <th>predicted_ratings</th>\n",
              "      <th>corrected_ratings</th>\n",
              "    </tr>\n",
              "  </thead>\n",
              "  <tbody>\n",
              "    <tr>\n",
              "      <th>0</th>\n",
              "      <td>1348</td>\n",
              "      <td>208</td>\n",
              "      <td>3.206106</td>\n",
              "      <td>3.136769</td>\n",
              "    </tr>\n",
              "    <tr>\n",
              "      <th>2</th>\n",
              "      <td>3380</td>\n",
              "      <td>52</td>\n",
              "      <td>2.900000</td>\n",
              "      <td>2.761325</td>\n",
              "    </tr>\n",
              "    <tr>\n",
              "      <th>3</th>\n",
              "      <td>7738</td>\n",
              "      <td>52</td>\n",
              "      <td>2.888889</td>\n",
              "      <td>2.750214</td>\n",
              "    </tr>\n",
              "    <tr>\n",
              "      <th>1</th>\n",
              "      <td>21</td>\n",
              "      <td>103</td>\n",
              "      <td>2.809680</td>\n",
              "      <td>2.711147</td>\n",
              "    </tr>\n",
              "    <tr>\n",
              "      <th>4</th>\n",
              "      <td>22</td>\n",
              "      <td>36</td>\n",
              "      <td>2.809680</td>\n",
              "      <td>2.643013</td>\n",
              "    </tr>\n",
              "  </tbody>\n",
              "</table>\n",
              "</div>\n",
              "      <button class=\"colab-df-convert\" onclick=\"convertToInteractive('df-2faceacb-04d3-48f8-82e1-449752bf0936')\"\n",
              "              title=\"Convert this dataframe to an interactive table.\"\n",
              "              style=\"display:none;\">\n",
              "        \n",
              "  <svg xmlns=\"http://www.w3.org/2000/svg\" height=\"24px\"viewBox=\"0 0 24 24\"\n",
              "       width=\"24px\">\n",
              "    <path d=\"M0 0h24v24H0V0z\" fill=\"none\"/>\n",
              "    <path d=\"M18.56 5.44l.94 2.06.94-2.06 2.06-.94-2.06-.94-.94-2.06-.94 2.06-2.06.94zm-11 1L8.5 8.5l.94-2.06 2.06-.94-2.06-.94L8.5 2.5l-.94 2.06-2.06.94zm10 10l.94 2.06.94-2.06 2.06-.94-2.06-.94-.94-2.06-.94 2.06-2.06.94z\"/><path d=\"M17.41 7.96l-1.37-1.37c-.4-.4-.92-.59-1.43-.59-.52 0-1.04.2-1.43.59L10.3 9.45l-7.72 7.72c-.78.78-.78 2.05 0 2.83L4 21.41c.39.39.9.59 1.41.59.51 0 1.02-.2 1.41-.59l7.78-7.78 2.81-2.81c.8-.78.8-2.07 0-2.86zM5.41 20L4 18.59l7.72-7.72 1.47 1.35L5.41 20z\"/>\n",
              "  </svg>\n",
              "      </button>\n",
              "      \n",
              "  <style>\n",
              "    .colab-df-container {\n",
              "      display:flex;\n",
              "      flex-wrap:wrap;\n",
              "      gap: 12px;\n",
              "    }\n",
              "\n",
              "    .colab-df-convert {\n",
              "      background-color: #E8F0FE;\n",
              "      border: none;\n",
              "      border-radius: 50%;\n",
              "      cursor: pointer;\n",
              "      display: none;\n",
              "      fill: #1967D2;\n",
              "      height: 32px;\n",
              "      padding: 0 0 0 0;\n",
              "      width: 32px;\n",
              "    }\n",
              "\n",
              "    .colab-df-convert:hover {\n",
              "      background-color: #E2EBFA;\n",
              "      box-shadow: 0px 1px 2px rgba(60, 64, 67, 0.3), 0px 1px 3px 1px rgba(60, 64, 67, 0.15);\n",
              "      fill: #174EA6;\n",
              "    }\n",
              "\n",
              "    [theme=dark] .colab-df-convert {\n",
              "      background-color: #3B4455;\n",
              "      fill: #D2E3FC;\n",
              "    }\n",
              "\n",
              "    [theme=dark] .colab-df-convert:hover {\n",
              "      background-color: #434B5C;\n",
              "      box-shadow: 0px 1px 3px 1px rgba(0, 0, 0, 0.15);\n",
              "      filter: drop-shadow(0px 1px 2px rgba(0, 0, 0, 0.3));\n",
              "      fill: #FFFFFF;\n",
              "    }\n",
              "  </style>\n",
              "\n",
              "      <script>\n",
              "        const buttonEl =\n",
              "          document.querySelector('#df-2faceacb-04d3-48f8-82e1-449752bf0936 button.colab-df-convert');\n",
              "        buttonEl.style.display =\n",
              "          google.colab.kernel.accessAllowed ? 'block' : 'none';\n",
              "\n",
              "        async function convertToInteractive(key) {\n",
              "          const element = document.querySelector('#df-2faceacb-04d3-48f8-82e1-449752bf0936');\n",
              "          const dataTable =\n",
              "            await google.colab.kernel.invokeFunction('convertToInteractive',\n",
              "                                                     [key], {});\n",
              "          if (!dataTable) return;\n",
              "\n",
              "          const docLinkHtml = 'Like what you see? Visit the ' +\n",
              "            '<a target=\"_blank\" href=https://colab.research.google.com/notebooks/data_table.ipynb>data table notebook</a>'\n",
              "            + ' to learn more about interactive tables.';\n",
              "          element.innerHTML = '';\n",
              "          dataTable['output_type'] = 'display_data';\n",
              "          await google.colab.output.renderOutput(dataTable, element);\n",
              "          const docLink = document.createElement('div');\n",
              "          docLink.innerHTML = docLinkHtml;\n",
              "          element.appendChild(docLink);\n",
              "        }\n",
              "      </script>\n",
              "    </div>\n",
              "  </div>\n",
              "  "
            ]
          },
          "metadata": {},
          "execution_count": 50
        }
      ],
      "source": [
        "# Applying the ranking_songs function on the final_play data\n",
        "ranking_songs(recommendations, final_play)"
      ]
    },
    {
      "cell_type": "markdown",
      "source": [
        "**Observations and Insights:** Although the corrected_ratings are lower than the predicted-ratings, **the ranking of the songs did not change**. "
      ],
      "metadata": {
        "id": "KOwwGsH8toLG"
      }
    },
    {
      "cell_type": "markdown",
      "metadata": {
        "id": "QgbzJKk7Tsnr"
      },
      "source": [
        "### Item Item Similarity-based collaborative filtering recommendation systems "
      ]
    },
    {
      "cell_type": "code",
      "execution_count": 51,
      "metadata": {
        "id": "W5RMcdzjTsns",
        "scrolled": false,
        "colab": {
          "base_uri": "https://localhost:8080/"
        },
        "outputId": "e8c78029-899d-49b2-9cf2-c9436ed07dab"
      },
      "outputs": [
        {
          "output_type": "stream",
          "name": "stdout",
          "text": [
            "RMSE: 1.0212\n",
            "Precision:  1.0\n",
            "Recall:  0.996\n",
            "F_1 score:  0.998\n"
          ]
        }
      ],
      "source": [
        "# Apply the item-item similarity collaborative filtering model with random_state = 1 and evaluate the model performance\n",
        "# Declaring the similarity options\n",
        "sim_options = {'name': 'cosine',\n",
        "               'user_based': False}\n",
        "\n",
        "# KNN algorithm is used to find desired similar items\n",
        "sim_item_item = KNNBasic(sim_options = sim_options, random_state = 1, verbose = False)\n",
        "\n",
        "# Train the algorithm on the trainset, and predict ratings for the test set\n",
        "sim_item_item.fit(trainset)\n",
        "\n",
        "# Let us compute precision@k, recall@k, and f_1 score with k = 10\n",
        "precision_recall_at_k(sim_item_item)"
      ]
    },
    {
      "cell_type": "markdown",
      "source": [
        "**Observations and Insights:** The baseline model of item-item similarity-based collaborative filtering recommendation systems is giving a **F_1 score of 0.998** that is as high as the user-user based model. **The recall and precision are 0.996 and 1, respectively, that are also the same as the user-user based model**."
      ],
      "metadata": {
        "id": "JfdIJ6XWunx0"
      }
    },
    {
      "cell_type": "code",
      "execution_count": 52,
      "metadata": {
        "id": "5yILOxXRTsns",
        "colab": {
          "base_uri": "https://localhost:8080/"
        },
        "outputId": "f51de145-4675-49cc-f17d-86035c8b9a1a"
      },
      "outputs": [
        {
          "output_type": "stream",
          "name": "stdout",
          "text": [
            "user: 6958       item: 1671       r_ui = 2.00   est = 2.81   {'was_impossible': True, 'reason': 'User and/or item is unknown.'}\n"
          ]
        },
        {
          "output_type": "execute_result",
          "data": {
            "text/plain": [
              "Prediction(uid='6958', iid='1671', r_ui=2, est=2.809679622147613, details={'was_impossible': True, 'reason': 'User and/or item is unknown.'})"
            ]
          },
          "metadata": {},
          "execution_count": 52
        }
      ],
      "source": [
        "# Predicting play count for a sample user_id 6958 and song (with song_id 1671) heard by the user \n",
        "sim_item_item.predict(\"6958\", \"1671\", r_ui = 2, verbose = True)"
      ]
    },
    {
      "cell_type": "code",
      "source": [
        "df_final[df_final.song_id == 1671].user_id.unique()"
      ],
      "metadata": {
        "id": "sQ1CpAx_wiO1",
        "colab": {
          "base_uri": "https://localhost:8080/"
        },
        "outputId": "f6a74a04-7edf-4347-e5f2-772557c95b7b"
      },
      "execution_count": 53,
      "outputs": [
        {
          "output_type": "execute_result",
          "data": {
            "text/plain": [
              "array([ 6958, 54866, 23516, 70987, 30305, 55566,  1035, 52134, 23705,\n",
              "       60129,  7670, 25351, 35160, 23790, 41878, 53691, 43177, 72448,\n",
              "       60644, 60518, 34410, 71481, 61513, 33403, 60923, 23148, 69722,\n",
              "        1602, 37727, 61794, 48175, 72397, 60215, 45401, 10267, 43539,\n",
              "       67874, 64985, 17932, 16076, 17050,  9193, 51599, 59782, 61007,\n",
              "       50687, 47105, 10807])"
            ]
          },
          "metadata": {},
          "execution_count": 53
        }
      ]
    },
    {
      "cell_type": "code",
      "source": [
        "# Predict the play count for a user that has not listened to the song (with song_id 1671)\n",
        "sim_item_item.predict(\"10632\", \"1671\", verbose = True)"
      ],
      "metadata": {
        "id": "jSn8oK3JZsTc",
        "colab": {
          "base_uri": "https://localhost:8080/"
        },
        "outputId": "6593a9c9-b925-4d77-8f10-a714332f8143"
      },
      "execution_count": 54,
      "outputs": [
        {
          "output_type": "stream",
          "name": "stdout",
          "text": [
            "user: 10632      item: 1671       r_ui = None   est = 2.81   {'was_impossible': True, 'reason': 'User and/or item is unknown.'}\n"
          ]
        },
        {
          "output_type": "execute_result",
          "data": {
            "text/plain": [
              "Prediction(uid='10632', iid='1671', r_ui=None, est=2.809679622147613, details={'was_impossible': True, 'reason': 'User and/or item is unknown.'})"
            ]
          },
          "metadata": {},
          "execution_count": 54
        }
      ]
    },
    {
      "cell_type": "markdown",
      "source": [
        "**Observations and Insights:** The above output shows that **the actual play count for the user-song pair \"6958\"-\"1671\" is 2, and the predicted count is 2.81** by this user-user-similarity-based baseline model. **The predicted play count is also 2.81** for the user \"10632\" who has not listened to the song \"1671\".\n"
      ],
      "metadata": {
        "id": "dxE9fJ8Dupby"
      }
    },
    {
      "cell_type": "code",
      "execution_count": 55,
      "metadata": {
        "id": "f5bcZ3HgTsnt",
        "colab": {
          "base_uri": "https://localhost:8080/"
        },
        "outputId": "10bce48e-3de7-406b-8fae-a3f4d7ee6482"
      },
      "outputs": [
        {
          "output_type": "stream",
          "name": "stdout",
          "text": [
            "0.9765182195453118\n",
            "{'k': 30, 'min_k': 3, 'sim_options': {'name': 'pearson_baseline', 'user_based': False, 'min_support': 2}}\n"
          ]
        }
      ],
      "source": [
        "# Apply grid search for enhancing model performance\n",
        "\n",
        "# Setting up parameter grid to tune the hyperparameters\n",
        "param_grid = {'k': [10, 20, 30], 'min_k': [3, 6, 9],\n",
        "              'sim_options': {'name': [\"cosine\", 'pearson', \"pearson_baseline\"],\n",
        "                              'user_based': [False], \"min_support\": [2, 4]}\n",
        "              }\n",
        "\n",
        "# Performing 3-fold cross-validation to tune the hyperparameters\n",
        "gs = GridSearchCV(KNNBasic, param_grid, measures = ['rmse'], cv = 3, n_jobs = -1)\n",
        "\n",
        "# Fitting the data\n",
        "gs.fit(data) # Use entire data for GridSearch\n",
        "\n",
        "# Best RMSE score\n",
        "print(gs.best_score['rmse'])\n",
        "\n",
        "# Combination of parameters that gave the best RMSE score\n",
        "print(gs.best_params['rmse']) "
      ]
    },
    {
      "cell_type": "code",
      "execution_count": 56,
      "metadata": {
        "id": "dSeiM1qeTsnt",
        "colab": {
          "base_uri": "https://localhost:8080/"
        },
        "outputId": "75baa73a-a94e-4cdf-cb06-3cf7455c908c"
      },
      "outputs": [
        {
          "output_type": "stream",
          "name": "stdout",
          "text": [
            "RMSE: 1.0269\n",
            "Precision:  1.0\n",
            "Recall:  0.996\n",
            "F_1 score:  0.998\n"
          ]
        }
      ],
      "source": [
        "# Apply the best modle found in the grid search\n",
        "# Using the optimal similarity measure for user-user based collaborative filtering\n",
        "sim_options = {'name': 'cosine',\n",
        "               'user_based': True}\n",
        "\n",
        "# Creating an instance of KNNBasic with optimal hyperparameter values\n",
        "sim_item_item_optimized = KNNBasic(sim_options = sim_options, k = 30, min_k = 3, random_state = 1, verbose = False)\n",
        "\n",
        "# Training the algorithm on the trainset\n",
        "sim_item_item_optimized.fit(trainset)\n",
        "\n",
        "# Let us compute precision@k and recall@k also with k =10\n",
        "precision_recall_at_k(sim_item_item_optimized)"
      ]
    },
    {
      "cell_type": "markdown",
      "source": [
        "**Observations and Insights:** We can observethat after tuning hyperparameters, **F_1 score of the tuned model is 0.998, which is better than the baseline model.** Along with this, both **precision and recall are the same** as compared to the model before hyperparameter tuning. The only difference is that **the RMSE (1.0269) is higher than before (1.0212)**. Hence, we cannot say that the model performance has improved after hyperparameter tuning. "
      ],
      "metadata": {
        "id": "XxXelRIluvfh"
      }
    },
    {
      "cell_type": "code",
      "execution_count": 57,
      "metadata": {
        "id": "gIBRRvdoTsnt",
        "colab": {
          "base_uri": "https://localhost:8080/"
        },
        "outputId": "6a26e09b-03e7-4cd9-c78d-70222ee96b3e"
      },
      "outputs": [
        {
          "output_type": "stream",
          "name": "stdout",
          "text": [
            "user: 6958       item: 1671       r_ui = 2.00   est = 2.81   {'was_impossible': True, 'reason': 'User and/or item is unknown.'}\n"
          ]
        },
        {
          "output_type": "execute_result",
          "data": {
            "text/plain": [
              "Prediction(uid='6958', iid='1671', r_ui=2, est=2.809679622147613, details={'was_impossible': True, 'reason': 'User and/or item is unknown.'})"
            ]
          },
          "metadata": {},
          "execution_count": 57
        }
      ],
      "source": [
        "# Predict the play_count by a user(user_id 6958) for the song (song_id 1671)\n",
        "sim_item_item_optimized.predict(\"6958\", \"1671\", r_ui = 2, verbose = True)"
      ]
    },
    {
      "cell_type": "code",
      "execution_count": 58,
      "metadata": {
        "id": "LNEgcI9PTsnu",
        "colab": {
          "base_uri": "https://localhost:8080/"
        },
        "outputId": "c3cdc015-0f1b-4b30-f383-ea4c7e5a0a54"
      },
      "outputs": [
        {
          "output_type": "stream",
          "name": "stdout",
          "text": [
            "user: 6958       item: 3232       r_ui = None   est = 2.81   {'was_impossible': True, 'reason': 'User and/or item is unknown.'}\n"
          ]
        },
        {
          "output_type": "execute_result",
          "data": {
            "text/plain": [
              "Prediction(uid='6958', iid='3232', r_ui=None, est=2.809679622147613, details={'was_impossible': True, 'reason': 'User and/or item is unknown.'})"
            ]
          },
          "metadata": {},
          "execution_count": 58
        }
      ],
      "source": [
        "# Predicting play count for a sample user_id 6958 with song_id 3232 which is not heard by the user\n",
        "sim_item_item_optimized.predict(\"6958\", \"3232\", verbose = True)"
      ]
    },
    {
      "cell_type": "markdown",
      "source": [
        "**Observations and Insights:** The estimated play count for the user with id \"6958\" is **2.81 for both songs \"1671\" and \"3232\", which is the same as the estimated play count using the baseline model.** "
      ],
      "metadata": {
        "id": "yf3kDSepuwcw"
      }
    },
    {
      "cell_type": "code",
      "execution_count": 59,
      "metadata": {
        "id": "ZRJS4oDFTsnu",
        "colab": {
          "base_uri": "https://localhost:8080/"
        },
        "outputId": "e96670c2-ac26-44ff-8611-504745e929a6"
      },
      "outputs": [
        {
          "output_type": "execute_result",
          "data": {
            "text/plain": [
              "[4, 6, 9, 10, 11]"
            ]
          },
          "metadata": {},
          "execution_count": 59
        }
      ],
      "source": [
        "# Find five most similar items to the item with inner id 0\n",
        "sim_item_item_optimized.get_neighbors(0, k = 5)"
      ]
    },
    {
      "cell_type": "code",
      "execution_count": 60,
      "metadata": {
        "id": "rzoEbuZFTsnu"
      },
      "outputs": [],
      "source": [
        "# Making top 5 recommendations for user_id 6958 with item_item_similarity-based recommendation engine\n",
        "recommendations = get_recommendations(df_final, 6958, 5, sim_item_item)"
      ]
    },
    {
      "cell_type": "code",
      "execution_count": 61,
      "metadata": {
        "id": "_kXVTiysTsnv",
        "colab": {
          "base_uri": "https://localhost:8080/",
          "height": 206
        },
        "outputId": "52b9dfd0-a5e7-4936-daac-9270d0073fa5"
      },
      "outputs": [
        {
          "output_type": "execute_result",
          "data": {
            "text/plain": [
              "   song_id  predicted_play_count\n",
              "0       52                     5\n",
              "1      194                     5\n",
              "2      337                     5\n",
              "3      396                     5\n",
              "4      657                     5"
            ],
            "text/html": [
              "\n",
              "  <div id=\"df-de53cadf-cffb-4b93-aede-9832b9913bb7\">\n",
              "    <div class=\"colab-df-container\">\n",
              "      <div>\n",
              "<style scoped>\n",
              "    .dataframe tbody tr th:only-of-type {\n",
              "        vertical-align: middle;\n",
              "    }\n",
              "\n",
              "    .dataframe tbody tr th {\n",
              "        vertical-align: top;\n",
              "    }\n",
              "\n",
              "    .dataframe thead th {\n",
              "        text-align: right;\n",
              "    }\n",
              "</style>\n",
              "<table border=\"1\" class=\"dataframe\">\n",
              "  <thead>\n",
              "    <tr style=\"text-align: right;\">\n",
              "      <th></th>\n",
              "      <th>song_id</th>\n",
              "      <th>predicted_play_count</th>\n",
              "    </tr>\n",
              "  </thead>\n",
              "  <tbody>\n",
              "    <tr>\n",
              "      <th>0</th>\n",
              "      <td>52</td>\n",
              "      <td>5</td>\n",
              "    </tr>\n",
              "    <tr>\n",
              "      <th>1</th>\n",
              "      <td>194</td>\n",
              "      <td>5</td>\n",
              "    </tr>\n",
              "    <tr>\n",
              "      <th>2</th>\n",
              "      <td>337</td>\n",
              "      <td>5</td>\n",
              "    </tr>\n",
              "    <tr>\n",
              "      <th>3</th>\n",
              "      <td>396</td>\n",
              "      <td>5</td>\n",
              "    </tr>\n",
              "    <tr>\n",
              "      <th>4</th>\n",
              "      <td>657</td>\n",
              "      <td>5</td>\n",
              "    </tr>\n",
              "  </tbody>\n",
              "</table>\n",
              "</div>\n",
              "      <button class=\"colab-df-convert\" onclick=\"convertToInteractive('df-de53cadf-cffb-4b93-aede-9832b9913bb7')\"\n",
              "              title=\"Convert this dataframe to an interactive table.\"\n",
              "              style=\"display:none;\">\n",
              "        \n",
              "  <svg xmlns=\"http://www.w3.org/2000/svg\" height=\"24px\"viewBox=\"0 0 24 24\"\n",
              "       width=\"24px\">\n",
              "    <path d=\"M0 0h24v24H0V0z\" fill=\"none\"/>\n",
              "    <path d=\"M18.56 5.44l.94 2.06.94-2.06 2.06-.94-2.06-.94-.94-2.06-.94 2.06-2.06.94zm-11 1L8.5 8.5l.94-2.06 2.06-.94-2.06-.94L8.5 2.5l-.94 2.06-2.06.94zm10 10l.94 2.06.94-2.06 2.06-.94-2.06-.94-.94-2.06-.94 2.06-2.06.94z\"/><path d=\"M17.41 7.96l-1.37-1.37c-.4-.4-.92-.59-1.43-.59-.52 0-1.04.2-1.43.59L10.3 9.45l-7.72 7.72c-.78.78-.78 2.05 0 2.83L4 21.41c.39.39.9.59 1.41.59.51 0 1.02-.2 1.41-.59l7.78-7.78 2.81-2.81c.8-.78.8-2.07 0-2.86zM5.41 20L4 18.59l7.72-7.72 1.47 1.35L5.41 20z\"/>\n",
              "  </svg>\n",
              "      </button>\n",
              "      \n",
              "  <style>\n",
              "    .colab-df-container {\n",
              "      display:flex;\n",
              "      flex-wrap:wrap;\n",
              "      gap: 12px;\n",
              "    }\n",
              "\n",
              "    .colab-df-convert {\n",
              "      background-color: #E8F0FE;\n",
              "      border: none;\n",
              "      border-radius: 50%;\n",
              "      cursor: pointer;\n",
              "      display: none;\n",
              "      fill: #1967D2;\n",
              "      height: 32px;\n",
              "      padding: 0 0 0 0;\n",
              "      width: 32px;\n",
              "    }\n",
              "\n",
              "    .colab-df-convert:hover {\n",
              "      background-color: #E2EBFA;\n",
              "      box-shadow: 0px 1px 2px rgba(60, 64, 67, 0.3), 0px 1px 3px 1px rgba(60, 64, 67, 0.15);\n",
              "      fill: #174EA6;\n",
              "    }\n",
              "\n",
              "    [theme=dark] .colab-df-convert {\n",
              "      background-color: #3B4455;\n",
              "      fill: #D2E3FC;\n",
              "    }\n",
              "\n",
              "    [theme=dark] .colab-df-convert:hover {\n",
              "      background-color: #434B5C;\n",
              "      box-shadow: 0px 1px 3px 1px rgba(0, 0, 0, 0.15);\n",
              "      filter: drop-shadow(0px 1px 2px rgba(0, 0, 0, 0.3));\n",
              "      fill: #FFFFFF;\n",
              "    }\n",
              "  </style>\n",
              "\n",
              "      <script>\n",
              "        const buttonEl =\n",
              "          document.querySelector('#df-de53cadf-cffb-4b93-aede-9832b9913bb7 button.colab-df-convert');\n",
              "        buttonEl.style.display =\n",
              "          google.colab.kernel.accessAllowed ? 'block' : 'none';\n",
              "\n",
              "        async function convertToInteractive(key) {\n",
              "          const element = document.querySelector('#df-de53cadf-cffb-4b93-aede-9832b9913bb7');\n",
              "          const dataTable =\n",
              "            await google.colab.kernel.invokeFunction('convertToInteractive',\n",
              "                                                     [key], {});\n",
              "          if (!dataTable) return;\n",
              "\n",
              "          const docLinkHtml = 'Like what you see? Visit the ' +\n",
              "            '<a target=\"_blank\" href=https://colab.research.google.com/notebooks/data_table.ipynb>data table notebook</a>'\n",
              "            + ' to learn more about interactive tables.';\n",
              "          element.innerHTML = '';\n",
              "          dataTable['output_type'] = 'display_data';\n",
              "          await google.colab.output.renderOutput(dataTable, element);\n",
              "          const docLink = document.createElement('div');\n",
              "          docLink.innerHTML = docLinkHtml;\n",
              "          element.appendChild(docLink);\n",
              "        }\n",
              "      </script>\n",
              "    </div>\n",
              "  </div>\n",
              "  "
            ]
          },
          "metadata": {},
          "execution_count": 61
        }
      ],
      "source": [
        "# Building the dataframe for above recommendations with columns \"song_id\" and \"predicted_play_count\"\n",
        "pd.DataFrame(recommendations, columns = ['song_id', 'predicted_play_count'])"
      ]
    },
    {
      "cell_type": "code",
      "execution_count": 62,
      "metadata": {
        "id": "7gewfmTATsnv",
        "colab": {
          "base_uri": "https://localhost:8080/",
          "height": 206
        },
        "outputId": "69536b25-06d9-4276-b48b-184ae8e34bbd"
      },
      "outputs": [
        {
          "output_type": "execute_result",
          "data": {
            "text/plain": [
              "   song_id  play_freq  predicted_ratings  corrected_ratings\n",
              "0       52        201                  5           4.929465\n",
              "1      396        163                  5           4.921674\n",
              "2      657         68                  5           4.878732\n",
              "3      194         64                  5           4.875000\n",
              "4      337         24                  5           4.795876"
            ],
            "text/html": [
              "\n",
              "  <div id=\"df-e60baee5-7722-420b-b1e5-a50346504065\">\n",
              "    <div class=\"colab-df-container\">\n",
              "      <div>\n",
              "<style scoped>\n",
              "    .dataframe tbody tr th:only-of-type {\n",
              "        vertical-align: middle;\n",
              "    }\n",
              "\n",
              "    .dataframe tbody tr th {\n",
              "        vertical-align: top;\n",
              "    }\n",
              "\n",
              "    .dataframe thead th {\n",
              "        text-align: right;\n",
              "    }\n",
              "</style>\n",
              "<table border=\"1\" class=\"dataframe\">\n",
              "  <thead>\n",
              "    <tr style=\"text-align: right;\">\n",
              "      <th></th>\n",
              "      <th>song_id</th>\n",
              "      <th>play_freq</th>\n",
              "      <th>predicted_ratings</th>\n",
              "      <th>corrected_ratings</th>\n",
              "    </tr>\n",
              "  </thead>\n",
              "  <tbody>\n",
              "    <tr>\n",
              "      <th>0</th>\n",
              "      <td>52</td>\n",
              "      <td>201</td>\n",
              "      <td>5</td>\n",
              "      <td>4.929465</td>\n",
              "    </tr>\n",
              "    <tr>\n",
              "      <th>1</th>\n",
              "      <td>396</td>\n",
              "      <td>163</td>\n",
              "      <td>5</td>\n",
              "      <td>4.921674</td>\n",
              "    </tr>\n",
              "    <tr>\n",
              "      <th>2</th>\n",
              "      <td>657</td>\n",
              "      <td>68</td>\n",
              "      <td>5</td>\n",
              "      <td>4.878732</td>\n",
              "    </tr>\n",
              "    <tr>\n",
              "      <th>3</th>\n",
              "      <td>194</td>\n",
              "      <td>64</td>\n",
              "      <td>5</td>\n",
              "      <td>4.875000</td>\n",
              "    </tr>\n",
              "    <tr>\n",
              "      <th>4</th>\n",
              "      <td>337</td>\n",
              "      <td>24</td>\n",
              "      <td>5</td>\n",
              "      <td>4.795876</td>\n",
              "    </tr>\n",
              "  </tbody>\n",
              "</table>\n",
              "</div>\n",
              "      <button class=\"colab-df-convert\" onclick=\"convertToInteractive('df-e60baee5-7722-420b-b1e5-a50346504065')\"\n",
              "              title=\"Convert this dataframe to an interactive table.\"\n",
              "              style=\"display:none;\">\n",
              "        \n",
              "  <svg xmlns=\"http://www.w3.org/2000/svg\" height=\"24px\"viewBox=\"0 0 24 24\"\n",
              "       width=\"24px\">\n",
              "    <path d=\"M0 0h24v24H0V0z\" fill=\"none\"/>\n",
              "    <path d=\"M18.56 5.44l.94 2.06.94-2.06 2.06-.94-2.06-.94-.94-2.06-.94 2.06-2.06.94zm-11 1L8.5 8.5l.94-2.06 2.06-.94-2.06-.94L8.5 2.5l-.94 2.06-2.06.94zm10 10l.94 2.06.94-2.06 2.06-.94-2.06-.94-.94-2.06-.94 2.06-2.06.94z\"/><path d=\"M17.41 7.96l-1.37-1.37c-.4-.4-.92-.59-1.43-.59-.52 0-1.04.2-1.43.59L10.3 9.45l-7.72 7.72c-.78.78-.78 2.05 0 2.83L4 21.41c.39.39.9.59 1.41.59.51 0 1.02-.2 1.41-.59l7.78-7.78 2.81-2.81c.8-.78.8-2.07 0-2.86zM5.41 20L4 18.59l7.72-7.72 1.47 1.35L5.41 20z\"/>\n",
              "  </svg>\n",
              "      </button>\n",
              "      \n",
              "  <style>\n",
              "    .colab-df-container {\n",
              "      display:flex;\n",
              "      flex-wrap:wrap;\n",
              "      gap: 12px;\n",
              "    }\n",
              "\n",
              "    .colab-df-convert {\n",
              "      background-color: #E8F0FE;\n",
              "      border: none;\n",
              "      border-radius: 50%;\n",
              "      cursor: pointer;\n",
              "      display: none;\n",
              "      fill: #1967D2;\n",
              "      height: 32px;\n",
              "      padding: 0 0 0 0;\n",
              "      width: 32px;\n",
              "    }\n",
              "\n",
              "    .colab-df-convert:hover {\n",
              "      background-color: #E2EBFA;\n",
              "      box-shadow: 0px 1px 2px rgba(60, 64, 67, 0.3), 0px 1px 3px 1px rgba(60, 64, 67, 0.15);\n",
              "      fill: #174EA6;\n",
              "    }\n",
              "\n",
              "    [theme=dark] .colab-df-convert {\n",
              "      background-color: #3B4455;\n",
              "      fill: #D2E3FC;\n",
              "    }\n",
              "\n",
              "    [theme=dark] .colab-df-convert:hover {\n",
              "      background-color: #434B5C;\n",
              "      box-shadow: 0px 1px 3px 1px rgba(0, 0, 0, 0.15);\n",
              "      filter: drop-shadow(0px 1px 2px rgba(0, 0, 0, 0.3));\n",
              "      fill: #FFFFFF;\n",
              "    }\n",
              "  </style>\n",
              "\n",
              "      <script>\n",
              "        const buttonEl =\n",
              "          document.querySelector('#df-e60baee5-7722-420b-b1e5-a50346504065 button.colab-df-convert');\n",
              "        buttonEl.style.display =\n",
              "          google.colab.kernel.accessAllowed ? 'block' : 'none';\n",
              "\n",
              "        async function convertToInteractive(key) {\n",
              "          const element = document.querySelector('#df-e60baee5-7722-420b-b1e5-a50346504065');\n",
              "          const dataTable =\n",
              "            await google.colab.kernel.invokeFunction('convertToInteractive',\n",
              "                                                     [key], {});\n",
              "          if (!dataTable) return;\n",
              "\n",
              "          const docLinkHtml = 'Like what you see? Visit the ' +\n",
              "            '<a target=\"_blank\" href=https://colab.research.google.com/notebooks/data_table.ipynb>data table notebook</a>'\n",
              "            + ' to learn more about interactive tables.';\n",
              "          element.innerHTML = '';\n",
              "          dataTable['output_type'] = 'display_data';\n",
              "          await google.colab.output.renderOutput(dataTable, element);\n",
              "          const docLink = document.createElement('div');\n",
              "          docLink.innerHTML = docLinkHtml;\n",
              "          element.appendChild(docLink);\n",
              "        }\n",
              "      </script>\n",
              "    </div>\n",
              "  </div>\n",
              "  "
            ]
          },
          "metadata": {},
          "execution_count": 62
        }
      ],
      "source": [
        "# Applying the ranking_songs function\n",
        "ranking_songs(recommendations, final_play)"
      ]
    },
    {
      "cell_type": "markdown",
      "source": [
        "**Observations and Insights:** The tuned model recommends \"52\", \"396\", \"657\", \"194\", and \"337\", **which are different from recommendations using the baseline model.** The predicted play counts are **all 5.** After correcting the ratings, the ranking of the songs does not change. **The corrected ratings are generally lower than the originally predicted ratings, but still quite close to 5.**  "
      ],
      "metadata": {
        "id": "Ore9XTFgv5Np"
      }
    },
    {
      "cell_type": "markdown",
      "metadata": {
        "id": "rKgJpSA9vOOL"
      },
      "source": [
        "### Model Based Collaborative Filtering - Matrix Factorization"
      ]
    },
    {
      "cell_type": "markdown",
      "source": [
        "Model-based Collaborative Filtering is a **personalized recommendation system**, the recommendations are based on the past behavior of the user and it is not dependent on any additional information. We use **latent features** to find recommendations for each user."
      ],
      "metadata": {
        "id": "hJynidJCw-ti"
      }
    },
    {
      "cell_type": "code",
      "execution_count": 63,
      "metadata": {
        "id": "07-2PT5Ssjqm",
        "colab": {
          "base_uri": "https://localhost:8080/"
        },
        "outputId": "20010730-d746-48d3-d9f9-be6f308c80ee"
      },
      "outputs": [
        {
          "output_type": "stream",
          "name": "stdout",
          "text": [
            "RMSE: 0.9589\n",
            "Precision:  1.0\n",
            "Recall:  0.996\n",
            "F_1 score:  0.998\n"
          ]
        }
      ],
      "source": [
        "# Build baseline model using svd\n",
        "# Using SVD matrix factorization\n",
        "svd = SVD(random_state = 1)\n",
        "\n",
        "# Training the algorithm on the trainset\n",
        "svd.fit(trainset)\n",
        "\n",
        "# Use the function precision_recall_at_k to compute precision@k, recall@k, F1-Score, and RMSE\n",
        "precision_recall_at_k(svd)"
      ]
    },
    {
      "cell_type": "code",
      "execution_count": 64,
      "metadata": {
        "id": "yWIhfdxXsjqm",
        "colab": {
          "base_uri": "https://localhost:8080/"
        },
        "outputId": "b7268ece-d3f9-4f61-fd94-d0fa3225980f"
      },
      "outputs": [
        {
          "output_type": "stream",
          "name": "stdout",
          "text": [
            "user: 6958       item: 1671       r_ui = 2.00   est = 2.81   {'was_impossible': False}\n"
          ]
        },
        {
          "output_type": "execute_result",
          "data": {
            "text/plain": [
              "Prediction(uid='6958', iid='1671', r_ui=2, est=2.809679622147613, details={'was_impossible': False})"
            ]
          },
          "metadata": {},
          "execution_count": 64
        }
      ],
      "source": [
        "# Making prediction for user (with user_id 6958) to song (with song_id 1671), take r_ui = 2\n",
        "svd.predict(\"6958\", \"1671\", r_ui = 2, verbose = True)"
      ]
    },
    {
      "cell_type": "code",
      "execution_count": 65,
      "metadata": {
        "id": "APm-uMSvcAMf",
        "colab": {
          "base_uri": "https://localhost:8080/"
        },
        "outputId": "06a5e6b8-f301-4526-f37d-dc577a330998"
      },
      "outputs": [
        {
          "output_type": "stream",
          "name": "stdout",
          "text": [
            "user: 6959       item: 3232       r_ui = None   est = 2.81   {'was_impossible': False}\n"
          ]
        },
        {
          "output_type": "execute_result",
          "data": {
            "text/plain": [
              "Prediction(uid='6959', iid='3232', r_ui=None, est=2.809679622147613, details={'was_impossible': False})"
            ]
          },
          "metadata": {},
          "execution_count": 65
        }
      ],
      "source": [
        "# Making a prediction for the user who has not listened to the song (song_id 3232)\n",
        "svd.predict(\"6959\", \"3232\", verbose = True)"
      ]
    },
    {
      "cell_type": "markdown",
      "source": [
        "#### Improving matrix factorization based recommendation system by tuning its hyperparameters"
      ],
      "metadata": {
        "id": "23tnRUJJxWTR"
      }
    },
    {
      "cell_type": "code",
      "execution_count": 66,
      "metadata": {
        "id": "4bM81V_hvtwv",
        "colab": {
          "base_uri": "https://localhost:8080/"
        },
        "outputId": "a8c2114a-da6a-4d88-a8af-0efe865f7362"
      },
      "outputs": [
        {
          "output_type": "stream",
          "name": "stdout",
          "text": [
            "0.9589516638856149\n",
            "{'n_epochs': 30, 'lr_all': 0.01, 'reg_all': 0.2}\n"
          ]
        }
      ],
      "source": [
        "# Set the parameter space to tune\n",
        "param_grid = {'n_epochs': [10, 20, 30], 'lr_all': [0.001, 0.005, 0.01],\n",
        "              'reg_all': [0.2, 0.4, 0.6]}\n",
        "\n",
        "# Performe 3-fold grid-search cross-validation\n",
        "gs_ = GridSearchCV(SVD, param_grid, measures = ['rmse'], cv = 3, n_jobs = -1)\n",
        "\n",
        "# Fitting data\n",
        "gs_.fit(data)\n",
        "\n",
        "# Best RMSE score\n",
        "print(gs_.best_score['rmse'])\n",
        "\n",
        "# Combination of parameters that gave the best RMSE score\n",
        "print(gs_.best_params['rmse'])"
      ]
    },
    {
      "cell_type": "code",
      "execution_count": 67,
      "metadata": {
        "id": "TA_7xe-nnhuu",
        "colab": {
          "base_uri": "https://localhost:8080/"
        },
        "outputId": "f8c8e08a-7a6c-4731-caba-8aebfb314141"
      },
      "outputs": [
        {
          "output_type": "stream",
          "name": "stdout",
          "text": [
            "RMSE: 0.9636\n",
            "Precision:  1.0\n",
            "Recall:  0.996\n",
            "F_1 score:  0.998\n"
          ]
        }
      ],
      "source": [
        "# Build the optimized SVD model using optimal hyperparameter search\n",
        "svd_optimized = SVD(n_epochs = 30, lr_all = 0.01, reg_all = 0.2, random_state = 1)\n",
        "\n",
        "# Train the algorithm on the trainset\n",
        "svd_optimized = svd_optimized.fit(trainset)\n",
        "\n",
        "# Use the function precision_recall_at_k to compute precision@k, recall@k, F1-Score, and RMSE\n",
        "precision_recall_at_k(svd_optimized)"
      ]
    },
    {
      "cell_type": "markdown",
      "source": [
        "**Observations and Insights:** The **F_1 score for the matix factorization model on the test set (0.998) is still very high as in the other models.** The **precision and recall** are all the same. The only difference is that **the RMSE (0.9636) is higher than the RMSE in the baseline model (0.9589)**, implying that the model is not improved after tuning hyperparameters. Note that **the models are improved compared to the user-user-similarity-based model and item-item-similarity-based model, showing the RMSE lower than 1.**   "
      ],
      "metadata": {
        "id": "l3t5JdBmxz8l"
      }
    },
    {
      "cell_type": "code",
      "execution_count": 68,
      "metadata": {
        "id": "s6C1PAfboM8_",
        "colab": {
          "base_uri": "https://localhost:8080/"
        },
        "outputId": "fda4f380-a686-4eda-aaed-8e919d87ef17"
      },
      "outputs": [
        {
          "output_type": "stream",
          "name": "stdout",
          "text": [
            "user: 6958       item: 1671       r_ui = 2.00   est = 2.81   {'was_impossible': False}\n"
          ]
        },
        {
          "output_type": "execute_result",
          "data": {
            "text/plain": [
              "Prediction(uid='6958', iid='1671', r_ui=2, est=2.809679622147613, details={'was_impossible': False})"
            ]
          },
          "metadata": {},
          "execution_count": 68
        }
      ],
      "source": [
        "# Using svd_algo_optimized model to recommend for userId 6958 and song_id 1671\n",
        "svd_optimized.predict('6958','1671', r_ui = 2, verbose = True)"
      ]
    },
    {
      "cell_type": "code",
      "execution_count": 69,
      "metadata": {
        "id": "k1xjn3kOoQyg",
        "colab": {
          "base_uri": "https://localhost:8080/"
        },
        "outputId": "1a1448a8-973f-4d21-dae5-b2beacad612d"
      },
      "outputs": [
        {
          "output_type": "stream",
          "name": "stdout",
          "text": [
            "user: 6958       item: 3232       r_ui = None   est = 2.81   {'was_impossible': False}\n"
          ]
        },
        {
          "output_type": "execute_result",
          "data": {
            "text/plain": [
              "Prediction(uid='6958', iid='3232', r_ui=None, est=2.809679622147613, details={'was_impossible': False})"
            ]
          },
          "metadata": {},
          "execution_count": 69
        }
      ],
      "source": [
        "# Using svd_algo_optimized model to recommend for userId 6958 and song_id 3232 with unknown baseline rating\n",
        "svd_optimized.predict('6958','3232', verbose = True)"
      ]
    },
    {
      "cell_type": "markdown",
      "source": [
        "**Observations and Insights:** The output shows that **the predicted play count of the user \"6958\" is 2.81 for both songs with ids \"1671\" and \"3232\", which is the same prediction as compared to the baseline model.**"
      ],
      "metadata": {
        "id": "Qm732Wuvy76R"
      }
    },
    {
      "cell_type": "code",
      "execution_count": 70,
      "metadata": {
        "id": "1LGeE2EB_n90"
      },
      "outputs": [],
      "source": [
        "# Getting top 5 recommendations for user_id 6958 using \"svd_optimized\" algorithm\n",
        "svd_recommendations = get_recommendations(df_final, 6958, 5, svd)"
      ]
    },
    {
      "cell_type": "code",
      "execution_count": 71,
      "metadata": {
        "id": "6ngiGSJU818M",
        "colab": {
          "base_uri": "https://localhost:8080/",
          "height": 0
        },
        "outputId": "84005c69-a640-48be-ee84-8e1970cb5aa8"
      },
      "outputs": [
        {
          "output_type": "execute_result",
          "data": {
            "text/plain": [
              "   song_id  play_freq  predicted_ratings  corrected_ratings\n",
              "0     7224         69           4.662476           4.542090\n",
              "2     6450         55           4.302386           4.167546\n",
              "3     8324         46           4.164867           4.017425\n",
              "1      657         68           3.831368           3.710100\n",
              "4     6084         32           3.858450           3.681673"
            ],
            "text/html": [
              "\n",
              "  <div id=\"df-cd005e59-e81e-4f8c-933a-3bbde84de090\">\n",
              "    <div class=\"colab-df-container\">\n",
              "      <div>\n",
              "<style scoped>\n",
              "    .dataframe tbody tr th:only-of-type {\n",
              "        vertical-align: middle;\n",
              "    }\n",
              "\n",
              "    .dataframe tbody tr th {\n",
              "        vertical-align: top;\n",
              "    }\n",
              "\n",
              "    .dataframe thead th {\n",
              "        text-align: right;\n",
              "    }\n",
              "</style>\n",
              "<table border=\"1\" class=\"dataframe\">\n",
              "  <thead>\n",
              "    <tr style=\"text-align: right;\">\n",
              "      <th></th>\n",
              "      <th>song_id</th>\n",
              "      <th>play_freq</th>\n",
              "      <th>predicted_ratings</th>\n",
              "      <th>corrected_ratings</th>\n",
              "    </tr>\n",
              "  </thead>\n",
              "  <tbody>\n",
              "    <tr>\n",
              "      <th>0</th>\n",
              "      <td>7224</td>\n",
              "      <td>69</td>\n",
              "      <td>4.662476</td>\n",
              "      <td>4.542090</td>\n",
              "    </tr>\n",
              "    <tr>\n",
              "      <th>2</th>\n",
              "      <td>6450</td>\n",
              "      <td>55</td>\n",
              "      <td>4.302386</td>\n",
              "      <td>4.167546</td>\n",
              "    </tr>\n",
              "    <tr>\n",
              "      <th>3</th>\n",
              "      <td>8324</td>\n",
              "      <td>46</td>\n",
              "      <td>4.164867</td>\n",
              "      <td>4.017425</td>\n",
              "    </tr>\n",
              "    <tr>\n",
              "      <th>1</th>\n",
              "      <td>657</td>\n",
              "      <td>68</td>\n",
              "      <td>3.831368</td>\n",
              "      <td>3.710100</td>\n",
              "    </tr>\n",
              "    <tr>\n",
              "      <th>4</th>\n",
              "      <td>6084</td>\n",
              "      <td>32</td>\n",
              "      <td>3.858450</td>\n",
              "      <td>3.681673</td>\n",
              "    </tr>\n",
              "  </tbody>\n",
              "</table>\n",
              "</div>\n",
              "      <button class=\"colab-df-convert\" onclick=\"convertToInteractive('df-cd005e59-e81e-4f8c-933a-3bbde84de090')\"\n",
              "              title=\"Convert this dataframe to an interactive table.\"\n",
              "              style=\"display:none;\">\n",
              "        \n",
              "  <svg xmlns=\"http://www.w3.org/2000/svg\" height=\"24px\"viewBox=\"0 0 24 24\"\n",
              "       width=\"24px\">\n",
              "    <path d=\"M0 0h24v24H0V0z\" fill=\"none\"/>\n",
              "    <path d=\"M18.56 5.44l.94 2.06.94-2.06 2.06-.94-2.06-.94-.94-2.06-.94 2.06-2.06.94zm-11 1L8.5 8.5l.94-2.06 2.06-.94-2.06-.94L8.5 2.5l-.94 2.06-2.06.94zm10 10l.94 2.06.94-2.06 2.06-.94-2.06-.94-.94-2.06-.94 2.06-2.06.94z\"/><path d=\"M17.41 7.96l-1.37-1.37c-.4-.4-.92-.59-1.43-.59-.52 0-1.04.2-1.43.59L10.3 9.45l-7.72 7.72c-.78.78-.78 2.05 0 2.83L4 21.41c.39.39.9.59 1.41.59.51 0 1.02-.2 1.41-.59l7.78-7.78 2.81-2.81c.8-.78.8-2.07 0-2.86zM5.41 20L4 18.59l7.72-7.72 1.47 1.35L5.41 20z\"/>\n",
              "  </svg>\n",
              "      </button>\n",
              "      \n",
              "  <style>\n",
              "    .colab-df-container {\n",
              "      display:flex;\n",
              "      flex-wrap:wrap;\n",
              "      gap: 12px;\n",
              "    }\n",
              "\n",
              "    .colab-df-convert {\n",
              "      background-color: #E8F0FE;\n",
              "      border: none;\n",
              "      border-radius: 50%;\n",
              "      cursor: pointer;\n",
              "      display: none;\n",
              "      fill: #1967D2;\n",
              "      height: 32px;\n",
              "      padding: 0 0 0 0;\n",
              "      width: 32px;\n",
              "    }\n",
              "\n",
              "    .colab-df-convert:hover {\n",
              "      background-color: #E2EBFA;\n",
              "      box-shadow: 0px 1px 2px rgba(60, 64, 67, 0.3), 0px 1px 3px 1px rgba(60, 64, 67, 0.15);\n",
              "      fill: #174EA6;\n",
              "    }\n",
              "\n",
              "    [theme=dark] .colab-df-convert {\n",
              "      background-color: #3B4455;\n",
              "      fill: #D2E3FC;\n",
              "    }\n",
              "\n",
              "    [theme=dark] .colab-df-convert:hover {\n",
              "      background-color: #434B5C;\n",
              "      box-shadow: 0px 1px 3px 1px rgba(0, 0, 0, 0.15);\n",
              "      filter: drop-shadow(0px 1px 2px rgba(0, 0, 0, 0.3));\n",
              "      fill: #FFFFFF;\n",
              "    }\n",
              "  </style>\n",
              "\n",
              "      <script>\n",
              "        const buttonEl =\n",
              "          document.querySelector('#df-cd005e59-e81e-4f8c-933a-3bbde84de090 button.colab-df-convert');\n",
              "        buttonEl.style.display =\n",
              "          google.colab.kernel.accessAllowed ? 'block' : 'none';\n",
              "\n",
              "        async function convertToInteractive(key) {\n",
              "          const element = document.querySelector('#df-cd005e59-e81e-4f8c-933a-3bbde84de090');\n",
              "          const dataTable =\n",
              "            await google.colab.kernel.invokeFunction('convertToInteractive',\n",
              "                                                     [key], {});\n",
              "          if (!dataTable) return;\n",
              "\n",
              "          const docLinkHtml = 'Like what you see? Visit the ' +\n",
              "            '<a target=\"_blank\" href=https://colab.research.google.com/notebooks/data_table.ipynb>data table notebook</a>'\n",
              "            + ' to learn more about interactive tables.';\n",
              "          element.innerHTML = '';\n",
              "          dataTable['output_type'] = 'display_data';\n",
              "          await google.colab.output.renderOutput(dataTable, element);\n",
              "          const docLink = document.createElement('div');\n",
              "          docLink.innerHTML = docLinkHtml;\n",
              "          element.appendChild(docLink);\n",
              "        }\n",
              "      </script>\n",
              "    </div>\n",
              "  </div>\n",
              "  "
            ]
          },
          "metadata": {},
          "execution_count": 71
        }
      ],
      "source": [
        "# Ranking songs based on above recommendations\n",
        "ranking_songs(svd_recommendations, final_play)"
      ]
    },
    {
      "cell_type": "markdown",
      "source": [
        "**Observations and Insights:** The model-based recommendation system recommends **\"7224\", \"6450\", \"8324\", \"6084\" and \"657\"**. **The list is different from the songs that were recommended using the user-user-similarity-based model and the item-item-similarity-based model.** A song with **id \"657\" is also recommended by the item-item-similarity-based recommendation system.** The ranking is still the same after correcting the ratings, and the overall ratings become lower.  "
      ],
      "metadata": {
        "id": "SepUU1Efy_9Z"
      }
    },
    {
      "cell_type": "markdown",
      "metadata": {
        "id": "57b31de5"
      },
      "source": [
        "### Cluster Based Recommendation System"
      ]
    },
    {
      "cell_type": "markdown",
      "source": [
        "In **clustering-based recommendation systems**, we explore the **similarities and differences** in people's tastes in songs based on how they rate different songs. We cluster similar users together and recommend songs to a user based on play_counts from other users in the same cluster."
      ],
      "metadata": {
        "id": "9Xv2AZCszCdN"
      }
    },
    {
      "cell_type": "code",
      "execution_count": 72,
      "metadata": {
        "id": "0c4b20e4",
        "colab": {
          "base_uri": "https://localhost:8080/"
        },
        "outputId": "a5cd3674-bb45-4d13-dbb9-f939f6f5a1c0"
      },
      "outputs": [
        {
          "output_type": "stream",
          "name": "stdout",
          "text": [
            "RMSE: 1.0322\n",
            "Precision:  0.998\n",
            "Recall:  0.987\n",
            "F_1 score:  0.992\n"
          ]
        }
      ],
      "source": [
        "# Make baseline clustering model\n",
        "# Using CoClustering algorithm\n",
        "clust_baseline = CoClustering(random_state = 1)\n",
        "\n",
        "# Training the algorithm on the train set\n",
        "clust_baseline.fit(trainset)\n",
        "\n",
        "# Let us compute precision@k, recall@k, and F_1 score with k = 10\n",
        "precision_recall_at_k(clust_baseline)"
      ]
    },
    {
      "cell_type": "code",
      "execution_count": 73,
      "metadata": {
        "id": "11dbdc0f",
        "colab": {
          "base_uri": "https://localhost:8080/"
        },
        "outputId": "66a8ad41-74f9-4b94-fdce-189dcc9156f9"
      },
      "outputs": [
        {
          "output_type": "stream",
          "name": "stdout",
          "text": [
            "user: 6958       item: 1671       r_ui = 2.00   est = 2.22   {'was_impossible': False}\n"
          ]
        },
        {
          "output_type": "execute_result",
          "data": {
            "text/plain": [
              "Prediction(uid=6958, iid=1671, r_ui=2, est=2.2205084840418743, details={'was_impossible': False})"
            ]
          },
          "metadata": {},
          "execution_count": 73
        }
      ],
      "source": [
        "# Making prediction for user_id 6958 and song_id 1671\n",
        "clust_baseline.predict(6958, 1671, r_ui = 2, verbose = True)"
      ]
    },
    {
      "cell_type": "code",
      "execution_count": 74,
      "metadata": {
        "id": "dab1aaed",
        "colab": {
          "base_uri": "https://localhost:8080/"
        },
        "outputId": "60021390-23a6-4cc0-da36-6a2a74d08c8f"
      },
      "outputs": [
        {
          "output_type": "stream",
          "name": "stdout",
          "text": [
            "user: 6958       item: 3232       r_ui = None   est = 2.56   {'was_impossible': False}\n"
          ]
        },
        {
          "output_type": "execute_result",
          "data": {
            "text/plain": [
              "Prediction(uid=6958, iid=3232, r_ui=None, est=2.56089309942649, details={'was_impossible': False})"
            ]
          },
          "metadata": {},
          "execution_count": 74
        }
      ],
      "source": [
        "# Making prediction for user (userid 6958) for a song(song_id 3232) not heard by the user\n",
        "clust_baseline.predict(6958, 3232, verbose = True)"
      ]
    },
    {
      "cell_type": "markdown",
      "metadata": {
        "id": "c2fd66f5"
      },
      "source": [
        "#### Improving clustering-based recommendation system by tuning its hyper-parameters"
      ]
    },
    {
      "cell_type": "code",
      "execution_count": 75,
      "metadata": {
        "id": "efe7d8e6",
        "colab": {
          "base_uri": "https://localhost:8080/"
        },
        "outputId": "575bb665-d8b0-40fc-a8cb-a82334fa59d3"
      },
      "outputs": [
        {
          "output_type": "stream",
          "name": "stdout",
          "text": [
            "1.0459873696894058\n",
            "{'n_cltr_u': 5, 'n_cltr_i': 5, 'n_epochs': 10}\n"
          ]
        }
      ],
      "source": [
        "# Set the parameter space to tune\n",
        "param_grid = {'n_cltr_u': [5, 6, 7, 8], 'n_cltr_i': [5, 6, 7, 8], 'n_epochs': [10, 20, 30]}\n",
        "\n",
        "# Performing 3-fold grid search cross-validation\n",
        "gs = GridSearchCV(CoClustering, param_grid, measures = ['rmse'], cv = 3, n_jobs = -1)\n",
        "\n",
        "# Fitting data\n",
        "gs.fit(data)\n",
        "\n",
        "# Printing the best RMSE score\n",
        "print(gs.best_score['rmse'])\n",
        "\n",
        "# Printing the combination of parameters that gives the best RMSE score\n",
        "print(gs.best_params['rmse'])"
      ]
    },
    {
      "cell_type": "code",
      "execution_count": 76,
      "metadata": {
        "id": "5a7a8a30",
        "colab": {
          "base_uri": "https://localhost:8080/"
        },
        "outputId": "2a5e10c7-f0c4-45c4-edb7-be28ca3f7b2b"
      },
      "outputs": [
        {
          "output_type": "stream",
          "name": "stdout",
          "text": [
            "RMSE: 1.0636\n",
            "Precision:  0.998\n",
            "Recall:  0.986\n",
            "F_1 score:  0.992\n"
          ]
        }
      ],
      "source": [
        "# Train the tuned Coclustering algorithm\n",
        "# Using tuned Coclustering algorithm\n",
        "clust_tuned = CoClustering(n_cltr_u = 5, n_cltr_i = 6, n_epochs = 30, random_state = 1)\n",
        "\n",
        "# Training the algorithm on the train set\n",
        "clust_tuned.fit(trainset)\n",
        "\n",
        "# Let us compute precision@k, recall@k, and F_1 score with k = 10\n",
        "precision_recall_at_k(clust_tuned)"
      ]
    },
    {
      "cell_type": "markdown",
      "source": [
        "**Observations and Insights:** The clustering-based model has **F_1 scores of 0.992** before and after the hyperparameter tuning. **The RMSEs are 1.0322 and 1.0636**, respectively, for the baseline and optimized models. It means that the optimization did not improve the baseline model that much. "
      ],
      "metadata": {
        "id": "l-Jvce1gznKa"
      }
    },
    {
      "cell_type": "code",
      "execution_count": 77,
      "metadata": {
        "id": "6ba5b26b",
        "colab": {
          "base_uri": "https://localhost:8080/"
        },
        "outputId": "b3993af6-3106-47f7-d005-d5e1712cc4d9"
      },
      "outputs": [
        {
          "output_type": "stream",
          "name": "stdout",
          "text": [
            "user: 6958       item: 1671       r_ui = 2.00   est = 2.28   {'was_impossible': False}\n"
          ]
        },
        {
          "output_type": "execute_result",
          "data": {
            "text/plain": [
              "Prediction(uid=6958, iid=1671, r_ui=2, est=2.278480052508896, details={'was_impossible': False})"
            ]
          },
          "metadata": {},
          "execution_count": 77
        }
      ],
      "source": [
        "# Using co_clustering_optimized model to recommend for userId 6958 and song_id 1671\n",
        "clust_tuned.predict(6958, 1671, r_ui = 2, verbose = True)"
      ]
    },
    {
      "cell_type": "code",
      "execution_count": 78,
      "metadata": {
        "id": "ec582940",
        "colab": {
          "base_uri": "https://localhost:8080/"
        },
        "outputId": "a70c0f46-5b4b-4b9c-e1e6-a40869de1279"
      },
      "outputs": [
        {
          "output_type": "stream",
          "name": "stdout",
          "text": [
            "user: 6958       item: 3232       r_ui = None   est = 2.78   {'was_impossible': False}\n"
          ]
        },
        {
          "output_type": "execute_result",
          "data": {
            "text/plain": [
              "Prediction(uid=6958, iid=3232, r_ui=None, est=2.7751192442608232, details={'was_impossible': False})"
            ]
          },
          "metadata": {},
          "execution_count": 78
        }
      ],
      "source": [
        "# Use Co_clustering based optimized model to recommend for userId 6958 and song_id 3232 with unknown baseline rating\n",
        "clust_tuned.predict(6958, 3232, verbose = True) "
      ]
    },
    {
      "cell_type": "markdown",
      "source": [
        "**Observations and Insights:** The output shows that the user \"6958\"'s **predicted play count for song \"1671\" is 2.28, while the actual play count is 2.** The predicted play count for song \"3232\" is **2.78, which is higher than the predicted play count from the baseline model (2.56).** "
      ],
      "metadata": {
        "id": "rjGUSMqrzoDH"
      }
    },
    {
      "cell_type": "markdown",
      "metadata": {
        "id": "df9e28ba"
      },
      "source": [
        "#### Implementing the recommendation algorithm based on optimized CoClustering model"
      ]
    },
    {
      "cell_type": "code",
      "execution_count": 79,
      "metadata": {
        "id": "e0f36e15"
      },
      "outputs": [],
      "source": [
        "# Getting top 5 recommendations for user_id 6958 using \"Co-clustering based baseline moel\" algorithm\n",
        "# Since the model is not improved after tuning, I would rather use the baseline model \n",
        "\n",
        "clustering_recommendations = get_recommendations(df_final, 6958, 5, clust_baseline)"
      ]
    },
    {
      "cell_type": "markdown",
      "metadata": {
        "id": "f1696941"
      },
      "source": [
        "### Correcting the play_count and Ranking the above songs"
      ]
    },
    {
      "cell_type": "code",
      "execution_count": 80,
      "metadata": {
        "id": "c186f13b",
        "scrolled": true,
        "colab": {
          "base_uri": "https://localhost:8080/",
          "height": 206
        },
        "outputId": "756d6288-0f52-4454-86d2-b985c67ab7ab"
      },
      "outputs": [
        {
          "output_type": "execute_result",
          "data": {
            "text/plain": [
              "   song_id  play_freq  predicted_ratings  corrected_ratings\n",
              "3     8324         46           4.767803           4.620361\n",
              "0     7224         69           4.585893           4.465507\n",
              "1     6450         55           4.546375           4.411535\n",
              "2     7866         52           4.251138           4.112463\n",
              "4     2054         29           4.232089           4.046394"
            ],
            "text/html": [
              "\n",
              "  <div id=\"df-1bb05f52-398d-4c9b-b9fc-ddffccb37c6d\">\n",
              "    <div class=\"colab-df-container\">\n",
              "      <div>\n",
              "<style scoped>\n",
              "    .dataframe tbody tr th:only-of-type {\n",
              "        vertical-align: middle;\n",
              "    }\n",
              "\n",
              "    .dataframe tbody tr th {\n",
              "        vertical-align: top;\n",
              "    }\n",
              "\n",
              "    .dataframe thead th {\n",
              "        text-align: right;\n",
              "    }\n",
              "</style>\n",
              "<table border=\"1\" class=\"dataframe\">\n",
              "  <thead>\n",
              "    <tr style=\"text-align: right;\">\n",
              "      <th></th>\n",
              "      <th>song_id</th>\n",
              "      <th>play_freq</th>\n",
              "      <th>predicted_ratings</th>\n",
              "      <th>corrected_ratings</th>\n",
              "    </tr>\n",
              "  </thead>\n",
              "  <tbody>\n",
              "    <tr>\n",
              "      <th>3</th>\n",
              "      <td>8324</td>\n",
              "      <td>46</td>\n",
              "      <td>4.767803</td>\n",
              "      <td>4.620361</td>\n",
              "    </tr>\n",
              "    <tr>\n",
              "      <th>0</th>\n",
              "      <td>7224</td>\n",
              "      <td>69</td>\n",
              "      <td>4.585893</td>\n",
              "      <td>4.465507</td>\n",
              "    </tr>\n",
              "    <tr>\n",
              "      <th>1</th>\n",
              "      <td>6450</td>\n",
              "      <td>55</td>\n",
              "      <td>4.546375</td>\n",
              "      <td>4.411535</td>\n",
              "    </tr>\n",
              "    <tr>\n",
              "      <th>2</th>\n",
              "      <td>7866</td>\n",
              "      <td>52</td>\n",
              "      <td>4.251138</td>\n",
              "      <td>4.112463</td>\n",
              "    </tr>\n",
              "    <tr>\n",
              "      <th>4</th>\n",
              "      <td>2054</td>\n",
              "      <td>29</td>\n",
              "      <td>4.232089</td>\n",
              "      <td>4.046394</td>\n",
              "    </tr>\n",
              "  </tbody>\n",
              "</table>\n",
              "</div>\n",
              "      <button class=\"colab-df-convert\" onclick=\"convertToInteractive('df-1bb05f52-398d-4c9b-b9fc-ddffccb37c6d')\"\n",
              "              title=\"Convert this dataframe to an interactive table.\"\n",
              "              style=\"display:none;\">\n",
              "        \n",
              "  <svg xmlns=\"http://www.w3.org/2000/svg\" height=\"24px\"viewBox=\"0 0 24 24\"\n",
              "       width=\"24px\">\n",
              "    <path d=\"M0 0h24v24H0V0z\" fill=\"none\"/>\n",
              "    <path d=\"M18.56 5.44l.94 2.06.94-2.06 2.06-.94-2.06-.94-.94-2.06-.94 2.06-2.06.94zm-11 1L8.5 8.5l.94-2.06 2.06-.94-2.06-.94L8.5 2.5l-.94 2.06-2.06.94zm10 10l.94 2.06.94-2.06 2.06-.94-2.06-.94-.94-2.06-.94 2.06-2.06.94z\"/><path d=\"M17.41 7.96l-1.37-1.37c-.4-.4-.92-.59-1.43-.59-.52 0-1.04.2-1.43.59L10.3 9.45l-7.72 7.72c-.78.78-.78 2.05 0 2.83L4 21.41c.39.39.9.59 1.41.59.51 0 1.02-.2 1.41-.59l7.78-7.78 2.81-2.81c.8-.78.8-2.07 0-2.86zM5.41 20L4 18.59l7.72-7.72 1.47 1.35L5.41 20z\"/>\n",
              "  </svg>\n",
              "      </button>\n",
              "      \n",
              "  <style>\n",
              "    .colab-df-container {\n",
              "      display:flex;\n",
              "      flex-wrap:wrap;\n",
              "      gap: 12px;\n",
              "    }\n",
              "\n",
              "    .colab-df-convert {\n",
              "      background-color: #E8F0FE;\n",
              "      border: none;\n",
              "      border-radius: 50%;\n",
              "      cursor: pointer;\n",
              "      display: none;\n",
              "      fill: #1967D2;\n",
              "      height: 32px;\n",
              "      padding: 0 0 0 0;\n",
              "      width: 32px;\n",
              "    }\n",
              "\n",
              "    .colab-df-convert:hover {\n",
              "      background-color: #E2EBFA;\n",
              "      box-shadow: 0px 1px 2px rgba(60, 64, 67, 0.3), 0px 1px 3px 1px rgba(60, 64, 67, 0.15);\n",
              "      fill: #174EA6;\n",
              "    }\n",
              "\n",
              "    [theme=dark] .colab-df-convert {\n",
              "      background-color: #3B4455;\n",
              "      fill: #D2E3FC;\n",
              "    }\n",
              "\n",
              "    [theme=dark] .colab-df-convert:hover {\n",
              "      background-color: #434B5C;\n",
              "      box-shadow: 0px 1px 3px 1px rgba(0, 0, 0, 0.15);\n",
              "      filter: drop-shadow(0px 1px 2px rgba(0, 0, 0, 0.3));\n",
              "      fill: #FFFFFF;\n",
              "    }\n",
              "  </style>\n",
              "\n",
              "      <script>\n",
              "        const buttonEl =\n",
              "          document.querySelector('#df-1bb05f52-398d-4c9b-b9fc-ddffccb37c6d button.colab-df-convert');\n",
              "        buttonEl.style.display =\n",
              "          google.colab.kernel.accessAllowed ? 'block' : 'none';\n",
              "\n",
              "        async function convertToInteractive(key) {\n",
              "          const element = document.querySelector('#df-1bb05f52-398d-4c9b-b9fc-ddffccb37c6d');\n",
              "          const dataTable =\n",
              "            await google.colab.kernel.invokeFunction('convertToInteractive',\n",
              "                                                     [key], {});\n",
              "          if (!dataTable) return;\n",
              "\n",
              "          const docLinkHtml = 'Like what you see? Visit the ' +\n",
              "            '<a target=\"_blank\" href=https://colab.research.google.com/notebooks/data_table.ipynb>data table notebook</a>'\n",
              "            + ' to learn more about interactive tables.';\n",
              "          element.innerHTML = '';\n",
              "          dataTable['output_type'] = 'display_data';\n",
              "          await google.colab.output.renderOutput(dataTable, element);\n",
              "          const docLink = document.createElement('div');\n",
              "          docLink.innerHTML = docLinkHtml;\n",
              "          element.appendChild(docLink);\n",
              "        }\n",
              "      </script>\n",
              "    </div>\n",
              "  </div>\n",
              "  "
            ]
          },
          "metadata": {},
          "execution_count": 80
        }
      ],
      "source": [
        "# Ranking songs based on the above recommendations\n",
        "ranking_songs(clustering_recommendations, final_play)"
      ]
    },
    {
      "cell_type": "markdown",
      "source": [
        "**Observations and Insights:** We used \"Co-clustering based baseline model\" to recommend songs to users because the tuning does not improve the performance of the model. **The system recommends \"8324\", \"7224\", \"6450\", \"7866\", and \"2054\".** The list is different from the previous models, but **\"8324\", \"7224\", and \"6450\" were also recommended by the model-based system**."
      ],
      "metadata": {
        "id": "_uJ_nZjBzvKH"
      }
    },
    {
      "cell_type": "markdown",
      "metadata": {
        "id": "5U56oSNsR-F2"
      },
      "source": [
        "### **Content Based Recommendation Systems**"
      ]
    },
    {
      "cell_type": "markdown",
      "metadata": {
        "id": "9aTEqaOjhoEg"
      },
      "source": [
        "**Think About It:** So far we have only used the play_count of songs to find recommendations but we have other information/features on songs as well. Can we take those song features into account?"
      ]
    },
    {
      "cell_type": "code",
      "execution_count": 81,
      "metadata": {
        "id": "RhUx2jgp4frC"
      },
      "outputs": [],
      "source": [
        "df_small = df_final"
      ]
    },
    {
      "cell_type": "code",
      "execution_count": 82,
      "metadata": {
        "id": "UX826CsjR-F3",
        "colab": {
          "base_uri": "https://localhost:8080/",
          "height": 354
        },
        "outputId": "726a5ef4-118f-400f-a2e3-34ed30854950"
      },
      "outputs": [
        {
          "output_type": "execute_result",
          "data": {
            "text/plain": [
              "   Unnamed: 0  user_id  song_id  play_count     title     release artist_name  \\\n",
              "0         381     3919      736           2  Stronger  Graduation  Kanye West   \n",
              "1         382     3919      736           2  Stronger  Graduation  Kanye West   \n",
              "2         409    51414      736           2  Stronger  Graduation  Kanye West   \n",
              "3         410    51414      736           2  Stronger  Graduation  Kanye West   \n",
              "4         451    72805      736           3  Stronger  Graduation  Kanye West   \n",
              "\n",
              "   year                            text  \n",
              "0  2007  Kanye West Graduation Stronger  \n",
              "1  2007  Kanye West Graduation Stronger  \n",
              "2  2007  Kanye West Graduation Stronger  \n",
              "3  2007  Kanye West Graduation Stronger  \n",
              "4  2007  Kanye West Graduation Stronger  "
            ],
            "text/html": [
              "\n",
              "  <div id=\"df-4173d71b-b70f-4efb-8320-b7fafd92acfd\">\n",
              "    <div class=\"colab-df-container\">\n",
              "      <div>\n",
              "<style scoped>\n",
              "    .dataframe tbody tr th:only-of-type {\n",
              "        vertical-align: middle;\n",
              "    }\n",
              "\n",
              "    .dataframe tbody tr th {\n",
              "        vertical-align: top;\n",
              "    }\n",
              "\n",
              "    .dataframe thead th {\n",
              "        text-align: right;\n",
              "    }\n",
              "</style>\n",
              "<table border=\"1\" class=\"dataframe\">\n",
              "  <thead>\n",
              "    <tr style=\"text-align: right;\">\n",
              "      <th></th>\n",
              "      <th>Unnamed: 0</th>\n",
              "      <th>user_id</th>\n",
              "      <th>song_id</th>\n",
              "      <th>play_count</th>\n",
              "      <th>title</th>\n",
              "      <th>release</th>\n",
              "      <th>artist_name</th>\n",
              "      <th>year</th>\n",
              "      <th>text</th>\n",
              "    </tr>\n",
              "  </thead>\n",
              "  <tbody>\n",
              "    <tr>\n",
              "      <th>0</th>\n",
              "      <td>381</td>\n",
              "      <td>3919</td>\n",
              "      <td>736</td>\n",
              "      <td>2</td>\n",
              "      <td>Stronger</td>\n",
              "      <td>Graduation</td>\n",
              "      <td>Kanye West</td>\n",
              "      <td>2007</td>\n",
              "      <td>Kanye West Graduation Stronger</td>\n",
              "    </tr>\n",
              "    <tr>\n",
              "      <th>1</th>\n",
              "      <td>382</td>\n",
              "      <td>3919</td>\n",
              "      <td>736</td>\n",
              "      <td>2</td>\n",
              "      <td>Stronger</td>\n",
              "      <td>Graduation</td>\n",
              "      <td>Kanye West</td>\n",
              "      <td>2007</td>\n",
              "      <td>Kanye West Graduation Stronger</td>\n",
              "    </tr>\n",
              "    <tr>\n",
              "      <th>2</th>\n",
              "      <td>409</td>\n",
              "      <td>51414</td>\n",
              "      <td>736</td>\n",
              "      <td>2</td>\n",
              "      <td>Stronger</td>\n",
              "      <td>Graduation</td>\n",
              "      <td>Kanye West</td>\n",
              "      <td>2007</td>\n",
              "      <td>Kanye West Graduation Stronger</td>\n",
              "    </tr>\n",
              "    <tr>\n",
              "      <th>3</th>\n",
              "      <td>410</td>\n",
              "      <td>51414</td>\n",
              "      <td>736</td>\n",
              "      <td>2</td>\n",
              "      <td>Stronger</td>\n",
              "      <td>Graduation</td>\n",
              "      <td>Kanye West</td>\n",
              "      <td>2007</td>\n",
              "      <td>Kanye West Graduation Stronger</td>\n",
              "    </tr>\n",
              "    <tr>\n",
              "      <th>4</th>\n",
              "      <td>451</td>\n",
              "      <td>72805</td>\n",
              "      <td>736</td>\n",
              "      <td>3</td>\n",
              "      <td>Stronger</td>\n",
              "      <td>Graduation</td>\n",
              "      <td>Kanye West</td>\n",
              "      <td>2007</td>\n",
              "      <td>Kanye West Graduation Stronger</td>\n",
              "    </tr>\n",
              "  </tbody>\n",
              "</table>\n",
              "</div>\n",
              "      <button class=\"colab-df-convert\" onclick=\"convertToInteractive('df-4173d71b-b70f-4efb-8320-b7fafd92acfd')\"\n",
              "              title=\"Convert this dataframe to an interactive table.\"\n",
              "              style=\"display:none;\">\n",
              "        \n",
              "  <svg xmlns=\"http://www.w3.org/2000/svg\" height=\"24px\"viewBox=\"0 0 24 24\"\n",
              "       width=\"24px\">\n",
              "    <path d=\"M0 0h24v24H0V0z\" fill=\"none\"/>\n",
              "    <path d=\"M18.56 5.44l.94 2.06.94-2.06 2.06-.94-2.06-.94-.94-2.06-.94 2.06-2.06.94zm-11 1L8.5 8.5l.94-2.06 2.06-.94-2.06-.94L8.5 2.5l-.94 2.06-2.06.94zm10 10l.94 2.06.94-2.06 2.06-.94-2.06-.94-.94-2.06-.94 2.06-2.06.94z\"/><path d=\"M17.41 7.96l-1.37-1.37c-.4-.4-.92-.59-1.43-.59-.52 0-1.04.2-1.43.59L10.3 9.45l-7.72 7.72c-.78.78-.78 2.05 0 2.83L4 21.41c.39.39.9.59 1.41.59.51 0 1.02-.2 1.41-.59l7.78-7.78 2.81-2.81c.8-.78.8-2.07 0-2.86zM5.41 20L4 18.59l7.72-7.72 1.47 1.35L5.41 20z\"/>\n",
              "  </svg>\n",
              "      </button>\n",
              "      \n",
              "  <style>\n",
              "    .colab-df-container {\n",
              "      display:flex;\n",
              "      flex-wrap:wrap;\n",
              "      gap: 12px;\n",
              "    }\n",
              "\n",
              "    .colab-df-convert {\n",
              "      background-color: #E8F0FE;\n",
              "      border: none;\n",
              "      border-radius: 50%;\n",
              "      cursor: pointer;\n",
              "      display: none;\n",
              "      fill: #1967D2;\n",
              "      height: 32px;\n",
              "      padding: 0 0 0 0;\n",
              "      width: 32px;\n",
              "    }\n",
              "\n",
              "    .colab-df-convert:hover {\n",
              "      background-color: #E2EBFA;\n",
              "      box-shadow: 0px 1px 2px rgba(60, 64, 67, 0.3), 0px 1px 3px 1px rgba(60, 64, 67, 0.15);\n",
              "      fill: #174EA6;\n",
              "    }\n",
              "\n",
              "    [theme=dark] .colab-df-convert {\n",
              "      background-color: #3B4455;\n",
              "      fill: #D2E3FC;\n",
              "    }\n",
              "\n",
              "    [theme=dark] .colab-df-convert:hover {\n",
              "      background-color: #434B5C;\n",
              "      box-shadow: 0px 1px 3px 1px rgba(0, 0, 0, 0.15);\n",
              "      filter: drop-shadow(0px 1px 2px rgba(0, 0, 0, 0.3));\n",
              "      fill: #FFFFFF;\n",
              "    }\n",
              "  </style>\n",
              "\n",
              "      <script>\n",
              "        const buttonEl =\n",
              "          document.querySelector('#df-4173d71b-b70f-4efb-8320-b7fafd92acfd button.colab-df-convert');\n",
              "        buttonEl.style.display =\n",
              "          google.colab.kernel.accessAllowed ? 'block' : 'none';\n",
              "\n",
              "        async function convertToInteractive(key) {\n",
              "          const element = document.querySelector('#df-4173d71b-b70f-4efb-8320-b7fafd92acfd');\n",
              "          const dataTable =\n",
              "            await google.colab.kernel.invokeFunction('convertToInteractive',\n",
              "                                                     [key], {});\n",
              "          if (!dataTable) return;\n",
              "\n",
              "          const docLinkHtml = 'Like what you see? Visit the ' +\n",
              "            '<a target=\"_blank\" href=https://colab.research.google.com/notebooks/data_table.ipynb>data table notebook</a>'\n",
              "            + ' to learn more about interactive tables.';\n",
              "          element.innerHTML = '';\n",
              "          dataTable['output_type'] = 'display_data';\n",
              "          await google.colab.output.renderOutput(dataTable, element);\n",
              "          const docLink = document.createElement('div');\n",
              "          docLink.innerHTML = docLinkHtml;\n",
              "          element.appendChild(docLink);\n",
              "        }\n",
              "      </script>\n",
              "    </div>\n",
              "  </div>\n",
              "  "
            ]
          },
          "metadata": {},
          "execution_count": 82
        }
      ],
      "source": [
        "# Concatenate the \"title\", \"release\", \"artist_name\" columns to create a different column named \"text\"\n",
        "df_small['text'] = df_small['artist_name'] + ' ' + df_small['release'] + ' ' + df_small['title'] \n",
        "\n",
        "df_small.head()"
      ]
    },
    {
      "cell_type": "code",
      "execution_count": 83,
      "metadata": {
        "id": "WdXw4U-wR-F4",
        "colab": {
          "base_uri": "https://localhost:8080/",
          "height": 238
        },
        "outputId": "5ee71307-cab5-4098-97a1-ddb347689b41"
      },
      "outputs": [
        {
          "output_type": "execute_result",
          "data": {
            "text/plain": [
              "                user_id  song_id  play_count  \\\n",
              "title                                          \n",
              "Stronger           3919      736           2   \n",
              "Constellations    40549      750           2   \n",
              "Learn To Fly      75901     1188           2   \n",
              "Paper Gangsta     33280     1536           2   \n",
              "Sehr kosmisch     56576     2220           2   \n",
              "\n",
              "                                                             text  \n",
              "title                                                              \n",
              "Stronger                           Kanye West Graduation Stronger  \n",
              "Constellations      Jack Johnson In Between Dreams Constellations  \n",
              "Learn To Fly    Foo Fighters There Is Nothing Left To Lose Lea...  \n",
              "Paper Gangsta            Lady GaGa The Fame Monster Paper Gangsta  \n",
              "Sehr kosmisch           Harmonia Musik von Harmonia Sehr kosmisch  "
            ],
            "text/html": [
              "\n",
              "  <div id=\"df-bdf73451-02d6-4302-8a4a-42eaa8180464\">\n",
              "    <div class=\"colab-df-container\">\n",
              "      <div>\n",
              "<style scoped>\n",
              "    .dataframe tbody tr th:only-of-type {\n",
              "        vertical-align: middle;\n",
              "    }\n",
              "\n",
              "    .dataframe tbody tr th {\n",
              "        vertical-align: top;\n",
              "    }\n",
              "\n",
              "    .dataframe thead th {\n",
              "        text-align: right;\n",
              "    }\n",
              "</style>\n",
              "<table border=\"1\" class=\"dataframe\">\n",
              "  <thead>\n",
              "    <tr style=\"text-align: right;\">\n",
              "      <th></th>\n",
              "      <th>user_id</th>\n",
              "      <th>song_id</th>\n",
              "      <th>play_count</th>\n",
              "      <th>text</th>\n",
              "    </tr>\n",
              "    <tr>\n",
              "      <th>title</th>\n",
              "      <th></th>\n",
              "      <th></th>\n",
              "      <th></th>\n",
              "      <th></th>\n",
              "    </tr>\n",
              "  </thead>\n",
              "  <tbody>\n",
              "    <tr>\n",
              "      <th>Stronger</th>\n",
              "      <td>3919</td>\n",
              "      <td>736</td>\n",
              "      <td>2</td>\n",
              "      <td>Kanye West Graduation Stronger</td>\n",
              "    </tr>\n",
              "    <tr>\n",
              "      <th>Constellations</th>\n",
              "      <td>40549</td>\n",
              "      <td>750</td>\n",
              "      <td>2</td>\n",
              "      <td>Jack Johnson In Between Dreams Constellations</td>\n",
              "    </tr>\n",
              "    <tr>\n",
              "      <th>Learn To Fly</th>\n",
              "      <td>75901</td>\n",
              "      <td>1188</td>\n",
              "      <td>2</td>\n",
              "      <td>Foo Fighters There Is Nothing Left To Lose Lea...</td>\n",
              "    </tr>\n",
              "    <tr>\n",
              "      <th>Paper Gangsta</th>\n",
              "      <td>33280</td>\n",
              "      <td>1536</td>\n",
              "      <td>2</td>\n",
              "      <td>Lady GaGa The Fame Monster Paper Gangsta</td>\n",
              "    </tr>\n",
              "    <tr>\n",
              "      <th>Sehr kosmisch</th>\n",
              "      <td>56576</td>\n",
              "      <td>2220</td>\n",
              "      <td>2</td>\n",
              "      <td>Harmonia Musik von Harmonia Sehr kosmisch</td>\n",
              "    </tr>\n",
              "  </tbody>\n",
              "</table>\n",
              "</div>\n",
              "      <button class=\"colab-df-convert\" onclick=\"convertToInteractive('df-bdf73451-02d6-4302-8a4a-42eaa8180464')\"\n",
              "              title=\"Convert this dataframe to an interactive table.\"\n",
              "              style=\"display:none;\">\n",
              "        \n",
              "  <svg xmlns=\"http://www.w3.org/2000/svg\" height=\"24px\"viewBox=\"0 0 24 24\"\n",
              "       width=\"24px\">\n",
              "    <path d=\"M0 0h24v24H0V0z\" fill=\"none\"/>\n",
              "    <path d=\"M18.56 5.44l.94 2.06.94-2.06 2.06-.94-2.06-.94-.94-2.06-.94 2.06-2.06.94zm-11 1L8.5 8.5l.94-2.06 2.06-.94-2.06-.94L8.5 2.5l-.94 2.06-2.06.94zm10 10l.94 2.06.94-2.06 2.06-.94-2.06-.94-.94-2.06-.94 2.06-2.06.94z\"/><path d=\"M17.41 7.96l-1.37-1.37c-.4-.4-.92-.59-1.43-.59-.52 0-1.04.2-1.43.59L10.3 9.45l-7.72 7.72c-.78.78-.78 2.05 0 2.83L4 21.41c.39.39.9.59 1.41.59.51 0 1.02-.2 1.41-.59l7.78-7.78 2.81-2.81c.8-.78.8-2.07 0-2.86zM5.41 20L4 18.59l7.72-7.72 1.47 1.35L5.41 20z\"/>\n",
              "  </svg>\n",
              "      </button>\n",
              "      \n",
              "  <style>\n",
              "    .colab-df-container {\n",
              "      display:flex;\n",
              "      flex-wrap:wrap;\n",
              "      gap: 12px;\n",
              "    }\n",
              "\n",
              "    .colab-df-convert {\n",
              "      background-color: #E8F0FE;\n",
              "      border: none;\n",
              "      border-radius: 50%;\n",
              "      cursor: pointer;\n",
              "      display: none;\n",
              "      fill: #1967D2;\n",
              "      height: 32px;\n",
              "      padding: 0 0 0 0;\n",
              "      width: 32px;\n",
              "    }\n",
              "\n",
              "    .colab-df-convert:hover {\n",
              "      background-color: #E2EBFA;\n",
              "      box-shadow: 0px 1px 2px rgba(60, 64, 67, 0.3), 0px 1px 3px 1px rgba(60, 64, 67, 0.15);\n",
              "      fill: #174EA6;\n",
              "    }\n",
              "\n",
              "    [theme=dark] .colab-df-convert {\n",
              "      background-color: #3B4455;\n",
              "      fill: #D2E3FC;\n",
              "    }\n",
              "\n",
              "    [theme=dark] .colab-df-convert:hover {\n",
              "      background-color: #434B5C;\n",
              "      box-shadow: 0px 1px 3px 1px rgba(0, 0, 0, 0.15);\n",
              "      filter: drop-shadow(0px 1px 2px rgba(0, 0, 0, 0.3));\n",
              "      fill: #FFFFFF;\n",
              "    }\n",
              "  </style>\n",
              "\n",
              "      <script>\n",
              "        const buttonEl =\n",
              "          document.querySelector('#df-bdf73451-02d6-4302-8a4a-42eaa8180464 button.colab-df-convert');\n",
              "        buttonEl.style.display =\n",
              "          google.colab.kernel.accessAllowed ? 'block' : 'none';\n",
              "\n",
              "        async function convertToInteractive(key) {\n",
              "          const element = document.querySelector('#df-bdf73451-02d6-4302-8a4a-42eaa8180464');\n",
              "          const dataTable =\n",
              "            await google.colab.kernel.invokeFunction('convertToInteractive',\n",
              "                                                     [key], {});\n",
              "          if (!dataTable) return;\n",
              "\n",
              "          const docLinkHtml = 'Like what you see? Visit the ' +\n",
              "            '<a target=\"_blank\" href=https://colab.research.google.com/notebooks/data_table.ipynb>data table notebook</a>'\n",
              "            + ' to learn more about interactive tables.';\n",
              "          element.innerHTML = '';\n",
              "          dataTable['output_type'] = 'display_data';\n",
              "          await google.colab.output.renderOutput(dataTable, element);\n",
              "          const docLink = document.createElement('div');\n",
              "          docLink.innerHTML = docLinkHtml;\n",
              "          element.appendChild(docLink);\n",
              "        }\n",
              "      </script>\n",
              "    </div>\n",
              "  </div>\n",
              "  "
            ]
          },
          "metadata": {},
          "execution_count": 83
        }
      ],
      "source": [
        "# Select the columns 'user_id', 'song_id', 'play_count', 'title', 'text' from df_small data\n",
        "df_small = df_small[['user_id','song_id','play_count','title','text']]\n",
        "\n",
        "# Drop the duplicates from the title column\n",
        "df_small = df_small.drop_duplicates(subset = ['title'])\n",
        "\n",
        "# Set the title column as the index\n",
        "df_small = df_small.set_index('title')\n",
        "\n",
        "# See the first 5 records of the df_small dataset\n",
        "df_small.head()"
      ]
    },
    {
      "cell_type": "code",
      "execution_count": 84,
      "metadata": {
        "id": "qDcYHwZTR-F5",
        "colab": {
          "base_uri": "https://localhost:8080/"
        },
        "outputId": "907418cd-e8da-42c6-9e97-1f3a55e220ed"
      },
      "outputs": [
        {
          "output_type": "execute_result",
          "data": {
            "text/plain": [
              "0          Stronger\n",
              "1    Constellations\n",
              "2      Learn To Fly\n",
              "3     Paper Gangsta\n",
              "4     Sehr kosmisch\n",
              "Name: title, dtype: object"
            ]
          },
          "metadata": {},
          "execution_count": 84
        }
      ],
      "source": [
        "# Create the series of indices from the data\n",
        "indices = pd.Series(df_small.index)\n",
        "\n",
        "indices[ : 5]"
      ]
    },
    {
      "cell_type": "code",
      "execution_count": 85,
      "metadata": {
        "id": "9UINF3Nwvwfr",
        "colab": {
          "base_uri": "https://localhost:8080/"
        },
        "outputId": "50ad480c-26be-448b-d34e-6973c068ef5e"
      },
      "outputs": [
        {
          "output_type": "stream",
          "name": "stderr",
          "text": [
            "[nltk_data] Downloading package punkt to /root/nltk_data...\n",
            "[nltk_data]   Unzipping tokenizers/punkt.zip.\n",
            "[nltk_data] Downloading package stopwords to /root/nltk_data...\n",
            "[nltk_data]   Unzipping corpora/stopwords.zip.\n",
            "[nltk_data] Downloading package wordnet to /root/nltk_data...\n",
            "[nltk_data] Downloading package omw-1.4 to /root/nltk_data...\n",
            "[nltk_data] Downloading package averaged_perceptron_tagger to\n",
            "[nltk_data]     /root/nltk_data...\n",
            "[nltk_data]   Unzipping taggers/averaged_perceptron_tagger.zip.\n"
          ]
        }
      ],
      "source": [
        "# Importing necessary packages to work with text data\n",
        "import nltk\n",
        "\n",
        "# Download punkt library\n",
        "nltk.download(\"punkt\")\n",
        "\n",
        "# Download stopwords library\n",
        "nltk.download(\"stopwords\")\n",
        "\n",
        "# Download wordnet \n",
        "nltk.download(\"wordnet\")\n",
        "\n",
        "nltk.download('omw-1.4')\n",
        "nltk.download('averaged_perceptron_tagger')\n",
        "\n",
        "# Import regular expression\n",
        "import re\n",
        "\n",
        "# Import word_tokenizer\n",
        "from nltk import word_tokenize\n",
        "\n",
        "# Import WordNetLemmatizer\n",
        "from nltk.stem import WordNetLemmatizer\n",
        "\n",
        "# Import stopwords\n",
        "from nltk.corpus import stopwords\n",
        "\n",
        "# Import CountVectorizer and TfidfVectorizer\n",
        "from sklearn.feature_extraction.text import CountVectorizer, TfidfVectorizer"
      ]
    },
    {
      "cell_type": "markdown",
      "metadata": {
        "id": "Jt2vitlnhoEg"
      },
      "source": [
        "We will create a **function to pre-process the text data:**"
      ]
    },
    {
      "cell_type": "code",
      "execution_count": 86,
      "metadata": {
        "id": "j5QSSeUvR-F6"
      },
      "outputs": [],
      "source": [
        "# Function to tokenize the text\n",
        "def tokenize(text):\n",
        "    \n",
        "    text = re.sub(r\"[^a-zA-Z]\",\" \", text.lower())\n",
        "    \n",
        "    tokens = word_tokenize(text)\n",
        "    \n",
        "    words = [word for word in tokens if word not in stopwords.words(\"english\")]  # Use stopwords of english\n",
        "    \n",
        "    text_lems = [WordNetLemmatizer().lemmatize(lem).strip() for lem in words]\n",
        "\n",
        "    return text_lems"
      ]
    },
    {
      "cell_type": "code",
      "execution_count": 87,
      "metadata": {
        "id": "RI_onIGdR-F6"
      },
      "outputs": [],
      "source": [
        "# Create tfidf vectorizer \n",
        "tfidf = TfidfVectorizer(tokenizer = tokenize)\n",
        "\n",
        "# Fit_transfrom the above vectorizer on the text column and then convert the output into an array\n",
        "song_tfidf = tfidf.fit_transform(df_small['text'].values).toarray()"
      ]
    },
    {
      "cell_type": "code",
      "execution_count": 88,
      "metadata": {
        "id": "Beak6ODRR-F7",
        "colab": {
          "base_uri": "https://localhost:8080/"
        },
        "outputId": "3ceeb095-a5c9-4467-bc13-d42341efaa61"
      },
      "outputs": [
        {
          "output_type": "execute_result",
          "data": {
            "text/plain": [
              "array([[1.        , 0.        , 0.        , ..., 0.        , 0.65559925,\n",
              "        0.        ],\n",
              "       [0.        , 1.        , 0.        , ..., 0.        , 0.        ,\n",
              "        0.        ],\n",
              "       [0.        , 0.        , 1.        , ..., 0.        , 0.        ,\n",
              "        0.        ],\n",
              "       ...,\n",
              "       [0.        , 0.        , 0.        , ..., 1.        , 0.        ,\n",
              "        0.        ],\n",
              "       [0.65559925, 0.        , 0.        , ..., 0.        , 1.        ,\n",
              "        0.        ],\n",
              "       [0.        , 0.        , 0.        , ..., 0.        , 0.        ,\n",
              "        1.        ]])"
            ]
          },
          "metadata": {},
          "execution_count": 88
        }
      ],
      "source": [
        "# Compute the cosine similarity for the tfidf above output\n",
        "similar_songs = cosine_similarity(song_tfidf, song_tfidf)\n",
        "similar_songs"
      ]
    },
    {
      "cell_type": "markdown",
      "metadata": {
        "id": "3Jjo3UHKhoEh"
      },
      "source": [
        " Finally, let's create a function to find most similar songs to recommend for a given song."
      ]
    },
    {
      "cell_type": "code",
      "execution_count": 89,
      "metadata": {
        "id": "upANOISkR-F8"
      },
      "outputs": [],
      "source": [
        "# Function that takes in song title as input and returns the top 10 recommended songs\n",
        "def recommendations(title, similar_songs):\n",
        "    \n",
        "    recommended_songs = []\n",
        "    \n",
        "    # Getting the index of the song that matches the title\n",
        "    idx = indices[indices == title].index[0]\n",
        "\n",
        "    # Creating a Series with the similarity scores in descending order\n",
        "    score_series = pd.Series(similar_songs[idx]).sort_values(ascending = False)\n",
        "\n",
        "    # Getting the indexes of the 10 most similar songs\n",
        "    top_10_indexes = list(score_series.iloc[1 : 11].index)\n",
        "    print(top_10_indexes)\n",
        "    \n",
        "    # Populating the list with the titles of the best 10 matching songs\n",
        "    for i in top_10_indexes:\n",
        "        recommended_songs.append(list(df_small.index)[i])\n",
        "        \n",
        "    return recommended_songs"
      ]
    },
    {
      "cell_type": "markdown",
      "metadata": {
        "id": "o4EINBmkR-F8"
      },
      "source": [
        "Recommending 10 songs similar to Learn to Fly"
      ]
    },
    {
      "cell_type": "code",
      "execution_count": 90,
      "metadata": {
        "id": "ohEK5dkVR-F8",
        "colab": {
          "base_uri": "https://localhost:8080/"
        },
        "outputId": "5f9ba4b7-1be0-4ee5-df6d-73ddfdaf9f10"
      },
      "outputs": [
        {
          "output_type": "stream",
          "name": "stdout",
          "text": [
            "[559, 431, 312, 22, 469, 400, 626, 478, 477, 466]\n"
          ]
        },
        {
          "output_type": "execute_result",
          "data": {
            "text/plain": [
              "['Big Me',\n",
              " 'Everlong',\n",
              " 'The Pretender',\n",
              " 'Just Lose It',\n",
              " 'Nothing Better (Album)',\n",
              " 'From Left To Right',\n",
              " 'Lifespan Of A Fly',\n",
              " 'Campus (Album)',\n",
              " 'Last Day Of Our Love',\n",
              " 'Lump Sum']"
            ]
          },
          "metadata": {},
          "execution_count": 90
        }
      ],
      "source": [
        "# Make the recommendation for the song with title 'Learn To Fly'\n",
        "recommendations('Learn To Fly', similar_songs)"
      ]
    },
    {
      "cell_type": "code",
      "source": [
        "df_small[(df_small.index == \"Learn To Fly\") |(df_small.index == \"Big Me\") | (df_small.index == \"Everlong\") \n",
        "| (df_small.index == \"The Pretender\")| (df_small.index == \"Just Lose It\") | (df_small.index == \"Nothing Better (Album)\")\n",
        "| (df_small.index == \"From Left To Right\")| (df_small.index == \"Lifespan Of A Fly\")| (df_small.index == \"Campus (Album)\")\n",
        "| (df_small.index == \"Last Day Of Our Love\")| (df_small.index == \"Lump Sum\")] "
      ],
      "metadata": {
        "id": "d53GIcY0oNjF",
        "colab": {
          "base_uri": "https://localhost:8080/",
          "height": 426
        },
        "outputId": "d64a75bc-be85-4ce2-cf9a-1824a66bf064"
      },
      "execution_count": 91,
      "outputs": [
        {
          "output_type": "execute_result",
          "data": {
            "text/plain": [
              "                        user_id  song_id  play_count  \\\n",
              "title                                                  \n",
              "Learn To Fly              75901     1188           2   \n",
              "Just Lose It                587     8268           2   \n",
              "The Pretender             49549     6525           2   \n",
              "From Left To Right         6901     4739           2   \n",
              "Everlong                  41101     9249           2   \n",
              "Lump Sum                  75901     7057           2   \n",
              "Nothing Better (Album)    45386     1994           5   \n",
              "Last Day Of Our Love      72044      731           2   \n",
              "Campus (Album)            56230     1044           3   \n",
              "Big Me                    75901     7091           3   \n",
              "Lifespan Of A Fly         42536     3101           4   \n",
              "\n",
              "                                                                     text  \n",
              "title                                                                      \n",
              "Learn To Fly            Foo Fighters There Is Nothing Left To Lose Lea...  \n",
              "Just Lose It                             Eminem Curtain Call Just Lose It  \n",
              "The Pretender           Foo Fighters Echoes_ Silence_ Patience & Grace...  \n",
              "From Left To Right                     Boom Bip Corymb From Left To Right  \n",
              "Everlong                Foo Fighters The Colour And The Shape (Special...  \n",
              "Lump Sum                          Bon Iver For Emma_ Forever Ago Lump Sum  \n",
              "Nothing Better (Album)      Postal Service Give Up Nothing Better (Album)  \n",
              "Last Day Of Our Love    the bird and the bee One Too Many Hearts Last ...  \n",
              "Campus (Album)             Vampire Weekend Vampire Weekend Campus (Album)  \n",
              "Big Me                                   Foo Fighters Foo Fighters Big Me  \n",
              "Lifespan Of A Fly       the bird and the bee Ray Guns Are Not Just The...  "
            ],
            "text/html": [
              "\n",
              "  <div id=\"df-c8fc9691-1cad-4157-bb66-0b90434b06e8\">\n",
              "    <div class=\"colab-df-container\">\n",
              "      <div>\n",
              "<style scoped>\n",
              "    .dataframe tbody tr th:only-of-type {\n",
              "        vertical-align: middle;\n",
              "    }\n",
              "\n",
              "    .dataframe tbody tr th {\n",
              "        vertical-align: top;\n",
              "    }\n",
              "\n",
              "    .dataframe thead th {\n",
              "        text-align: right;\n",
              "    }\n",
              "</style>\n",
              "<table border=\"1\" class=\"dataframe\">\n",
              "  <thead>\n",
              "    <tr style=\"text-align: right;\">\n",
              "      <th></th>\n",
              "      <th>user_id</th>\n",
              "      <th>song_id</th>\n",
              "      <th>play_count</th>\n",
              "      <th>text</th>\n",
              "    </tr>\n",
              "    <tr>\n",
              "      <th>title</th>\n",
              "      <th></th>\n",
              "      <th></th>\n",
              "      <th></th>\n",
              "      <th></th>\n",
              "    </tr>\n",
              "  </thead>\n",
              "  <tbody>\n",
              "    <tr>\n",
              "      <th>Learn To Fly</th>\n",
              "      <td>75901</td>\n",
              "      <td>1188</td>\n",
              "      <td>2</td>\n",
              "      <td>Foo Fighters There Is Nothing Left To Lose Lea...</td>\n",
              "    </tr>\n",
              "    <tr>\n",
              "      <th>Just Lose It</th>\n",
              "      <td>587</td>\n",
              "      <td>8268</td>\n",
              "      <td>2</td>\n",
              "      <td>Eminem Curtain Call Just Lose It</td>\n",
              "    </tr>\n",
              "    <tr>\n",
              "      <th>The Pretender</th>\n",
              "      <td>49549</td>\n",
              "      <td>6525</td>\n",
              "      <td>2</td>\n",
              "      <td>Foo Fighters Echoes_ Silence_ Patience &amp; Grace...</td>\n",
              "    </tr>\n",
              "    <tr>\n",
              "      <th>From Left To Right</th>\n",
              "      <td>6901</td>\n",
              "      <td>4739</td>\n",
              "      <td>2</td>\n",
              "      <td>Boom Bip Corymb From Left To Right</td>\n",
              "    </tr>\n",
              "    <tr>\n",
              "      <th>Everlong</th>\n",
              "      <td>41101</td>\n",
              "      <td>9249</td>\n",
              "      <td>2</td>\n",
              "      <td>Foo Fighters The Colour And The Shape (Special...</td>\n",
              "    </tr>\n",
              "    <tr>\n",
              "      <th>Lump Sum</th>\n",
              "      <td>75901</td>\n",
              "      <td>7057</td>\n",
              "      <td>2</td>\n",
              "      <td>Bon Iver For Emma_ Forever Ago Lump Sum</td>\n",
              "    </tr>\n",
              "    <tr>\n",
              "      <th>Nothing Better (Album)</th>\n",
              "      <td>45386</td>\n",
              "      <td>1994</td>\n",
              "      <td>5</td>\n",
              "      <td>Postal Service Give Up Nothing Better (Album)</td>\n",
              "    </tr>\n",
              "    <tr>\n",
              "      <th>Last Day Of Our Love</th>\n",
              "      <td>72044</td>\n",
              "      <td>731</td>\n",
              "      <td>2</td>\n",
              "      <td>the bird and the bee One Too Many Hearts Last ...</td>\n",
              "    </tr>\n",
              "    <tr>\n",
              "      <th>Campus (Album)</th>\n",
              "      <td>56230</td>\n",
              "      <td>1044</td>\n",
              "      <td>3</td>\n",
              "      <td>Vampire Weekend Vampire Weekend Campus (Album)</td>\n",
              "    </tr>\n",
              "    <tr>\n",
              "      <th>Big Me</th>\n",
              "      <td>75901</td>\n",
              "      <td>7091</td>\n",
              "      <td>3</td>\n",
              "      <td>Foo Fighters Foo Fighters Big Me</td>\n",
              "    </tr>\n",
              "    <tr>\n",
              "      <th>Lifespan Of A Fly</th>\n",
              "      <td>42536</td>\n",
              "      <td>3101</td>\n",
              "      <td>4</td>\n",
              "      <td>the bird and the bee Ray Guns Are Not Just The...</td>\n",
              "    </tr>\n",
              "  </tbody>\n",
              "</table>\n",
              "</div>\n",
              "      <button class=\"colab-df-convert\" onclick=\"convertToInteractive('df-c8fc9691-1cad-4157-bb66-0b90434b06e8')\"\n",
              "              title=\"Convert this dataframe to an interactive table.\"\n",
              "              style=\"display:none;\">\n",
              "        \n",
              "  <svg xmlns=\"http://www.w3.org/2000/svg\" height=\"24px\"viewBox=\"0 0 24 24\"\n",
              "       width=\"24px\">\n",
              "    <path d=\"M0 0h24v24H0V0z\" fill=\"none\"/>\n",
              "    <path d=\"M18.56 5.44l.94 2.06.94-2.06 2.06-.94-2.06-.94-.94-2.06-.94 2.06-2.06.94zm-11 1L8.5 8.5l.94-2.06 2.06-.94-2.06-.94L8.5 2.5l-.94 2.06-2.06.94zm10 10l.94 2.06.94-2.06 2.06-.94-2.06-.94-.94-2.06-.94 2.06-2.06.94z\"/><path d=\"M17.41 7.96l-1.37-1.37c-.4-.4-.92-.59-1.43-.59-.52 0-1.04.2-1.43.59L10.3 9.45l-7.72 7.72c-.78.78-.78 2.05 0 2.83L4 21.41c.39.39.9.59 1.41.59.51 0 1.02-.2 1.41-.59l7.78-7.78 2.81-2.81c.8-.78.8-2.07 0-2.86zM5.41 20L4 18.59l7.72-7.72 1.47 1.35L5.41 20z\"/>\n",
              "  </svg>\n",
              "      </button>\n",
              "      \n",
              "  <style>\n",
              "    .colab-df-container {\n",
              "      display:flex;\n",
              "      flex-wrap:wrap;\n",
              "      gap: 12px;\n",
              "    }\n",
              "\n",
              "    .colab-df-convert {\n",
              "      background-color: #E8F0FE;\n",
              "      border: none;\n",
              "      border-radius: 50%;\n",
              "      cursor: pointer;\n",
              "      display: none;\n",
              "      fill: #1967D2;\n",
              "      height: 32px;\n",
              "      padding: 0 0 0 0;\n",
              "      width: 32px;\n",
              "    }\n",
              "\n",
              "    .colab-df-convert:hover {\n",
              "      background-color: #E2EBFA;\n",
              "      box-shadow: 0px 1px 2px rgba(60, 64, 67, 0.3), 0px 1px 3px 1px rgba(60, 64, 67, 0.15);\n",
              "      fill: #174EA6;\n",
              "    }\n",
              "\n",
              "    [theme=dark] .colab-df-convert {\n",
              "      background-color: #3B4455;\n",
              "      fill: #D2E3FC;\n",
              "    }\n",
              "\n",
              "    [theme=dark] .colab-df-convert:hover {\n",
              "      background-color: #434B5C;\n",
              "      box-shadow: 0px 1px 3px 1px rgba(0, 0, 0, 0.15);\n",
              "      filter: drop-shadow(0px 1px 2px rgba(0, 0, 0, 0.3));\n",
              "      fill: #FFFFFF;\n",
              "    }\n",
              "  </style>\n",
              "\n",
              "      <script>\n",
              "        const buttonEl =\n",
              "          document.querySelector('#df-c8fc9691-1cad-4157-bb66-0b90434b06e8 button.colab-df-convert');\n",
              "        buttonEl.style.display =\n",
              "          google.colab.kernel.accessAllowed ? 'block' : 'none';\n",
              "\n",
              "        async function convertToInteractive(key) {\n",
              "          const element = document.querySelector('#df-c8fc9691-1cad-4157-bb66-0b90434b06e8');\n",
              "          const dataTable =\n",
              "            await google.colab.kernel.invokeFunction('convertToInteractive',\n",
              "                                                     [key], {});\n",
              "          if (!dataTable) return;\n",
              "\n",
              "          const docLinkHtml = 'Like what you see? Visit the ' +\n",
              "            '<a target=\"_blank\" href=https://colab.research.google.com/notebooks/data_table.ipynb>data table notebook</a>'\n",
              "            + ' to learn more about interactive tables.';\n",
              "          element.innerHTML = '';\n",
              "          dataTable['output_type'] = 'display_data';\n",
              "          await google.colab.output.renderOutput(dataTable, element);\n",
              "          const docLink = document.createElement('div');\n",
              "          docLink.innerHTML = docLinkHtml;\n",
              "          element.appendChild(docLink);\n",
              "        }\n",
              "      </script>\n",
              "    </div>\n",
              "  </div>\n",
              "  "
            ]
          },
          "metadata": {},
          "execution_count": 91
        }
      ]
    },
    {
      "cell_type": "code",
      "source": [
        "df_recommended = df_final[[\"title\",\"artist_name\"]]\n",
        "df_recommended[(df_recommended.title == \"Learn To Fly\") |(df_recommended.title == \"Big Me\") | (df_recommended.title == \"Everlong\") \n",
        "| (df_recommended.title == \"The Pretender\")| (df_recommended.title == \"Just Lose It\") | (df_recommended.title == \"Nothing Better (Album)\")\n",
        "| (df_recommended.title == \"From Left To Right\")| (df_recommended.title == \"Lifespan Of A Fly\")| (df_recommended.title == \"Campus (Album)\")\n",
        "| (df_recommended.title == \"Last Day Of Our Love\")| (df_recommended.title == \"Lump Sum\")].drop_duplicates(\"title\")"
      ],
      "metadata": {
        "id": "JUHKbxOd0lEc",
        "colab": {
          "base_uri": "https://localhost:8080/",
          "height": 394
        },
        "outputId": "73682bb2-0bce-4abd-b41f-38a6b7a4d962"
      },
      "execution_count": 92,
      "outputs": [
        {
          "output_type": "execute_result",
          "data": {
            "text/plain": [
              "                        title           artist_name\n",
              "190              Learn To Fly          Foo Fighters\n",
              "2836             Just Lose It                Eminem\n",
              "31345           The Pretender          Foo Fighters\n",
              "41511      From Left To Right              Boom Bip\n",
              "43633                Everlong          Foo Fighters\n",
              "45880                Lump Sum              Bon Iver\n",
              "46145  Nothing Better (Album)        Postal Service\n",
              "46729    Last Day Of Our Love  the bird and the bee\n",
              "46775          Campus (Album)       Vampire Weekend\n",
              "51303                  Big Me          Foo Fighters\n",
              "54831       Lifespan Of A Fly  the bird and the bee"
            ],
            "text/html": [
              "\n",
              "  <div id=\"df-03434493-ccf7-4ecd-9c49-ec3a585e5c08\">\n",
              "    <div class=\"colab-df-container\">\n",
              "      <div>\n",
              "<style scoped>\n",
              "    .dataframe tbody tr th:only-of-type {\n",
              "        vertical-align: middle;\n",
              "    }\n",
              "\n",
              "    .dataframe tbody tr th {\n",
              "        vertical-align: top;\n",
              "    }\n",
              "\n",
              "    .dataframe thead th {\n",
              "        text-align: right;\n",
              "    }\n",
              "</style>\n",
              "<table border=\"1\" class=\"dataframe\">\n",
              "  <thead>\n",
              "    <tr style=\"text-align: right;\">\n",
              "      <th></th>\n",
              "      <th>title</th>\n",
              "      <th>artist_name</th>\n",
              "    </tr>\n",
              "  </thead>\n",
              "  <tbody>\n",
              "    <tr>\n",
              "      <th>190</th>\n",
              "      <td>Learn To Fly</td>\n",
              "      <td>Foo Fighters</td>\n",
              "    </tr>\n",
              "    <tr>\n",
              "      <th>2836</th>\n",
              "      <td>Just Lose It</td>\n",
              "      <td>Eminem</td>\n",
              "    </tr>\n",
              "    <tr>\n",
              "      <th>31345</th>\n",
              "      <td>The Pretender</td>\n",
              "      <td>Foo Fighters</td>\n",
              "    </tr>\n",
              "    <tr>\n",
              "      <th>41511</th>\n",
              "      <td>From Left To Right</td>\n",
              "      <td>Boom Bip</td>\n",
              "    </tr>\n",
              "    <tr>\n",
              "      <th>43633</th>\n",
              "      <td>Everlong</td>\n",
              "      <td>Foo Fighters</td>\n",
              "    </tr>\n",
              "    <tr>\n",
              "      <th>45880</th>\n",
              "      <td>Lump Sum</td>\n",
              "      <td>Bon Iver</td>\n",
              "    </tr>\n",
              "    <tr>\n",
              "      <th>46145</th>\n",
              "      <td>Nothing Better (Album)</td>\n",
              "      <td>Postal Service</td>\n",
              "    </tr>\n",
              "    <tr>\n",
              "      <th>46729</th>\n",
              "      <td>Last Day Of Our Love</td>\n",
              "      <td>the bird and the bee</td>\n",
              "    </tr>\n",
              "    <tr>\n",
              "      <th>46775</th>\n",
              "      <td>Campus (Album)</td>\n",
              "      <td>Vampire Weekend</td>\n",
              "    </tr>\n",
              "    <tr>\n",
              "      <th>51303</th>\n",
              "      <td>Big Me</td>\n",
              "      <td>Foo Fighters</td>\n",
              "    </tr>\n",
              "    <tr>\n",
              "      <th>54831</th>\n",
              "      <td>Lifespan Of A Fly</td>\n",
              "      <td>the bird and the bee</td>\n",
              "    </tr>\n",
              "  </tbody>\n",
              "</table>\n",
              "</div>\n",
              "      <button class=\"colab-df-convert\" onclick=\"convertToInteractive('df-03434493-ccf7-4ecd-9c49-ec3a585e5c08')\"\n",
              "              title=\"Convert this dataframe to an interactive table.\"\n",
              "              style=\"display:none;\">\n",
              "        \n",
              "  <svg xmlns=\"http://www.w3.org/2000/svg\" height=\"24px\"viewBox=\"0 0 24 24\"\n",
              "       width=\"24px\">\n",
              "    <path d=\"M0 0h24v24H0V0z\" fill=\"none\"/>\n",
              "    <path d=\"M18.56 5.44l.94 2.06.94-2.06 2.06-.94-2.06-.94-.94-2.06-.94 2.06-2.06.94zm-11 1L8.5 8.5l.94-2.06 2.06-.94-2.06-.94L8.5 2.5l-.94 2.06-2.06.94zm10 10l.94 2.06.94-2.06 2.06-.94-2.06-.94-.94-2.06-.94 2.06-2.06.94z\"/><path d=\"M17.41 7.96l-1.37-1.37c-.4-.4-.92-.59-1.43-.59-.52 0-1.04.2-1.43.59L10.3 9.45l-7.72 7.72c-.78.78-.78 2.05 0 2.83L4 21.41c.39.39.9.59 1.41.59.51 0 1.02-.2 1.41-.59l7.78-7.78 2.81-2.81c.8-.78.8-2.07 0-2.86zM5.41 20L4 18.59l7.72-7.72 1.47 1.35L5.41 20z\"/>\n",
              "  </svg>\n",
              "      </button>\n",
              "      \n",
              "  <style>\n",
              "    .colab-df-container {\n",
              "      display:flex;\n",
              "      flex-wrap:wrap;\n",
              "      gap: 12px;\n",
              "    }\n",
              "\n",
              "    .colab-df-convert {\n",
              "      background-color: #E8F0FE;\n",
              "      border: none;\n",
              "      border-radius: 50%;\n",
              "      cursor: pointer;\n",
              "      display: none;\n",
              "      fill: #1967D2;\n",
              "      height: 32px;\n",
              "      padding: 0 0 0 0;\n",
              "      width: 32px;\n",
              "    }\n",
              "\n",
              "    .colab-df-convert:hover {\n",
              "      background-color: #E2EBFA;\n",
              "      box-shadow: 0px 1px 2px rgba(60, 64, 67, 0.3), 0px 1px 3px 1px rgba(60, 64, 67, 0.15);\n",
              "      fill: #174EA6;\n",
              "    }\n",
              "\n",
              "    [theme=dark] .colab-df-convert {\n",
              "      background-color: #3B4455;\n",
              "      fill: #D2E3FC;\n",
              "    }\n",
              "\n",
              "    [theme=dark] .colab-df-convert:hover {\n",
              "      background-color: #434B5C;\n",
              "      box-shadow: 0px 1px 3px 1px rgba(0, 0, 0, 0.15);\n",
              "      filter: drop-shadow(0px 1px 2px rgba(0, 0, 0, 0.3));\n",
              "      fill: #FFFFFF;\n",
              "    }\n",
              "  </style>\n",
              "\n",
              "      <script>\n",
              "        const buttonEl =\n",
              "          document.querySelector('#df-03434493-ccf7-4ecd-9c49-ec3a585e5c08 button.colab-df-convert');\n",
              "        buttonEl.style.display =\n",
              "          google.colab.kernel.accessAllowed ? 'block' : 'none';\n",
              "\n",
              "        async function convertToInteractive(key) {\n",
              "          const element = document.querySelector('#df-03434493-ccf7-4ecd-9c49-ec3a585e5c08');\n",
              "          const dataTable =\n",
              "            await google.colab.kernel.invokeFunction('convertToInteractive',\n",
              "                                                     [key], {});\n",
              "          if (!dataTable) return;\n",
              "\n",
              "          const docLinkHtml = 'Like what you see? Visit the ' +\n",
              "            '<a target=\"_blank\" href=https://colab.research.google.com/notebooks/data_table.ipynb>data table notebook</a>'\n",
              "            + ' to learn more about interactive tables.';\n",
              "          element.innerHTML = '';\n",
              "          dataTable['output_type'] = 'display_data';\n",
              "          await google.colab.output.renderOutput(dataTable, element);\n",
              "          const docLink = document.createElement('div');\n",
              "          docLink.innerHTML = docLinkHtml;\n",
              "          element.appendChild(docLink);\n",
              "        }\n",
              "      </script>\n",
              "    </div>\n",
              "  </div>\n",
              "  "
            ]
          },
          "metadata": {},
          "execution_count": 92
        }
      ]
    },
    {
      "cell_type": "markdown",
      "source": [
        "**Observations and Insights:** Based on the recommended songs and information, the model recommends **three songs from \"Foo Fighters\" who is the artist of \"Learn to Fly\".** The model also recommends two songs from \"the bird and the bee\". Hence, the resulting recommendation system is working well. "
      ],
      "metadata": {
        "id": "UQ7iI5QJ0oem"
      }
    },
    {
      "cell_type": "markdown",
      "metadata": {
        "id": "6k0w-Ci6vYY4"
      },
      "source": [
        "## **Conclusion and Recommendations:** \n",
        "\n",
        "- **Refined Insights -** What are the most meaningful insights from the data relevant to the problem? <br> \n",
        "  - The data is filtered so that it contains records of played more than once but less than 5 times \n",
        "    - This is to exclude the case where one user played a particular song repeatedly and the case where users accidentally played a song \n",
        "  - The most meaningful insights from the data is that the number of played is well distributed across multiple songs \n",
        "    - Song \"4639\" was played more than 200 times as a top 30 song, while song \"6293\" played over 500 times. \n",
        "\n",
        "- **Comparison of various techniques and their relative performance -** How do different techniques perform? Which one is performing relatively better? Is there scope to improve the performance further?\n",
        "  - Based on F_1 score, the performance of cluster-based model (0.992) is worse than other models (0.998), although it is still very high\n",
        "  - Based on RMSE of the model, the model-based baseline model (0.959) performs the best\n",
        "  - Other models have RMSEs larger than 1\n",
        "  - \"Predicted play count\" shows the prediction of play count for song 1671 whose actual play count is 2\n",
        "  - Based on F_1 scores, the cluster-based model's performance was the worst, but the model's predictions of play count (2.22 and 2.28) are the closest to 2 \n",
        "  - The list on the left table shows recommended songs similar to \"Learn To Fly\" by \"Foo Fighters\", using content-based recommendation system\n",
        "  - We can say that the system works well, as it recommends three of Foo Fighters' songs\n",
        "\n",
        "- **Proposal for the final solution design -** What model do you propose to be adopted? Why is this the best solution to adopt?\n",
        "  - Rank-based, similarity-based, model-based, and cluster-based models  all have high F_1 scores that are larger than 0.99 \n",
        "  - Content-based model recommends songs that have similar properties to the target song \n",
        "  - Since the model-based baseline recommendation system performs the best with the lowest RMSE, I choose it as a final model\n",
        "  - When we want to see recommendations that are similar to a particular song, I will use content-based model to provide a list of songs\n"
      ]
    }
  ]
}